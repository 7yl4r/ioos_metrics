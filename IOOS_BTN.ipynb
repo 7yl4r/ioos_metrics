{
  "cells": [
    {
      "cell_type": "markdown",
      "metadata": {
        "id": "view-in-github",
        "colab_type": "text"
      },
      "source": [
        "<a href=\"https://colab.research.google.com/github/MathewBiddle/ioos_by_the_numbers/blob/main/IOOS_BTN.ipynb\" target=\"_parent\"><img src=\"https://colab.research.google.com/assets/colab-badge.svg\" alt=\"Open In Colab\"/></a>"
      ]
    },
    {
      "cell_type": "markdown",
      "metadata": {
        "id": "98GUIWOu35mJ"
      },
      "source": [
        "# Creating the IOOS By The Numbers\n",
        "\n",
        "[Website](https://ioos.noaa.gov/about/ioos-by-the-numbers/)\n",
        "\n",
        "[Spreadsheet](https://docs.google.com/spreadsheets/d/1AUfXmc3OwxpVdeMNjZyTGWjyR4ku3kRD5eexNrMORnI/edit#gid=516871794)"
      ]
    },
    {
      "cell_type": "code",
      "execution_count": 51,
      "metadata": {
        "id": "-afzN9SfS5tk",
        "outputId": "d9535bd9-7945-4e8f-96e7-5ff8200c4b62",
        "colab": {
          "base_uri": "https://localhost:8080/",
          "height": 49
        }
      },
      "outputs": [
        {
          "output_type": "execute_result",
          "data": {
            "text/html": [
              "\n",
              "  <div id=\"df-e7c0642b-5253-4f2a-bdcf-3e0cd45ca597\">\n",
              "    <div class=\"colab-df-container\">\n",
              "      <div>\n",
              "<style scoped>\n",
              "    .dataframe tbody tr th:only-of-type {\n",
              "        vertical-align: middle;\n",
              "    }\n",
              "\n",
              "    .dataframe tbody tr th {\n",
              "        vertical-align: top;\n",
              "    }\n",
              "\n",
              "    .dataframe thead th {\n",
              "        text-align: right;\n",
              "    }\n",
              "</style>\n",
              "<table border=\"1\" class=\"dataframe\">\n",
              "  <thead>\n",
              "    <tr style=\"text-align: right;\">\n",
              "      <th></th>\n",
              "      <th>category</th>\n",
              "      <th>value</th>\n",
              "      <th>date</th>\n",
              "    </tr>\n",
              "  </thead>\n",
              "  <tbody>\n",
              "  </tbody>\n",
              "</table>\n",
              "</div>\n",
              "      <button class=\"colab-df-convert\" onclick=\"convertToInteractive('df-e7c0642b-5253-4f2a-bdcf-3e0cd45ca597')\"\n",
              "              title=\"Convert this dataframe to an interactive table.\"\n",
              "              style=\"display:none;\">\n",
              "        \n",
              "  <svg xmlns=\"http://www.w3.org/2000/svg\" height=\"24px\"viewBox=\"0 0 24 24\"\n",
              "       width=\"24px\">\n",
              "    <path d=\"M0 0h24v24H0V0z\" fill=\"none\"/>\n",
              "    <path d=\"M18.56 5.44l.94 2.06.94-2.06 2.06-.94-2.06-.94-.94-2.06-.94 2.06-2.06.94zm-11 1L8.5 8.5l.94-2.06 2.06-.94-2.06-.94L8.5 2.5l-.94 2.06-2.06.94zm10 10l.94 2.06.94-2.06 2.06-.94-2.06-.94-.94-2.06-.94 2.06-2.06.94z\"/><path d=\"M17.41 7.96l-1.37-1.37c-.4-.4-.92-.59-1.43-.59-.52 0-1.04.2-1.43.59L10.3 9.45l-7.72 7.72c-.78.78-.78 2.05 0 2.83L4 21.41c.39.39.9.59 1.41.59.51 0 1.02-.2 1.41-.59l7.78-7.78 2.81-2.81c.8-.78.8-2.07 0-2.86zM5.41 20L4 18.59l7.72-7.72 1.47 1.35L5.41 20z\"/>\n",
              "  </svg>\n",
              "      </button>\n",
              "      \n",
              "  <style>\n",
              "    .colab-df-container {\n",
              "      display:flex;\n",
              "      flex-wrap:wrap;\n",
              "      gap: 12px;\n",
              "    }\n",
              "\n",
              "    .colab-df-convert {\n",
              "      background-color: #E8F0FE;\n",
              "      border: none;\n",
              "      border-radius: 50%;\n",
              "      cursor: pointer;\n",
              "      display: none;\n",
              "      fill: #1967D2;\n",
              "      height: 32px;\n",
              "      padding: 0 0 0 0;\n",
              "      width: 32px;\n",
              "    }\n",
              "\n",
              "    .colab-df-convert:hover {\n",
              "      background-color: #E2EBFA;\n",
              "      box-shadow: 0px 1px 2px rgba(60, 64, 67, 0.3), 0px 1px 3px 1px rgba(60, 64, 67, 0.15);\n",
              "      fill: #174EA6;\n",
              "    }\n",
              "\n",
              "    [theme=dark] .colab-df-convert {\n",
              "      background-color: #3B4455;\n",
              "      fill: #D2E3FC;\n",
              "    }\n",
              "\n",
              "    [theme=dark] .colab-df-convert:hover {\n",
              "      background-color: #434B5C;\n",
              "      box-shadow: 0px 1px 3px 1px rgba(0, 0, 0, 0.15);\n",
              "      filter: drop-shadow(0px 1px 2px rgba(0, 0, 0, 0.3));\n",
              "      fill: #FFFFFF;\n",
              "    }\n",
              "  </style>\n",
              "\n",
              "      <script>\n",
              "        const buttonEl =\n",
              "          document.querySelector('#df-e7c0642b-5253-4f2a-bdcf-3e0cd45ca597 button.colab-df-convert');\n",
              "        buttonEl.style.display =\n",
              "          google.colab.kernel.accessAllowed ? 'block' : 'none';\n",
              "\n",
              "        async function convertToInteractive(key) {\n",
              "          const element = document.querySelector('#df-e7c0642b-5253-4f2a-bdcf-3e0cd45ca597');\n",
              "          const dataTable =\n",
              "            await google.colab.kernel.invokeFunction('convertToInteractive',\n",
              "                                                     [key], {});\n",
              "          if (!dataTable) return;\n",
              "\n",
              "          const docLinkHtml = 'Like what you see? Visit the ' +\n",
              "            '<a target=\"_blank\" href=https://colab.research.google.com/notebooks/data_table.ipynb>data table notebook</a>'\n",
              "            + ' to learn more about interactive tables.';\n",
              "          element.innerHTML = '';\n",
              "          dataTable['output_type'] = 'display_data';\n",
              "          await google.colab.output.renderOutput(dataTable, element);\n",
              "          const docLink = document.createElement('div');\n",
              "          docLink.innerHTML = docLinkHtml;\n",
              "          element.appendChild(docLink);\n",
              "        }\n",
              "      </script>\n",
              "    </div>\n",
              "  </div>\n",
              "  "
            ],
            "text/plain": [
              "Empty DataFrame\n",
              "Columns: [category, value, date]\n",
              "Index: []"
            ]
          },
          "metadata": {},
          "execution_count": 51
        }
      ],
      "source": [
        "import pandas as pd\n",
        "today = pd.to_datetime\n",
        "ioos_btn_df = pd.DataFrame(columns=['category','value','date'])\n",
        "\n",
        "today = pd.Timestamp.today()\n",
        "\n",
        "ioos_btn_df"
      ]
    },
    {
      "cell_type": "markdown",
      "metadata": {
        "id": "rMkHuVRJEGKq"
      },
      "source": [
        "## Federal Partners\n",
        "\n",
        "ICOOS Act/COORA"
      ]
    },
    {
      "cell_type": "code",
      "source": [
        "fed_partners = 17\n",
        "\n",
        "d = {'category':['Federal Partners'],'value':[fed_partners],'date':[today]}\n",
        "\n",
        "fed_part = pd.DataFrame(d)\n",
        "\n",
        "ioos_btn_df = pd.concat([ioos_btn_df,df_fed_part])"
      ],
      "metadata": {
        "id": "jXMhi3tRQvMd"
      },
      "execution_count": 60,
      "outputs": []
    },
    {
      "cell_type": "markdown",
      "metadata": {
        "id": "elYWAAZSEGKq"
      },
      "source": [
        "## Regional Associations"
      ]
    },
    {
      "cell_type": "code",
      "source": [
        "regional_associations = 11\n",
        "\n",
        "d = {'category':['Regional Associations'], 'value':[regional_associations], 'date':[today]}\n",
        "\n",
        "df_ra = pd.DataFrame(d)\n",
        "\n",
        "ioos_btn_df = pd.concat([ioos_btn_df,df_ra])\n",
        "\n",
        "ioos_btn_df"
      ],
      "metadata": {
        "id": "YwOg7gB8QY6J",
        "outputId": "c9d05978-56e2-42b7-94f8-54edd1213f7d",
        "colab": {
          "base_uri": "https://localhost:8080/",
          "height": 143
        }
      },
      "execution_count": 61,
      "outputs": [
        {
          "output_type": "execute_result",
          "data": {
            "text/html": [
              "\n",
              "  <div id=\"df-99777588-a9ab-4cce-9c8c-e8b08b70f7d4\">\n",
              "    <div class=\"colab-df-container\">\n",
              "      <div>\n",
              "<style scoped>\n",
              "    .dataframe tbody tr th:only-of-type {\n",
              "        vertical-align: middle;\n",
              "    }\n",
              "\n",
              "    .dataframe tbody tr th {\n",
              "        vertical-align: top;\n",
              "    }\n",
              "\n",
              "    .dataframe thead th {\n",
              "        text-align: right;\n",
              "    }\n",
              "</style>\n",
              "<table border=\"1\" class=\"dataframe\">\n",
              "  <thead>\n",
              "    <tr style=\"text-align: right;\">\n",
              "      <th></th>\n",
              "      <th>category</th>\n",
              "      <th>value</th>\n",
              "      <th>date</th>\n",
              "    </tr>\n",
              "  </thead>\n",
              "  <tbody>\n",
              "    <tr>\n",
              "      <th>0</th>\n",
              "      <td>Regional Associations</td>\n",
              "      <td>11</td>\n",
              "      <td>&lt;function to_datetime at 0x7fe33ccb2830&gt;</td>\n",
              "    </tr>\n",
              "    <tr>\n",
              "      <th>0</th>\n",
              "      <td>Federal Partners</td>\n",
              "      <td>17</td>\n",
              "      <td>&lt;function to_datetime at 0x7fe33ccb2830&gt;</td>\n",
              "    </tr>\n",
              "    <tr>\n",
              "      <th>0</th>\n",
              "      <td>Regional Associations</td>\n",
              "      <td>11</td>\n",
              "      <td>&lt;function to_datetime at 0x7fe33ccb2830&gt;</td>\n",
              "    </tr>\n",
              "  </tbody>\n",
              "</table>\n",
              "</div>\n",
              "      <button class=\"colab-df-convert\" onclick=\"convertToInteractive('df-99777588-a9ab-4cce-9c8c-e8b08b70f7d4')\"\n",
              "              title=\"Convert this dataframe to an interactive table.\"\n",
              "              style=\"display:none;\">\n",
              "        \n",
              "  <svg xmlns=\"http://www.w3.org/2000/svg\" height=\"24px\"viewBox=\"0 0 24 24\"\n",
              "       width=\"24px\">\n",
              "    <path d=\"M0 0h24v24H0V0z\" fill=\"none\"/>\n",
              "    <path d=\"M18.56 5.44l.94 2.06.94-2.06 2.06-.94-2.06-.94-.94-2.06-.94 2.06-2.06.94zm-11 1L8.5 8.5l.94-2.06 2.06-.94-2.06-.94L8.5 2.5l-.94 2.06-2.06.94zm10 10l.94 2.06.94-2.06 2.06-.94-2.06-.94-.94-2.06-.94 2.06-2.06.94z\"/><path d=\"M17.41 7.96l-1.37-1.37c-.4-.4-.92-.59-1.43-.59-.52 0-1.04.2-1.43.59L10.3 9.45l-7.72 7.72c-.78.78-.78 2.05 0 2.83L4 21.41c.39.39.9.59 1.41.59.51 0 1.02-.2 1.41-.59l7.78-7.78 2.81-2.81c.8-.78.8-2.07 0-2.86zM5.41 20L4 18.59l7.72-7.72 1.47 1.35L5.41 20z\"/>\n",
              "  </svg>\n",
              "      </button>\n",
              "      \n",
              "  <style>\n",
              "    .colab-df-container {\n",
              "      display:flex;\n",
              "      flex-wrap:wrap;\n",
              "      gap: 12px;\n",
              "    }\n",
              "\n",
              "    .colab-df-convert {\n",
              "      background-color: #E8F0FE;\n",
              "      border: none;\n",
              "      border-radius: 50%;\n",
              "      cursor: pointer;\n",
              "      display: none;\n",
              "      fill: #1967D2;\n",
              "      height: 32px;\n",
              "      padding: 0 0 0 0;\n",
              "      width: 32px;\n",
              "    }\n",
              "\n",
              "    .colab-df-convert:hover {\n",
              "      background-color: #E2EBFA;\n",
              "      box-shadow: 0px 1px 2px rgba(60, 64, 67, 0.3), 0px 1px 3px 1px rgba(60, 64, 67, 0.15);\n",
              "      fill: #174EA6;\n",
              "    }\n",
              "\n",
              "    [theme=dark] .colab-df-convert {\n",
              "      background-color: #3B4455;\n",
              "      fill: #D2E3FC;\n",
              "    }\n",
              "\n",
              "    [theme=dark] .colab-df-convert:hover {\n",
              "      background-color: #434B5C;\n",
              "      box-shadow: 0px 1px 3px 1px rgba(0, 0, 0, 0.15);\n",
              "      filter: drop-shadow(0px 1px 2px rgba(0, 0, 0, 0.3));\n",
              "      fill: #FFFFFF;\n",
              "    }\n",
              "  </style>\n",
              "\n",
              "      <script>\n",
              "        const buttonEl =\n",
              "          document.querySelector('#df-99777588-a9ab-4cce-9c8c-e8b08b70f7d4 button.colab-df-convert');\n",
              "        buttonEl.style.display =\n",
              "          google.colab.kernel.accessAllowed ? 'block' : 'none';\n",
              "\n",
              "        async function convertToInteractive(key) {\n",
              "          const element = document.querySelector('#df-99777588-a9ab-4cce-9c8c-e8b08b70f7d4');\n",
              "          const dataTable =\n",
              "            await google.colab.kernel.invokeFunction('convertToInteractive',\n",
              "                                                     [key], {});\n",
              "          if (!dataTable) return;\n",
              "\n",
              "          const docLinkHtml = 'Like what you see? Visit the ' +\n",
              "            '<a target=\"_blank\" href=https://colab.research.google.com/notebooks/data_table.ipynb>data table notebook</a>'\n",
              "            + ' to learn more about interactive tables.';\n",
              "          element.innerHTML = '';\n",
              "          dataTable['output_type'] = 'display_data';\n",
              "          await google.colab.output.renderOutput(dataTable, element);\n",
              "          const docLink = document.createElement('div');\n",
              "          docLink.innerHTML = docLinkHtml;\n",
              "          element.appendChild(docLink);\n",
              "        }\n",
              "      </script>\n",
              "    </div>\n",
              "  </div>\n",
              "  "
            ],
            "text/plain": [
              "                category value                                      date\n",
              "0  Regional Associations    11  <function to_datetime at 0x7fe33ccb2830>\n",
              "0       Federal Partners    17  <function to_datetime at 0x7fe33ccb2830>\n",
              "0  Regional Associations    11  <function to_datetime at 0x7fe33ccb2830>"
            ]
          },
          "metadata": {},
          "execution_count": 61
        }
      ]
    },
    {
      "cell_type": "markdown",
      "metadata": {
        "id": "HsPUEyNJEGKq"
      },
      "source": [
        "## Coastal & Ocean Modeling Testbed\n",
        "Number of Projects"
      ]
    },
    {
      "cell_type": "code",
      "execution_count": 3,
      "metadata": {
        "id": "QufQXib2EGKr"
      },
      "outputs": [],
      "source": [
        ""
      ]
    },
    {
      "cell_type": "markdown",
      "metadata": {
        "id": "08BPt9_HqPzx"
      },
      "source": [
        "## HF Radar Installations\n",
        "\n",
        "From http://hfrnet.ucsd.edu/sitediag/stationList.php"
      ]
    },
    {
      "cell_type": "code",
      "execution_count": 4,
      "metadata": {
        "id": "Jh0A94gGTCy_",
        "outputId": "f7a5ba28-aba7-4300-ce79-0964489ff145",
        "colab": {
          "base_uri": "https://localhost:8080/"
        }
      },
      "outputs": [
        {
          "output_type": "stream",
          "name": "stdout",
          "text": [
            "HF Radar Installations: 178\n"
          ]
        }
      ],
      "source": [
        "url = 'http://hfrnet.ucsd.edu/sitediag/stationList.php?output=CSV'\n",
        "\n",
        "df_hfr = pd.read_csv(url)\n",
        "\n",
        "hfr_installations = df_hfr['Station'].unique().size\n",
        "\n",
        "print('HF Radar Installations:',hfr_installations)\n",
        "\n",
        "ioos_btn_df['HF Radar Stations'] = hfr_installations"
      ]
    },
    {
      "cell_type": "markdown",
      "metadata": {
        "id": "V-s6dYEZqvlt"
      },
      "source": [
        "## NGDAC Glider Days\n",
        "\n",
        "From https://gliders.ioos.us/erddap/info/index.html?page=1&itemsPerPage=1000\n",
        "\n",
        "Cumulative from 2008 - present\n",
        "\n"
      ]
    },
    {
      "cell_type": "code",
      "execution_count": 5,
      "metadata": {
        "id": "4YBCBGGKTGG3",
        "outputId": "0e3fbb7a-68b4-4e11-bb9c-3723e7e0a0b8",
        "colab": {
          "base_uri": "https://localhost:8080/"
        }
      },
      "outputs": [
        {
          "output_type": "stream",
          "name": "stdout",
          "text": [
            "Cumulative glider days: 75813\n"
          ]
        }
      ],
      "source": [
        "df_glider = pd.read_csv('https://gliders.ioos.us/erddap/tabledap/allDatasets.csvp?minTime%2CmaxTime')\n",
        "df_glider.dropna(\n",
        "    axis=0, \n",
        "    inplace=True,\n",
        "    )\n",
        "\n",
        "df_glider[['minTime (UTC)','maxTime (UTC)']] = df_glider[\n",
        "                                                         ['minTime (UTC)','maxTime (UTC)']\n",
        "                                                         ].apply(pd.to_datetime)\n",
        "\n",
        "df_glider['glider_days'] = (df_glider['maxTime (UTC)'] - df_glider['minTime (UTC)']).dt.days\n",
        "\n",
        "glider_days = df_glider['glider_days'].sum()\n",
        "\n",
        "print('Cumulative glider days:', glider_days)\n",
        "\n",
        "ioos_btn_df['NGDAC Glider Days'] = glider_days"
      ]
    },
    {
      "cell_type": "code",
      "execution_count": 6,
      "metadata": {
        "id": "fC0q963WEGKu"
      },
      "outputs": [],
      "source": [
        "# start_date = '2021-10-01'\n",
        "# end_date = '2021-12-31'\n",
        "\n",
        "# # find glider deployments between 10/01 and 12/31\n",
        "# glider_day_within = df_glider.loc[\n",
        "#     (df_glider['minTime (UTC)'] > pd.to_datetime(start_date,utc=True)) &\n",
        "#     (df_glider['maxTime (UTC)'] < pd.to_datetime(end_date,utc=True))\n",
        "# ]\n",
        "\n",
        "# # gliders that start before 10/01 and end after 12/31\n",
        "# glider_day_outside = df_glider.loc[\n",
        "#     (df_glider['minTime (UTC)'] < pd.to_datetime(start_date,utc=True)) &\n",
        "#     (df_glider['maxTime (UTC)'] > pd.to_datetime(end_date,utc=True))\n",
        "# ]\n",
        "\n",
        "# glider_day_outside.loc[:, 'maxTime (UTC)'] = pd.to_datetime(end_date, utc=True)\n",
        "# glider_day_outside.loc[:, 'minTime (UTC)'] = pd.to_datetime(start_date, utc=True)\n",
        "\n",
        "# # drop the ones from above as they will be duplicates in the next round of filtering\n",
        "# df_glider.drop(axis=0, index=glider_day_outside.index, inplace=True)\n",
        "\n",
        "# # Find gliders that start before 10/01 and end after 10/01\n",
        "# glider_day_lower = df_glider.loc[\n",
        "#     (df_glider['minTime (UTC)'] < pd.to_datetime(start_date,utc=True)) &\n",
        "#     (df_glider['maxTime (UTC)'] > pd.to_datetime(start_date,utc=True))\n",
        "# ]\n",
        "\n",
        "# glider_day_lower.loc[:,'minTime (UTC)'] = pd.to_datetime(start_date, utc=True)\n",
        "\n",
        "# # Find gliders that start before 12/31 and end after 12/31.\n",
        "# glider_day_upper = df_glider.loc[\n",
        "#     (df_glider['minTime (UTC)']<pd.to_datetime(end_date,utc=True)) &\n",
        "#     (df_glider['maxTime (UTC)']>pd.to_datetime(end_date,utc=True))\n",
        "# ]\n",
        "\n",
        "# glider_day_upper.loc[:,'maxTime (UTC)'] = pd.to_datetime(end_date, utc=True)\n",
        "\n",
        "# # Combine it all together into one DF.\n",
        "# glider_subset = pd.concat([glider_day_lower, \n",
        "#                            glider_day_within, \n",
        "#                            glider_day_upper, \n",
        "#                            glider_day_outside], \n",
        "#                           verify_integrity=True)\n",
        "\n",
        "# # Calculate the days between min time and max time.\n",
        "# glider_subset['glider_days'] = (glider_subset['maxTime (UTC)'] - glider_subset['minTime (UTC)']).dt.days\n",
        "\n",
        "# # Calculate total glider days.\n",
        "# glider_subset['glider_days'].sum()\n",
        "\n",
        "# print(\"Glider days between %s and %s: %s\" % (start_date,end_date,glider_subset['glider_days'].sum()))"
      ]
    },
    {
      "cell_type": "markdown",
      "metadata": {
        "id": "iYk1km3P861f"
      },
      "source": [
        "# National Platforms"
      ]
    },
    {
      "cell_type": "markdown",
      "metadata": {
        "id": "xGHalY-14iGB"
      },
      "source": [
        "### CO-OPS\n",
        "* https://opendap.co-ops.nos.noaa.gov/stations/index.jsp\n",
        "  * as xml: https://opendap.co-ops.nos.noaa.gov/stations/stationsXML.jsp\n",
        "* https://tidesandcurrents.noaa.gov/cdata/StationList?type=Current+Data&filter=active"
      ]
    },
    {
      "cell_type": "code",
      "execution_count": 7,
      "metadata": {
        "colab": {
          "base_uri": "https://localhost:8080/"
        },
        "id": "wZKANnz8sC5D",
        "outputId": "5b3972d4-3457-4181-c391-3577461bd8cd"
      },
      "outputs": [
        {
          "output_type": "stream",
          "name": "stdout",
          "text": [
            "All stations: 379\n",
            "Ports: 63\n"
          ]
        }
      ],
      "source": [
        "#from lxml import etree\n",
        "import requests\n",
        "\n",
        "xml = requests.get('https://opendap.co-ops.nos.noaa.gov/stations/stationsXML.jsp').text\n",
        "import re\n",
        "COOPS = sum(1 for _ in re.finditer(r'\\b%s\\b' % re.escape(\"station name\"), xml))\n",
        "print(\"All stations:\",COOPS)\n",
        "\n",
        "url = 'https://tidesandcurrents.noaa.gov/cdata/StationListFormat?type=Current+Data&filter=active&format=csv'\n",
        "\n",
        "df_coops = pd.read_csv(url)\n",
        "#print(df_coops[' Project'].unique())\n",
        "ports = df_coops[df_coops[' Project'].astype(str).str.contains('PORTS')].shape[0]\n",
        "print(\"Ports:\", ports)"
      ]
    },
    {
      "cell_type": "markdown",
      "metadata": {
        "id": "TmDAxLm24q7g"
      },
      "source": [
        "### NDBC\n",
        "https://www.ndbc.noaa.gov/wstat.shtml\tBuoys: 106 (103 base-funded); CMAN: 45"
      ]
    },
    {
      "cell_type": "code",
      "execution_count": 8,
      "metadata": {
        "colab": {
          "base_uri": "https://localhost:8080/"
        },
        "id": "OWcvMhvR4xWt",
        "outputId": "bf913c64-8c25-4021-db9f-aa08c9db4c07"
      },
      "outputs": [
        {
          "output_type": "stream",
          "name": "stdout",
          "text": [
            "NDBC: 149\n"
          ]
        }
      ],
      "source": [
        "import requests\n",
        "from bs4 import BeautifulSoup\n",
        "import re\n",
        "import pprint\n",
        "\n",
        "url = 'https://www.ndbc.noaa.gov/wstat.shtml'\n",
        "\n",
        "html = requests.get(url).text\n",
        "\n",
        "soup = BeautifulSoup(html, 'html.parser')\n",
        "\n",
        "string_to_find = ['Total Base Funded Buoys:','Total Other Buoys:',\n",
        "                  'Total Moored Buoys:','Total Base Funded Stations:',\n",
        "                  'Total Stations:']\n",
        "\n",
        "ndbc = dict()\n",
        "for string in string_to_find:\n",
        "    for tag in soup.find_all(\"td\", string=string):\n",
        "        ndbc[string] = int(tag.next_sibling.string)\n",
        "\n",
        "#pprint.pprint(ndbc)\n",
        "\n",
        "NDBC = ndbc['Total Moored Buoys:'] + ndbc['Total Base Funded Stations:']\n",
        "print('NDBC:',NDBC)"
      ]
    },
    {
      "cell_type": "markdown",
      "metadata": {
        "id": "PvdJyWvN40Wk"
      },
      "source": [
        "### NERRS\n",
        "https://nosc.noaa.gov/OSC/OSN/index.php\tNERRS SWMP; Across 29 NERRS; Source = internal access only - NOAA Observing System Council.\n",
        "\n",
        "http://cdmo.baruch.sc.edu/webservices.cfm <- need IP address approval\n",
        "\n",
        "Need number of stations (120 last time)"
      ]
    },
    {
      "cell_type": "code",
      "execution_count": 9,
      "metadata": {
        "colab": {
          "base_uri": "https://localhost:8080/"
        },
        "id": "vB1MEtDb_Map",
        "outputId": "8c892474-0171-4dad-fa8d-2956c22fffb5"
      },
      "outputs": [
        {
          "output_type": "stream",
          "name": "stdout",
          "text": [
            "NERRS reserves: 140\n"
          ]
        }
      ],
      "source": [
        "\n",
        "import requests\n",
        "from bs4 import BeautifulSoup\n",
        "import re\n",
        "\n",
        "url = 'https://coast.noaa.gov/nerrs/about/'\n",
        "\n",
        "html = requests.get(url).text\n",
        "\n",
        "soup = BeautifulSoup(html, 'html.parser')\n",
        "\n",
        "string_to_find = ['The National Estuarine Research Reserve System is a network of ']\n",
        "\n",
        "nerrs = dict()\n",
        "for string in string_to_find:\n",
        "  for tag in soup.find_all(\"meta\", attrs={'content': re.compile(string)}, limit=1):\n",
        "    res = [int(i) for i in tag['content'].split() if i.isdigit()] # extract number\n",
        "    #print(tag['content'])\n",
        "    NERRS = int(res[0])\n",
        "    #print('%s = %s' % (string, tag.next_sibling.string))\n",
        "\n",
        "NERRS = 140\n",
        "\n",
        "print(\"NERRS reserves:\",NERRS)\n"
      ]
    },
    {
      "cell_type": "markdown",
      "metadata": {
        "id": "_uH7fBzJ43vL"
      },
      "source": [
        "### CBIBS\n",
        "https://buoybay.noaa.gov/locations\n",
        "\n",
        "[API docs](https://buoybay.noaa.gov/node/174)\n",
        "\n",
        "Base URL: https://mw.buoybay.noaa.gov/api/v1\n",
        "\n",
        "Testing Key: f159959c117f473477edbdf3245cc2a4831ac61f\n",
        "\n",
        "Latest measurements:\n",
        "https://mw.buoybay.noaa.gov/api/v1/json/station?key=f159959c117f473477edbdf3245cc2a4831ac61f"
      ]
    },
    {
      "cell_type": "code",
      "execution_count": 10,
      "metadata": {
        "colab": {
          "base_uri": "https://localhost:8080/"
        },
        "id": "nIIbzvJO49Vb",
        "outputId": "bcdd9c86-da21-47f1-bb47-2396dc31d076"
      },
      "outputs": [
        {
          "output_type": "stream",
          "name": "stdout",
          "text": [
            "CBIBS Stations: 10\n"
          ]
        }
      ],
      "source": [
        "import json\n",
        "\n",
        "base_url = 'https://mw.buoybay.noaa.gov/api/v1'\n",
        "apikey = 'f159959c117f473477edbdf3245cc2a4831ac61f'\n",
        "start = '2021-12-08T01:00:00z'\n",
        "end = '2021-12-09T23:59:59z'\n",
        "var = 'Position'\n",
        "\n",
        "query_url = '{}/json/query?key={}&sd={}&ed={}&var={}'.format(base_url,apikey,start,end,var)\n",
        "#query_url = '{}/json/station?key={}'.format(base_url, apikey)\n",
        "\n",
        "json = json.loads(requests.get(query_url).text)\n",
        "\n",
        "CBIBS = len(json['stations'])\n",
        "\n",
        "print(\"CBIBS Stations:\",CBIBS)"
      ]
    },
    {
      "cell_type": "markdown",
      "metadata": {
        "id": "z66nOWtO5KKE"
      },
      "source": [
        "### OAP\n",
        "https://cdip.ucsd.edu/m/stn_table/\tIncludes overlap with the RAs and other programs\n",
        "\n",
        "19\n",
        "\n",
        "See buoys and moorings at https://oceanacidification.noaa.gov/WhatWeDo/Data.aspx\n",
        "\n",
        "pull kml from pmel"
      ]
    },
    {
      "cell_type": "code",
      "execution_count": 11,
      "metadata": {
        "id": "lJnDfvb05PzD"
      },
      "outputs": [],
      "source": [
        "# import geopandas as gpd\n",
        "# import fiona\n",
        "\n",
        "# gpd.io.file.fiona.drvsupport.supported_drivers['KML'] = 'rw'\n",
        "\n",
        "# kml = 'https://www.pmel.noaa.gov/co2/files/basekml.kml'\n",
        "\n",
        "# df = gpd.read_file(kml, driver='KML')\n",
        "\n",
        "# df['Name'].unique().size"
      ]
    },
    {
      "cell_type": "code",
      "execution_count": 12,
      "metadata": {
        "id": "rxgwEEzbEGKx",
        "outputId": "85bcc608-c164-47e3-9421-ae4ba4823e43",
        "colab": {
          "base_uri": "https://localhost:8080/"
        }
      },
      "outputs": [
        {
          "output_type": "stream",
          "name": "stdout",
          "text": [
            "OAP Stations: 19\n"
          ]
        }
      ],
      "source": [
        "import requests\n",
        "from bs4 import BeautifulSoup\n",
        "import re\n",
        "\n",
        "url = 'https://oceanacidification.noaa.gov/WhatWeDo/Data.aspx'\n",
        "\n",
        "#url = 'https://www.arcgis.com/apps/Embed/index.html?webmap=9512aae84cae409786339479e31b6c8a&amp;extent=-152.4023,-57.7072,146.7773,74.4006&amp;zoom=true&amp;scale=true&amp;disable_scroll=true&amp;theme=light'\n",
        "\n",
        "html = requests.get(url).text\n",
        "\n",
        "soup = BeautifulSoup(html, 'html.parser')\n",
        "\n",
        "#string_to_find = ['The National Etuarine Research Reserve System is a network of ']\n",
        "#soup.find_all(atts={'id':'mapDiv_gc'})\n",
        "text = soup.find_all(attrs={'id':\"dnn_ctr14711_ContentPane\"})[0].find_all(attrs={'class':'lead'})[0].text #id=\"mapDiv\")\n",
        "\n",
        "res = [int(i) for i in text.split() if i.isdigit()] # extract number\n",
        "    #print(tag['content'])\n",
        "OAP = int(res[0])\n",
        "\n",
        "print(\"OAP Stations:\",OAP)\n",
        "\n",
        "    #res = [int(i) for i in tag['content'].split() if i.isdigit()] # extract number\n",
        "    #print(tag['content'])\n",
        "    #nerrs = res[0]\n",
        "    #print('%s = %s' % (string, tag.next_sibling.string))\n",
        "\n",
        "#print(\"NERRS reserves:\",nerrs)"
      ]
    },
    {
      "cell_type": "markdown",
      "metadata": {
        "id": "wt9iwonW5Now"
      },
      "source": [
        "### CDIP\n",
        "https://cdip.ucsd.edu/m/stn_table/\tIncludes overlap with the RAs\n",
        "\n",
        "67\n",
        "\n",
        "https://cdip.ucsd.edu/themes/?d2=p1:m:mobile&regions=all&units=standard&zoom=auto&pub_set=public&tz=UTC&ll_fmt=dm&numcolorbands=10&palette=cdip_classic&high=6.096"
      ]
    },
    {
      "cell_type": "code",
      "execution_count": 13,
      "metadata": {
        "id": "r7qEAAlV5NWj",
        "outputId": "4beab307-5883-4c5b-ab2a-cae838d82ec0",
        "colab": {
          "base_uri": "https://localhost:8080/"
        }
      },
      "outputs": [
        {
          "output_type": "stream",
          "name": "stdout",
          "text": [
            "CDIP Stations: 66\n"
          ]
        }
      ],
      "source": [
        "import lxml\n",
        "import pandas as pd\n",
        "\n",
        "url = 'https://cdip.ucsd.edu/themes/?d2=p1:m:mobile&regions=all&units=standard&zoom=auto&pub_set=public&tz=UTC&ll_fmt=dm&numcolorbands=10&palette=cdip_classic&high=6.096'\n",
        "table_list = pd.read_html(url, match='Stn')\n",
        "\n",
        "df = table_list[0]\n",
        "\n",
        "CDIP = df['Stn'].unique().size\n",
        "\n",
        "print(\"CDIP Stations:\",CDIP)"
      ]
    },
    {
      "cell_type": "markdown",
      "source": [
        "## Calculating National Platforms\n",
        "\n",
        "CO-OPS + NDBC + NERRS + CBIBS + OAP + CDIP = 747"
      ],
      "metadata": {
        "id": "ScmxkStTNdf2"
      }
    },
    {
      "cell_type": "code",
      "source": [
        "national_platforms = COOPS + NDBC + NERRS + CBIBS + OAP + CDIP\n",
        "print(\"National Platforms:\",national_platforms)\n",
        "\n",
        "ioos_btn_df['National Platforms'] = national_platforms"
      ],
      "metadata": {
        "id": "IpX8NZl9Njwi",
        "outputId": "ca754a72-259e-4040-8032-753187de3b7c",
        "colab": {
          "base_uri": "https://localhost:8080/"
        }
      },
      "execution_count": 14,
      "outputs": [
        {
          "output_type": "stream",
          "name": "stdout",
          "text": [
            "National Platforms: 763\n"
          ]
        }
      ]
    },
    {
      "cell_type": "markdown",
      "metadata": {
        "id": "_vmKPAdZ9SBU"
      },
      "source": [
        "# Regional Platforms\n",
        "\n",
        "https://github.com/ioos/ioos-asset-inventory/tree/main/2020\n",
        "\n",
        "http://erddap.ioos.us/erddap/tabledap/2020_asset_inventory.html <- raw data, need processed data"
      ]
    },
    {
      "cell_type": "code",
      "execution_count": 15,
      "metadata": {
        "id": "WTQ0WgP09Vxc",
        "outputId": "1a36f964-d493-4adc-8179-d395e22cd5b5",
        "colab": {
          "base_uri": "https://localhost:8080/"
        }
      },
      "outputs": [
        {
          "output_type": "stream",
          "name": "stdout",
          "text": [
            "Regional platforms: 517\n"
          ]
        }
      ],
      "source": [
        "url = 'https://github.com/ioos/ioos-asset-inventory/raw/main/2020/processed_inventory.csv'\n",
        "df_regional_platforms = pd.read_csv(url)\n",
        "\n",
        "regional_platforms = df_regional_platforms['station_long_name'].unique().size\n",
        "\n",
        "print('Regional platforms:',regional_platforms)\n",
        "\n",
        "ioos_btn_df['Regional Platforms'] = regional_platforms"
      ]
    },
    {
      "cell_type": "markdown",
      "metadata": {
        "id": "X5BeiqhIXme-"
      },
      "source": [
        "## ATN Deployments\n",
        "\n",
        "See Deployments at https://portal.atn.ioos.us/#\n",
        "Not sure if there is a way to scrape that page or get those values from somewhere\n",
        "\n",
        "4242"
      ]
    },
    {
      "cell_type": "code",
      "execution_count": 16,
      "metadata": {
        "id": "bQxKAuUXXwRW",
        "outputId": "7a7f9b7d-f1a4-4735-bd7c-41fbeec71a2e",
        "colab": {
          "base_uri": "https://localhost:8080/"
        }
      },
      "outputs": [
        {
          "output_type": "stream",
          "name": "stdout",
          "text": [
            "ATN Deployments: 4242\n"
          ]
        }
      ],
      "source": [
        "# from bs4 import BeautifulSoup\n",
        "# import requests\n",
        "\n",
        "# headers = {'Accept-Encoding': 'identity'}\n",
        "\n",
        "# soup = BeautifulSoup(requests.get('https://portal.atn.ioos.us', headers=headers).text, 'html.parser')\n",
        "\n",
        "# print(soup.prettify())\n",
        "\n",
        "atn_deployments = 4242\n",
        "\n",
        "print(\"ATN Deployments:\",atn_deployments)\n",
        "\n",
        "ioos_btn_df['ATN Deployments'] = atn_deployments"
      ]
    },
    {
      "cell_type": "markdown",
      "metadata": {
        "id": "IaoMWowM3cw6"
      },
      "source": [
        "## MBON Projects\n",
        "https://marinebon.org/\n",
        "\n",
        "https://github.com/marinebon/www_marinebon2/tree/master/content/project\n",
        "\n",
        "currently funded projects\n",
        "6"
      ]
    },
    {
      "cell_type": "code",
      "execution_count": 17,
      "metadata": {
        "id": "AZrPHc0T3k2i",
        "outputId": "8838e520-9cfd-4aca-9ab7-05bcff70da22",
        "colab": {
          "base_uri": "https://localhost:8080/"
        }
      },
      "outputs": [
        {
          "output_type": "stream",
          "name": "stdout",
          "text": [
            "MBON Projects: 6\n"
          ]
        }
      ],
      "source": [
        "mbon_projects = 6\n",
        "\n",
        "print(\"MBON Projects:\",mbon_projects)\n",
        "\n",
        "ioos_btn_df['MBON Projects'] = mbon_projects"
      ]
    },
    {
      "cell_type": "markdown",
      "metadata": {
        "id": "DxsnHFRJEGKz"
      },
      "source": [
        "## OTT Projects\n",
        "\n",
        "https://ioos.noaa.gov/project/ocean-technology-transition/ 8 live"
      ]
    },
    {
      "cell_type": "code",
      "execution_count": 19,
      "metadata": {
        "id": "FqxRZ0ZnEGKz"
      },
      "outputs": [],
      "source": [
        "ioos_btn_df['OTT Projects'] = 8"
      ]
    },
    {
      "cell_type": "markdown",
      "metadata": {
        "id": "wwXNR2m2EGKz"
      },
      "source": [
        "## HAB Pilot Projects\n",
        "\n",
        "https://cdn.ioos.noaa.gov/media/2021/10/NHABON-Funding-Awards-FY21_v2.pdf\n",
        "8 total"
      ]
    },
    {
      "cell_type": "code",
      "execution_count": 20,
      "metadata": {
        "id": "0QvdLybSEGKz"
      },
      "outputs": [],
      "source": [
        "ioos_btn_df['HAB Pilot Projects'] = 8"
      ]
    },
    {
      "cell_type": "markdown",
      "metadata": {
        "id": "915oRsuKEGK0"
      },
      "source": [
        "## QARTOD Manuals\n",
        "\n",
        "https://ioos.noaa.gov/project/qartod/ 14?"
      ]
    },
    {
      "cell_type": "code",
      "execution_count": 21,
      "metadata": {
        "id": "7NabPJxcEGK0"
      },
      "outputs": [],
      "source": [
        "ioos_btn_df['QARTOD Manuals'] = 14"
      ]
    },
    {
      "cell_type": "markdown",
      "metadata": {
        "id": "vZ2zMhziEGK0"
      },
      "source": [
        "## IOOS Core Variables\n",
        "\n",
        "https://www.iooc.us/task-teams/core-ioos-variables/\n",
        "\n",
        "34"
      ]
    },
    {
      "cell_type": "code",
      "execution_count": 22,
      "metadata": {
        "id": "Tt21PcyhEGK0"
      },
      "outputs": [],
      "source": [
        "ioos_btn_df['IOOS Core Variables'] = 34"
      ]
    },
    {
      "cell_type": "markdown",
      "metadata": {
        "id": "LjDpDI_nEGK0"
      },
      "source": [
        "## Metadata Records\n",
        "\n",
        "previously 13,907\n",
        "\n",
        "https://data.ioos.us/"
      ]
    },
    {
      "cell_type": "code",
      "source": [
        "try:\n",
        "  import owslib\n",
        "except:\n",
        "  %pip install owslib"
      ],
      "metadata": {
        "id": "ACTlA3rcEeEi"
      },
      "execution_count": 23,
      "outputs": []
    },
    {
      "cell_type": "code",
      "execution_count": 24,
      "metadata": {
        "id": "lhlZanaAEGK0",
        "outputId": "3d42481d-1531-4c58-d65a-473dea071eb6",
        "colab": {
          "base_uri": "https://localhost:8080/"
        }
      },
      "outputs": [
        {
          "output_type": "stream",
          "name": "stdout",
          "text": [
            "Found 7186 records from https://data.ioos.us/csw.\n"
          ]
        }
      ],
      "source": [
        "from owslib.csw import CatalogueServiceWeb\n",
        "\n",
        "endpoint = \"https://data.ioos.us/csw\"\n",
        "\n",
        "csw = CatalogueServiceWeb(endpoint, timeout=60)\n",
        "\n",
        "csw.getdomain('GetRecords.resultType')\n",
        "\n",
        "csw.results\n",
        "\n",
        "csw.getrecords2()\n",
        "\n",
        "records = csw.results['matches']\n",
        "\n",
        "print(\"Found {} records from {}.\".format(records,endpoint))\n",
        "# for key, value in list(csw.records.items()):\n",
        "#     print(u\"[{}]\\n{}\\n\".format(value.title, key))"
      ]
    },
    {
      "cell_type": "code",
      "execution_count": 25,
      "metadata": {
        "id": "mA_qshwwEGK0",
        "outputId": "23223a40-9fba-4dd3-e679-62e6c0ac6d6e",
        "colab": {
          "base_uri": "https://localhost:8080/"
        }
      },
      "outputs": [
        {
          "output_type": "stream",
          "name": "stdout",
          "text": [
            "Found 9380 records from https://data.ioos.us/api/3/action/package_list.\n"
          ]
        }
      ],
      "source": [
        "import pandas as pd\n",
        "\n",
        "url = 'https://data.ioos.us/api/3/action/package_list'\n",
        "\n",
        "mdf = pd.read_json(url)\n",
        "\n",
        "metadata_records = len(mdf.result.unique())\n",
        "\n",
        "print(\"Found {} records from {}.\".format(metadata_records,url))\n",
        "\n",
        "ioos_btn_df['Metadata Records'] = metadata_records"
      ]
    },
    {
      "cell_type": "markdown",
      "metadata": {
        "id": "kN5S0DfoEGK1"
      },
      "source": [
        "## IOOS"
      ]
    },
    {
      "cell_type": "code",
      "execution_count": 26,
      "metadata": {
        "id": "cMZESRfTEGK1",
        "outputId": "441b827f-eab3-4ae6-ef8f-85823a371b78",
        "colab": {
          "base_uri": "https://localhost:8080/"
        }
      },
      "outputs": [
        {
          "output_type": "stream",
          "name": "stdout",
          "text": [
            "IOOS: 1\n"
          ]
        }
      ],
      "source": [
        "ioos = 1\n",
        "\n",
        "print(\"IOOS:\",ioos)\n",
        "\n",
        "ioos_btn_df['IOOS'] = ioos"
      ]
    },
    {
      "cell_type": "markdown",
      "source": [
        "# Final IOOS by the Numbers table"
      ],
      "metadata": {
        "id": "PpEovbEJQLBF"
      }
    },
    {
      "cell_type": "code",
      "execution_count": 27,
      "metadata": {
        "id": "ZzLlve4OEGK1",
        "outputId": "6356e8f1-df2f-4611-f3ea-df1697c86243",
        "colab": {
          "base_uri": "https://localhost:8080/",
          "height": 107
        }
      },
      "outputs": [
        {
          "output_type": "execute_result",
          "data": {
            "text/html": [
              "\n",
              "  <div id=\"df-876d0f6a-69d5-4110-9495-72c2bc24e3ed\">\n",
              "    <div class=\"colab-df-container\">\n",
              "      <div>\n",
              "<style scoped>\n",
              "    .dataframe tbody tr th:only-of-type {\n",
              "        vertical-align: middle;\n",
              "    }\n",
              "\n",
              "    .dataframe tbody tr th {\n",
              "        vertical-align: top;\n",
              "    }\n",
              "\n",
              "    .dataframe thead th {\n",
              "        text-align: right;\n",
              "    }\n",
              "</style>\n",
              "<table border=\"1\" class=\"dataframe\">\n",
              "  <thead>\n",
              "    <tr style=\"text-align: right;\">\n",
              "      <th></th>\n",
              "      <th>Federal Partners</th>\n",
              "      <th>Regional Associations</th>\n",
              "      <th>HF Radar Stations</th>\n",
              "      <th>NGDAC Glider Days</th>\n",
              "      <th>National Platforms</th>\n",
              "      <th>Regional Platforms</th>\n",
              "      <th>ATN Deployments</th>\n",
              "      <th>MBON Projects</th>\n",
              "      <th>OTT Projects</th>\n",
              "      <th>HAB Pilot Projects</th>\n",
              "      <th>QARTOD Manuals</th>\n",
              "      <th>IOOS Core Variables</th>\n",
              "      <th>Metadata Records</th>\n",
              "      <th>IOOS</th>\n",
              "    </tr>\n",
              "  </thead>\n",
              "  <tbody>\n",
              "  </tbody>\n",
              "</table>\n",
              "</div>\n",
              "      <button class=\"colab-df-convert\" onclick=\"convertToInteractive('df-876d0f6a-69d5-4110-9495-72c2bc24e3ed')\"\n",
              "              title=\"Convert this dataframe to an interactive table.\"\n",
              "              style=\"display:none;\">\n",
              "        \n",
              "  <svg xmlns=\"http://www.w3.org/2000/svg\" height=\"24px\"viewBox=\"0 0 24 24\"\n",
              "       width=\"24px\">\n",
              "    <path d=\"M0 0h24v24H0V0z\" fill=\"none\"/>\n",
              "    <path d=\"M18.56 5.44l.94 2.06.94-2.06 2.06-.94-2.06-.94-.94-2.06-.94 2.06-2.06.94zm-11 1L8.5 8.5l.94-2.06 2.06-.94-2.06-.94L8.5 2.5l-.94 2.06-2.06.94zm10 10l.94 2.06.94-2.06 2.06-.94-2.06-.94-.94-2.06-.94 2.06-2.06.94z\"/><path d=\"M17.41 7.96l-1.37-1.37c-.4-.4-.92-.59-1.43-.59-.52 0-1.04.2-1.43.59L10.3 9.45l-7.72 7.72c-.78.78-.78 2.05 0 2.83L4 21.41c.39.39.9.59 1.41.59.51 0 1.02-.2 1.41-.59l7.78-7.78 2.81-2.81c.8-.78.8-2.07 0-2.86zM5.41 20L4 18.59l7.72-7.72 1.47 1.35L5.41 20z\"/>\n",
              "  </svg>\n",
              "      </button>\n",
              "      \n",
              "  <style>\n",
              "    .colab-df-container {\n",
              "      display:flex;\n",
              "      flex-wrap:wrap;\n",
              "      gap: 12px;\n",
              "    }\n",
              "\n",
              "    .colab-df-convert {\n",
              "      background-color: #E8F0FE;\n",
              "      border: none;\n",
              "      border-radius: 50%;\n",
              "      cursor: pointer;\n",
              "      display: none;\n",
              "      fill: #1967D2;\n",
              "      height: 32px;\n",
              "      padding: 0 0 0 0;\n",
              "      width: 32px;\n",
              "    }\n",
              "\n",
              "    .colab-df-convert:hover {\n",
              "      background-color: #E2EBFA;\n",
              "      box-shadow: 0px 1px 2px rgba(60, 64, 67, 0.3), 0px 1px 3px 1px rgba(60, 64, 67, 0.15);\n",
              "      fill: #174EA6;\n",
              "    }\n",
              "\n",
              "    [theme=dark] .colab-df-convert {\n",
              "      background-color: #3B4455;\n",
              "      fill: #D2E3FC;\n",
              "    }\n",
              "\n",
              "    [theme=dark] .colab-df-convert:hover {\n",
              "      background-color: #434B5C;\n",
              "      box-shadow: 0px 1px 3px 1px rgba(0, 0, 0, 0.15);\n",
              "      filter: drop-shadow(0px 1px 2px rgba(0, 0, 0, 0.3));\n",
              "      fill: #FFFFFF;\n",
              "    }\n",
              "  </style>\n",
              "\n",
              "      <script>\n",
              "        const buttonEl =\n",
              "          document.querySelector('#df-876d0f6a-69d5-4110-9495-72c2bc24e3ed button.colab-df-convert');\n",
              "        buttonEl.style.display =\n",
              "          google.colab.kernel.accessAllowed ? 'block' : 'none';\n",
              "\n",
              "        async function convertToInteractive(key) {\n",
              "          const element = document.querySelector('#df-876d0f6a-69d5-4110-9495-72c2bc24e3ed');\n",
              "          const dataTable =\n",
              "            await google.colab.kernel.invokeFunction('convertToInteractive',\n",
              "                                                     [key], {});\n",
              "          if (!dataTable) return;\n",
              "\n",
              "          const docLinkHtml = 'Like what you see? Visit the ' +\n",
              "            '<a target=\"_blank\" href=https://colab.research.google.com/notebooks/data_table.ipynb>data table notebook</a>'\n",
              "            + ' to learn more about interactive tables.';\n",
              "          element.innerHTML = '';\n",
              "          dataTable['output_type'] = 'display_data';\n",
              "          await google.colab.output.renderOutput(dataTable, element);\n",
              "          const docLink = document.createElement('div');\n",
              "          docLink.innerHTML = docLinkHtml;\n",
              "          element.appendChild(docLink);\n",
              "        }\n",
              "      </script>\n",
              "    </div>\n",
              "  </div>\n",
              "  "
            ],
            "text/plain": [
              "Empty DataFrame\n",
              "Columns: [Federal Partners, Regional Associations, HF Radar Stations, NGDAC Glider Days, National Platforms, Regional Platforms, ATN Deployments, MBON Projects, OTT Projects, HAB Pilot Projects, QARTOD Manuals, IOOS Core Variables, Metadata Records, IOOS]\n",
              "Index: []"
            ]
          },
          "metadata": {},
          "execution_count": 27
        }
      ],
      "source": [
        "ioos_btn_df"
      ]
    },
    {
      "cell_type": "code",
      "source": [
        ""
      ],
      "metadata": {
        "id": "DZETPXSuQFGg"
      },
      "execution_count": null,
      "outputs": []
    }
  ],
  "metadata": {
    "colab": {
      "collapsed_sections": [],
      "name": "IOOS_BTN.ipynb",
      "provenance": [],
      "include_colab_link": true
    },
    "kernelspec": {
      "display_name": "Python 3 (ipykernel)",
      "language": "python",
      "name": "python3"
    },
    "language_info": {
      "codemirror_mode": {
        "name": "ipython",
        "version": 3
      },
      "file_extension": ".py",
      "mimetype": "text/x-python",
      "name": "python",
      "nbconvert_exporter": "python",
      "pygments_lexer": "ipython3",
      "version": "3.9.7"
    }
  },
  "nbformat": 4,
  "nbformat_minor": 0
}