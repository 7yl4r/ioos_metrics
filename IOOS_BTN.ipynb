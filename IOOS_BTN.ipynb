{
  "cells": [
    {
      "cell_type": "markdown",
      "metadata": {
        "id": "view-in-github",
        "colab_type": "text"
      },
      "source": [
        "<a href=\"https://colab.research.google.com/github/MathewBiddle/ioos_by_the_numbers/blob/main/IOOS_BTN.ipynb\" target=\"_parent\"><img src=\"https://colab.research.google.com/assets/colab-badge.svg\" alt=\"Open In Colab\"/></a>"
      ]
    },
    {
      "cell_type": "markdown",
      "metadata": {
        "id": "98GUIWOu35mJ"
      },
      "source": [
        "# Creating the IOOS By The Numbers\n",
        "\n",
        "[Website](https://ioos.noaa.gov/about/ioos-by-the-numbers/)\n",
        "\n",
        "[Spreadsheet](https://docs.google.com/spreadsheets/d/1AUfXmc3OwxpVdeMNjZyTGWjyR4ku3kRD5eexNrMORnI/edit#gid=516871794)"
      ]
    },
    {
      "cell_type": "code",
      "execution_count": 1,
      "metadata": {
        "id": "LdpKgY6ZsVy4"
      },
      "outputs": [],
      "source": [
        "import pandas as pd\n",
        "\n",
        "# read previous metrics\n",
        "ioos_btn_df = pd.read_csv('https://github.com/MathewBiddle/ioos_by_the_numbers/raw/main/ioos_btn_metrics.csv')#columns=['category','value','date'])"
      ]
    },
    {
      "cell_type": "code",
      "execution_count": 2,
      "metadata": {
        "colab": {
          "base_uri": "https://localhost:8080/",
          "height": 226
        },
        "id": "-afzN9SfS5tk",
        "outputId": "4ff9f0f4-f388-46b6-b325-5c2bffbc8c4a"
      },
      "outputs": [
        {
          "output_type": "execute_result",
          "data": {
            "text/plain": [
              "     date_UTC  Federal Partners  Regional Associations  HF Radar Stations  \\\n",
              "0  2018-02-01              17.0                   11.0              150.0   \n",
              "1  2022-04-22               NaN                    NaN                NaN   \n",
              "\n",
              "   NGDAC Glider Days  National Platforms  Regional Platforms  ATN Deployments  \\\n",
              "0            52027.0               737.0               335.0              NaN   \n",
              "1                NaN                 NaN                 NaN              NaN   \n",
              "\n",
              "   MBON Projects  OTT Projects  HAB Pilot Projects  QARTOD Manuals  \\\n",
              "0            NaN           NaN                 NaN            13.0   \n",
              "1            NaN           NaN                 NaN             NaN   \n",
              "\n",
              "   IOOS Core Variables  Metadata Records  IOOS  COMT Projects  \n",
              "0                 34.0            8600.0   1.0            NaN  \n",
              "1                  NaN               NaN   NaN            NaN  "
            ],
            "text/html": [
              "\n",
              "  <div id=\"df-c3e65f9c-a494-4f9a-9ec1-a0b8bdcb704c\">\n",
              "    <div class=\"colab-df-container\">\n",
              "      <div>\n",
              "<style scoped>\n",
              "    .dataframe tbody tr th:only-of-type {\n",
              "        vertical-align: middle;\n",
              "    }\n",
              "\n",
              "    .dataframe tbody tr th {\n",
              "        vertical-align: top;\n",
              "    }\n",
              "\n",
              "    .dataframe thead th {\n",
              "        text-align: right;\n",
              "    }\n",
              "</style>\n",
              "<table border=\"1\" class=\"dataframe\">\n",
              "  <thead>\n",
              "    <tr style=\"text-align: right;\">\n",
              "      <th></th>\n",
              "      <th>date_UTC</th>\n",
              "      <th>Federal Partners</th>\n",
              "      <th>Regional Associations</th>\n",
              "      <th>HF Radar Stations</th>\n",
              "      <th>NGDAC Glider Days</th>\n",
              "      <th>National Platforms</th>\n",
              "      <th>Regional Platforms</th>\n",
              "      <th>ATN Deployments</th>\n",
              "      <th>MBON Projects</th>\n",
              "      <th>OTT Projects</th>\n",
              "      <th>HAB Pilot Projects</th>\n",
              "      <th>QARTOD Manuals</th>\n",
              "      <th>IOOS Core Variables</th>\n",
              "      <th>Metadata Records</th>\n",
              "      <th>IOOS</th>\n",
              "      <th>COMT Projects</th>\n",
              "    </tr>\n",
              "  </thead>\n",
              "  <tbody>\n",
              "    <tr>\n",
              "      <th>0</th>\n",
              "      <td>2018-02-01</td>\n",
              "      <td>17.0</td>\n",
              "      <td>11.0</td>\n",
              "      <td>150.0</td>\n",
              "      <td>52027.0</td>\n",
              "      <td>737.0</td>\n",
              "      <td>335.0</td>\n",
              "      <td>NaN</td>\n",
              "      <td>NaN</td>\n",
              "      <td>NaN</td>\n",
              "      <td>NaN</td>\n",
              "      <td>13.0</td>\n",
              "      <td>34.0</td>\n",
              "      <td>8600.0</td>\n",
              "      <td>1.0</td>\n",
              "      <td>NaN</td>\n",
              "    </tr>\n",
              "    <tr>\n",
              "      <th>1</th>\n",
              "      <td>2022-04-22</td>\n",
              "      <td>NaN</td>\n",
              "      <td>NaN</td>\n",
              "      <td>NaN</td>\n",
              "      <td>NaN</td>\n",
              "      <td>NaN</td>\n",
              "      <td>NaN</td>\n",
              "      <td>NaN</td>\n",
              "      <td>NaN</td>\n",
              "      <td>NaN</td>\n",
              "      <td>NaN</td>\n",
              "      <td>NaN</td>\n",
              "      <td>NaN</td>\n",
              "      <td>NaN</td>\n",
              "      <td>NaN</td>\n",
              "      <td>NaN</td>\n",
              "    </tr>\n",
              "  </tbody>\n",
              "</table>\n",
              "</div>\n",
              "      <button class=\"colab-df-convert\" onclick=\"convertToInteractive('df-c3e65f9c-a494-4f9a-9ec1-a0b8bdcb704c')\"\n",
              "              title=\"Convert this dataframe to an interactive table.\"\n",
              "              style=\"display:none;\">\n",
              "        \n",
              "  <svg xmlns=\"http://www.w3.org/2000/svg\" height=\"24px\"viewBox=\"0 0 24 24\"\n",
              "       width=\"24px\">\n",
              "    <path d=\"M0 0h24v24H0V0z\" fill=\"none\"/>\n",
              "    <path d=\"M18.56 5.44l.94 2.06.94-2.06 2.06-.94-2.06-.94-.94-2.06-.94 2.06-2.06.94zm-11 1L8.5 8.5l.94-2.06 2.06-.94-2.06-.94L8.5 2.5l-.94 2.06-2.06.94zm10 10l.94 2.06.94-2.06 2.06-.94-2.06-.94-.94-2.06-.94 2.06-2.06.94z\"/><path d=\"M17.41 7.96l-1.37-1.37c-.4-.4-.92-.59-1.43-.59-.52 0-1.04.2-1.43.59L10.3 9.45l-7.72 7.72c-.78.78-.78 2.05 0 2.83L4 21.41c.39.39.9.59 1.41.59.51 0 1.02-.2 1.41-.59l7.78-7.78 2.81-2.81c.8-.78.8-2.07 0-2.86zM5.41 20L4 18.59l7.72-7.72 1.47 1.35L5.41 20z\"/>\n",
              "  </svg>\n",
              "      </button>\n",
              "      \n",
              "  <style>\n",
              "    .colab-df-container {\n",
              "      display:flex;\n",
              "      flex-wrap:wrap;\n",
              "      gap: 12px;\n",
              "    }\n",
              "\n",
              "    .colab-df-convert {\n",
              "      background-color: #E8F0FE;\n",
              "      border: none;\n",
              "      border-radius: 50%;\n",
              "      cursor: pointer;\n",
              "      display: none;\n",
              "      fill: #1967D2;\n",
              "      height: 32px;\n",
              "      padding: 0 0 0 0;\n",
              "      width: 32px;\n",
              "    }\n",
              "\n",
              "    .colab-df-convert:hover {\n",
              "      background-color: #E2EBFA;\n",
              "      box-shadow: 0px 1px 2px rgba(60, 64, 67, 0.3), 0px 1px 3px 1px rgba(60, 64, 67, 0.15);\n",
              "      fill: #174EA6;\n",
              "    }\n",
              "\n",
              "    [theme=dark] .colab-df-convert {\n",
              "      background-color: #3B4455;\n",
              "      fill: #D2E3FC;\n",
              "    }\n",
              "\n",
              "    [theme=dark] .colab-df-convert:hover {\n",
              "      background-color: #434B5C;\n",
              "      box-shadow: 0px 1px 3px 1px rgba(0, 0, 0, 0.15);\n",
              "      filter: drop-shadow(0px 1px 2px rgba(0, 0, 0, 0.3));\n",
              "      fill: #FFFFFF;\n",
              "    }\n",
              "  </style>\n",
              "\n",
              "      <script>\n",
              "        const buttonEl =\n",
              "          document.querySelector('#df-c3e65f9c-a494-4f9a-9ec1-a0b8bdcb704c button.colab-df-convert');\n",
              "        buttonEl.style.display =\n",
              "          google.colab.kernel.accessAllowed ? 'block' : 'none';\n",
              "\n",
              "        async function convertToInteractive(key) {\n",
              "          const element = document.querySelector('#df-c3e65f9c-a494-4f9a-9ec1-a0b8bdcb704c');\n",
              "          const dataTable =\n",
              "            await google.colab.kernel.invokeFunction('convertToInteractive',\n",
              "                                                     [key], {});\n",
              "          if (!dataTable) return;\n",
              "\n",
              "          const docLinkHtml = 'Like what you see? Visit the ' +\n",
              "            '<a target=\"_blank\" href=https://colab.research.google.com/notebooks/data_table.ipynb>data table notebook</a>'\n",
              "            + ' to learn more about interactive tables.';\n",
              "          element.innerHTML = '';\n",
              "          dataTable['output_type'] = 'display_data';\n",
              "          await google.colab.output.renderOutput(dataTable, element);\n",
              "          const docLink = document.createElement('div');\n",
              "          docLink.innerHTML = docLinkHtml;\n",
              "          element.appendChild(docLink);\n",
              "        }\n",
              "      </script>\n",
              "    </div>\n",
              "  </div>\n",
              "  "
            ]
          },
          "metadata": {},
          "execution_count": 2
        }
      ],
      "source": [
        "import pandas as pd\n",
        "#today = pd.to_datetime\n",
        "#ioos_btn_df = pd.DataFrame()#columns=['category','value','date'])\n",
        "\n",
        "today = pd.Timestamp.strftime(pd.Timestamp.today(tz='UTC'), '%Y-%m-%d')\n",
        "\n",
        "# only update numbers if it's a new day\n",
        "if today not in ioos_btn_df['date_UTC'].to_list():\n",
        "    ioos_btn_df = ioos_btn_df.append({'date_UTC': today}, ignore_index=True)\n",
        "\n",
        "ioos_btn_df"
      ]
    },
    {
      "cell_type": "markdown",
      "metadata": {
        "id": "rMkHuVRJEGKq"
      },
      "source": [
        "---\n",
        "## Federal Partners\n",
        "\n",
        "ICOOS Act/COORA"
      ]
    },
    {
      "cell_type": "code",
      "execution_count": 3,
      "metadata": {
        "colab": {
          "base_uri": "https://localhost:8080/",
          "height": 226
        },
        "id": "jXMhi3tRQvMd",
        "outputId": "07c1c88d-aa89-4be6-d2fb-e1db07ab5af9"
      },
      "outputs": [
        {
          "output_type": "execute_result",
          "data": {
            "text/plain": [
              "     date_UTC  Federal Partners  Regional Associations  HF Radar Stations  \\\n",
              "0  2018-02-01              17.0                   11.0              150.0   \n",
              "1  2022-04-22              17.0                    NaN                NaN   \n",
              "\n",
              "   NGDAC Glider Days  National Platforms  Regional Platforms  ATN Deployments  \\\n",
              "0            52027.0               737.0               335.0              NaN   \n",
              "1                NaN                 NaN                 NaN              NaN   \n",
              "\n",
              "   MBON Projects  OTT Projects  HAB Pilot Projects  QARTOD Manuals  \\\n",
              "0            NaN           NaN                 NaN            13.0   \n",
              "1            NaN           NaN                 NaN             NaN   \n",
              "\n",
              "   IOOS Core Variables  Metadata Records  IOOS  COMT Projects  \n",
              "0                 34.0            8600.0   1.0            NaN  \n",
              "1                  NaN               NaN   NaN            NaN  "
            ],
            "text/html": [
              "\n",
              "  <div id=\"df-99b59d7d-6a62-49c2-a8b9-aca3f49c14e5\">\n",
              "    <div class=\"colab-df-container\">\n",
              "      <div>\n",
              "<style scoped>\n",
              "    .dataframe tbody tr th:only-of-type {\n",
              "        vertical-align: middle;\n",
              "    }\n",
              "\n",
              "    .dataframe tbody tr th {\n",
              "        vertical-align: top;\n",
              "    }\n",
              "\n",
              "    .dataframe thead th {\n",
              "        text-align: right;\n",
              "    }\n",
              "</style>\n",
              "<table border=\"1\" class=\"dataframe\">\n",
              "  <thead>\n",
              "    <tr style=\"text-align: right;\">\n",
              "      <th></th>\n",
              "      <th>date_UTC</th>\n",
              "      <th>Federal Partners</th>\n",
              "      <th>Regional Associations</th>\n",
              "      <th>HF Radar Stations</th>\n",
              "      <th>NGDAC Glider Days</th>\n",
              "      <th>National Platforms</th>\n",
              "      <th>Regional Platforms</th>\n",
              "      <th>ATN Deployments</th>\n",
              "      <th>MBON Projects</th>\n",
              "      <th>OTT Projects</th>\n",
              "      <th>HAB Pilot Projects</th>\n",
              "      <th>QARTOD Manuals</th>\n",
              "      <th>IOOS Core Variables</th>\n",
              "      <th>Metadata Records</th>\n",
              "      <th>IOOS</th>\n",
              "      <th>COMT Projects</th>\n",
              "    </tr>\n",
              "  </thead>\n",
              "  <tbody>\n",
              "    <tr>\n",
              "      <th>0</th>\n",
              "      <td>2018-02-01</td>\n",
              "      <td>17.0</td>\n",
              "      <td>11.0</td>\n",
              "      <td>150.0</td>\n",
              "      <td>52027.0</td>\n",
              "      <td>737.0</td>\n",
              "      <td>335.0</td>\n",
              "      <td>NaN</td>\n",
              "      <td>NaN</td>\n",
              "      <td>NaN</td>\n",
              "      <td>NaN</td>\n",
              "      <td>13.0</td>\n",
              "      <td>34.0</td>\n",
              "      <td>8600.0</td>\n",
              "      <td>1.0</td>\n",
              "      <td>NaN</td>\n",
              "    </tr>\n",
              "    <tr>\n",
              "      <th>1</th>\n",
              "      <td>2022-04-22</td>\n",
              "      <td>17.0</td>\n",
              "      <td>NaN</td>\n",
              "      <td>NaN</td>\n",
              "      <td>NaN</td>\n",
              "      <td>NaN</td>\n",
              "      <td>NaN</td>\n",
              "      <td>NaN</td>\n",
              "      <td>NaN</td>\n",
              "      <td>NaN</td>\n",
              "      <td>NaN</td>\n",
              "      <td>NaN</td>\n",
              "      <td>NaN</td>\n",
              "      <td>NaN</td>\n",
              "      <td>NaN</td>\n",
              "      <td>NaN</td>\n",
              "    </tr>\n",
              "  </tbody>\n",
              "</table>\n",
              "</div>\n",
              "      <button class=\"colab-df-convert\" onclick=\"convertToInteractive('df-99b59d7d-6a62-49c2-a8b9-aca3f49c14e5')\"\n",
              "              title=\"Convert this dataframe to an interactive table.\"\n",
              "              style=\"display:none;\">\n",
              "        \n",
              "  <svg xmlns=\"http://www.w3.org/2000/svg\" height=\"24px\"viewBox=\"0 0 24 24\"\n",
              "       width=\"24px\">\n",
              "    <path d=\"M0 0h24v24H0V0z\" fill=\"none\"/>\n",
              "    <path d=\"M18.56 5.44l.94 2.06.94-2.06 2.06-.94-2.06-.94-.94-2.06-.94 2.06-2.06.94zm-11 1L8.5 8.5l.94-2.06 2.06-.94-2.06-.94L8.5 2.5l-.94 2.06-2.06.94zm10 10l.94 2.06.94-2.06 2.06-.94-2.06-.94-.94-2.06-.94 2.06-2.06.94z\"/><path d=\"M17.41 7.96l-1.37-1.37c-.4-.4-.92-.59-1.43-.59-.52 0-1.04.2-1.43.59L10.3 9.45l-7.72 7.72c-.78.78-.78 2.05 0 2.83L4 21.41c.39.39.9.59 1.41.59.51 0 1.02-.2 1.41-.59l7.78-7.78 2.81-2.81c.8-.78.8-2.07 0-2.86zM5.41 20L4 18.59l7.72-7.72 1.47 1.35L5.41 20z\"/>\n",
              "  </svg>\n",
              "      </button>\n",
              "      \n",
              "  <style>\n",
              "    .colab-df-container {\n",
              "      display:flex;\n",
              "      flex-wrap:wrap;\n",
              "      gap: 12px;\n",
              "    }\n",
              "\n",
              "    .colab-df-convert {\n",
              "      background-color: #E8F0FE;\n",
              "      border: none;\n",
              "      border-radius: 50%;\n",
              "      cursor: pointer;\n",
              "      display: none;\n",
              "      fill: #1967D2;\n",
              "      height: 32px;\n",
              "      padding: 0 0 0 0;\n",
              "      width: 32px;\n",
              "    }\n",
              "\n",
              "    .colab-df-convert:hover {\n",
              "      background-color: #E2EBFA;\n",
              "      box-shadow: 0px 1px 2px rgba(60, 64, 67, 0.3), 0px 1px 3px 1px rgba(60, 64, 67, 0.15);\n",
              "      fill: #174EA6;\n",
              "    }\n",
              "\n",
              "    [theme=dark] .colab-df-convert {\n",
              "      background-color: #3B4455;\n",
              "      fill: #D2E3FC;\n",
              "    }\n",
              "\n",
              "    [theme=dark] .colab-df-convert:hover {\n",
              "      background-color: #434B5C;\n",
              "      box-shadow: 0px 1px 3px 1px rgba(0, 0, 0, 0.15);\n",
              "      filter: drop-shadow(0px 1px 2px rgba(0, 0, 0, 0.3));\n",
              "      fill: #FFFFFF;\n",
              "    }\n",
              "  </style>\n",
              "\n",
              "      <script>\n",
              "        const buttonEl =\n",
              "          document.querySelector('#df-99b59d7d-6a62-49c2-a8b9-aca3f49c14e5 button.colab-df-convert');\n",
              "        buttonEl.style.display =\n",
              "          google.colab.kernel.accessAllowed ? 'block' : 'none';\n",
              "\n",
              "        async function convertToInteractive(key) {\n",
              "          const element = document.querySelector('#df-99b59d7d-6a62-49c2-a8b9-aca3f49c14e5');\n",
              "          const dataTable =\n",
              "            await google.colab.kernel.invokeFunction('convertToInteractive',\n",
              "                                                     [key], {});\n",
              "          if (!dataTable) return;\n",
              "\n",
              "          const docLinkHtml = 'Like what you see? Visit the ' +\n",
              "            '<a target=\"_blank\" href=https://colab.research.google.com/notebooks/data_table.ipynb>data table notebook</a>'\n",
              "            + ' to learn more about interactive tables.';\n",
              "          element.innerHTML = '';\n",
              "          dataTable['output_type'] = 'display_data';\n",
              "          await google.colab.output.renderOutput(dataTable, element);\n",
              "          const docLink = document.createElement('div');\n",
              "          docLink.innerHTML = docLinkHtml;\n",
              "          element.appendChild(docLink);\n",
              "        }\n",
              "      </script>\n",
              "    </div>\n",
              "  </div>\n",
              "  "
            ]
          },
          "metadata": {},
          "execution_count": 3
        }
      ],
      "source": [
        "fed_partners = 17\n",
        "\n",
        "# d = {'category':['Federal Partners'],'value':[fed_partners],'date':[today]}\n",
        "\n",
        "# df_fed_part = pd.DataFrame(d)\n",
        "\n",
        "ioos_btn_df.loc[ioos_btn_df['date_UTC']==today, ['Federal Partners']] = [fed_partners]\n",
        "\n",
        "ioos_btn_df"
      ]
    },
    {
      "cell_type": "markdown",
      "metadata": {
        "id": "elYWAAZSEGKq"
      },
      "source": [
        "---\n",
        "## Regional Associations"
      ]
    },
    {
      "cell_type": "code",
      "execution_count": 4,
      "metadata": {
        "colab": {
          "base_uri": "https://localhost:8080/",
          "height": 226
        },
        "id": "YwOg7gB8QY6J",
        "outputId": "23642a95-2e91-4996-def2-7a74bb2b7067"
      },
      "outputs": [
        {
          "output_type": "execute_result",
          "data": {
            "text/plain": [
              "     date_UTC  Federal Partners  Regional Associations  HF Radar Stations  \\\n",
              "0  2018-02-01              17.0                   11.0              150.0   \n",
              "1  2022-04-22              17.0                   11.0                NaN   \n",
              "\n",
              "   NGDAC Glider Days  National Platforms  Regional Platforms  ATN Deployments  \\\n",
              "0            52027.0               737.0               335.0              NaN   \n",
              "1                NaN                 NaN                 NaN              NaN   \n",
              "\n",
              "   MBON Projects  OTT Projects  HAB Pilot Projects  QARTOD Manuals  \\\n",
              "0            NaN           NaN                 NaN            13.0   \n",
              "1            NaN           NaN                 NaN             NaN   \n",
              "\n",
              "   IOOS Core Variables  Metadata Records  IOOS  COMT Projects  \n",
              "0                 34.0            8600.0   1.0            NaN  \n",
              "1                  NaN               NaN   NaN            NaN  "
            ],
            "text/html": [
              "\n",
              "  <div id=\"df-d4745770-fc07-4baa-bc39-09e5b20c0d16\">\n",
              "    <div class=\"colab-df-container\">\n",
              "      <div>\n",
              "<style scoped>\n",
              "    .dataframe tbody tr th:only-of-type {\n",
              "        vertical-align: middle;\n",
              "    }\n",
              "\n",
              "    .dataframe tbody tr th {\n",
              "        vertical-align: top;\n",
              "    }\n",
              "\n",
              "    .dataframe thead th {\n",
              "        text-align: right;\n",
              "    }\n",
              "</style>\n",
              "<table border=\"1\" class=\"dataframe\">\n",
              "  <thead>\n",
              "    <tr style=\"text-align: right;\">\n",
              "      <th></th>\n",
              "      <th>date_UTC</th>\n",
              "      <th>Federal Partners</th>\n",
              "      <th>Regional Associations</th>\n",
              "      <th>HF Radar Stations</th>\n",
              "      <th>NGDAC Glider Days</th>\n",
              "      <th>National Platforms</th>\n",
              "      <th>Regional Platforms</th>\n",
              "      <th>ATN Deployments</th>\n",
              "      <th>MBON Projects</th>\n",
              "      <th>OTT Projects</th>\n",
              "      <th>HAB Pilot Projects</th>\n",
              "      <th>QARTOD Manuals</th>\n",
              "      <th>IOOS Core Variables</th>\n",
              "      <th>Metadata Records</th>\n",
              "      <th>IOOS</th>\n",
              "      <th>COMT Projects</th>\n",
              "    </tr>\n",
              "  </thead>\n",
              "  <tbody>\n",
              "    <tr>\n",
              "      <th>0</th>\n",
              "      <td>2018-02-01</td>\n",
              "      <td>17.0</td>\n",
              "      <td>11.0</td>\n",
              "      <td>150.0</td>\n",
              "      <td>52027.0</td>\n",
              "      <td>737.0</td>\n",
              "      <td>335.0</td>\n",
              "      <td>NaN</td>\n",
              "      <td>NaN</td>\n",
              "      <td>NaN</td>\n",
              "      <td>NaN</td>\n",
              "      <td>13.0</td>\n",
              "      <td>34.0</td>\n",
              "      <td>8600.0</td>\n",
              "      <td>1.0</td>\n",
              "      <td>NaN</td>\n",
              "    </tr>\n",
              "    <tr>\n",
              "      <th>1</th>\n",
              "      <td>2022-04-22</td>\n",
              "      <td>17.0</td>\n",
              "      <td>11.0</td>\n",
              "      <td>NaN</td>\n",
              "      <td>NaN</td>\n",
              "      <td>NaN</td>\n",
              "      <td>NaN</td>\n",
              "      <td>NaN</td>\n",
              "      <td>NaN</td>\n",
              "      <td>NaN</td>\n",
              "      <td>NaN</td>\n",
              "      <td>NaN</td>\n",
              "      <td>NaN</td>\n",
              "      <td>NaN</td>\n",
              "      <td>NaN</td>\n",
              "      <td>NaN</td>\n",
              "    </tr>\n",
              "  </tbody>\n",
              "</table>\n",
              "</div>\n",
              "      <button class=\"colab-df-convert\" onclick=\"convertToInteractive('df-d4745770-fc07-4baa-bc39-09e5b20c0d16')\"\n",
              "              title=\"Convert this dataframe to an interactive table.\"\n",
              "              style=\"display:none;\">\n",
              "        \n",
              "  <svg xmlns=\"http://www.w3.org/2000/svg\" height=\"24px\"viewBox=\"0 0 24 24\"\n",
              "       width=\"24px\">\n",
              "    <path d=\"M0 0h24v24H0V0z\" fill=\"none\"/>\n",
              "    <path d=\"M18.56 5.44l.94 2.06.94-2.06 2.06-.94-2.06-.94-.94-2.06-.94 2.06-2.06.94zm-11 1L8.5 8.5l.94-2.06 2.06-.94-2.06-.94L8.5 2.5l-.94 2.06-2.06.94zm10 10l.94 2.06.94-2.06 2.06-.94-2.06-.94-.94-2.06-.94 2.06-2.06.94z\"/><path d=\"M17.41 7.96l-1.37-1.37c-.4-.4-.92-.59-1.43-.59-.52 0-1.04.2-1.43.59L10.3 9.45l-7.72 7.72c-.78.78-.78 2.05 0 2.83L4 21.41c.39.39.9.59 1.41.59.51 0 1.02-.2 1.41-.59l7.78-7.78 2.81-2.81c.8-.78.8-2.07 0-2.86zM5.41 20L4 18.59l7.72-7.72 1.47 1.35L5.41 20z\"/>\n",
              "  </svg>\n",
              "      </button>\n",
              "      \n",
              "  <style>\n",
              "    .colab-df-container {\n",
              "      display:flex;\n",
              "      flex-wrap:wrap;\n",
              "      gap: 12px;\n",
              "    }\n",
              "\n",
              "    .colab-df-convert {\n",
              "      background-color: #E8F0FE;\n",
              "      border: none;\n",
              "      border-radius: 50%;\n",
              "      cursor: pointer;\n",
              "      display: none;\n",
              "      fill: #1967D2;\n",
              "      height: 32px;\n",
              "      padding: 0 0 0 0;\n",
              "      width: 32px;\n",
              "    }\n",
              "\n",
              "    .colab-df-convert:hover {\n",
              "      background-color: #E2EBFA;\n",
              "      box-shadow: 0px 1px 2px rgba(60, 64, 67, 0.3), 0px 1px 3px 1px rgba(60, 64, 67, 0.15);\n",
              "      fill: #174EA6;\n",
              "    }\n",
              "\n",
              "    [theme=dark] .colab-df-convert {\n",
              "      background-color: #3B4455;\n",
              "      fill: #D2E3FC;\n",
              "    }\n",
              "\n",
              "    [theme=dark] .colab-df-convert:hover {\n",
              "      background-color: #434B5C;\n",
              "      box-shadow: 0px 1px 3px 1px rgba(0, 0, 0, 0.15);\n",
              "      filter: drop-shadow(0px 1px 2px rgba(0, 0, 0, 0.3));\n",
              "      fill: #FFFFFF;\n",
              "    }\n",
              "  </style>\n",
              "\n",
              "      <script>\n",
              "        const buttonEl =\n",
              "          document.querySelector('#df-d4745770-fc07-4baa-bc39-09e5b20c0d16 button.colab-df-convert');\n",
              "        buttonEl.style.display =\n",
              "          google.colab.kernel.accessAllowed ? 'block' : 'none';\n",
              "\n",
              "        async function convertToInteractive(key) {\n",
              "          const element = document.querySelector('#df-d4745770-fc07-4baa-bc39-09e5b20c0d16');\n",
              "          const dataTable =\n",
              "            await google.colab.kernel.invokeFunction('convertToInteractive',\n",
              "                                                     [key], {});\n",
              "          if (!dataTable) return;\n",
              "\n",
              "          const docLinkHtml = 'Like what you see? Visit the ' +\n",
              "            '<a target=\"_blank\" href=https://colab.research.google.com/notebooks/data_table.ipynb>data table notebook</a>'\n",
              "            + ' to learn more about interactive tables.';\n",
              "          element.innerHTML = '';\n",
              "          dataTable['output_type'] = 'display_data';\n",
              "          await google.colab.output.renderOutput(dataTable, element);\n",
              "          const docLink = document.createElement('div');\n",
              "          docLink.innerHTML = docLinkHtml;\n",
              "          element.appendChild(docLink);\n",
              "        }\n",
              "      </script>\n",
              "    </div>\n",
              "  </div>\n",
              "  "
            ]
          },
          "metadata": {},
          "execution_count": 4
        }
      ],
      "source": [
        "regional_associations = 11\n",
        "\n",
        "ioos_btn_df.loc[ioos_btn_df['date_UTC']==today, ['Regional Associations']] = [regional_associations]\n",
        "\n",
        "ioos_btn_df"
      ]
    },
    {
      "cell_type": "markdown",
      "metadata": {
        "id": "HsPUEyNJEGKq"
      },
      "source": [
        "---\n",
        "## Coastal & Ocean Modeling Testbed\n",
        "\n",
        "The COMT serves as a conduit between the federal operational and research communities and allows sharing of numerical models, observations and software tools. The COMT supports integration, comparison, scientific analyses and archiving of data and model output needed to elucidate, prioritize, and resolve federal and regional operational coastal ocean issues associated with a range of existing and emerging coastal oceanic, hydrologic, and ecological models. The Testbed has enabled significant community building (within the modeling community as well as enhancing academic and federal operational relations) which has dramatically improved model development.\n",
        "\n",
        "Number of Active Projects via personal communication from COMT program manager."
      ]
    },
    {
      "cell_type": "code",
      "execution_count": 5,
      "metadata": {
        "id": "QufQXib2EGKr"
      },
      "outputs": [],
      "source": [
        "comt = 5\n",
        "\n",
        "ioos_btn_df.loc[ioos_btn_df['date_UTC']==today, ['COMT Projects']] = comt"
      ]
    },
    {
      "cell_type": "markdown",
      "metadata": {
        "id": "08BPt9_HqPzx"
      },
      "source": [
        "---\n",
        "## HF Radar Installations\n",
        "\n",
        "The previous number of 181 included all locations where a HFR station had ever been sighted as part of the IOOS National Network, but doesn't appear to me to have accounted for temporary installations, HFRs unfunded by IOOS operated by international partners, or instances where an HFR being relocated from one site to another caused it to be double-counted.  Even the number 165 represents a \"high water mark\" for simultaneously operating HFRs, since HFRs routinely are taken offline for periods of time, for both planned preventative maintenance and in response to other exigent issues.\n",
        "\n",
        "From http://hfrnet.ucsd.edu/sitediag/stationList.php"
      ]
    },
    {
      "cell_type": "code",
      "execution_count": 6,
      "metadata": {
        "id": "Jh0A94gGTCy_"
      },
      "outputs": [],
      "source": [
        "# url = 'http://hfrnet.ucsd.edu/sitediag/stationList.php?output=CSV'\n",
        "\n",
        "# df_hfr = pd.read_csv(url)\n",
        "\n",
        "# hfr_installations = df_hfr['Station'].unique().size\n",
        "\n",
        "# print('HF Radar Installations:',hfr_installations)\n",
        "\n",
        "hfr_installations = 165\n",
        "\n",
        "ioos_btn_df.loc[ioos_btn_df['date_UTC']==today, ['HF Radar Stations']] = hfr_installations"
      ]
    },
    {
      "cell_type": "markdown",
      "metadata": {
        "id": "V-s6dYEZqvlt"
      },
      "source": [
        "---\n",
        "## NGDAC Glider Days\n",
        "Gliders monitor water currents, temperature, and conditions that reveal effects from storms, impacts on fisheries, and the quality of our water. This information creates a more complete picture of what is happening in the ocean, as well as trends scientists might be able to detect. U.S. IOOS began counting “Glider days” in 2008 with the intent to better coordinate across U.S. glider operations and to increase the data sharing and data management of this technology. One \"Glider Day\" is defined as 1 glider in the water collecting data for 1 day.\n",
        "\n",
        "From https://gliders.ioos.us/erddap/info/index.html?page=1&itemsPerPage=1000\n",
        "\n",
        "Cumulative from 2008 - present\n",
        "\n",
        "### Conditions on our calculations:\n",
        "* drops all datasets with `datasetID` containing `delayed`.\n",
        "* duration is calculated based on the metadata ERDDAP generates.\n",
        "  * If a datum of `NaN` is in the `time` variable, the min/max will not be computed.\n",
        "\n",
        "### Checks\n",
        "\n",
        "[gist 1](https://nbviewer.org/urls/gist.githubusercontent.com/ocefpaf/e1e6f341c4149ff1d7b6541635d599fb/raw/f79b40741ed96672c025eaff9cbf87d7287b06f3/compute_gliders_days.ipynb)\n",
        "\n",
        "This one fetches individual info dataset_ids URLs and matches what you are doing with allDatasets. It is still much bigger than `gdutils`, not sure what else it is filtering.\n",
        "\n",
        "This is too slow (~20 mins), it only serves to double check this computation and to figure out how many gliders we are throwing away due to bad metadata, in this case, 1 `Nemesis-20170512T0000`. \n",
        "\n",
        "[gist 2](https://nbviewer.org/urls/gist.githubusercontent.com/ocefpaf/97b943abaa1490701cd386741fabeb56/raw/9628c27b678fbfd678c80195869112e64e32c5ad/compute_gliders_days-time-var.ipynb)\n",
        "\n",
        "This one is a similar approach but with the time variable instead. We drop the NaN in the time var, so we do include most of `Nemesis-20170512T0000`. Note that it is larger, but not by much, than just the inclusion of `Nemesis-20170512T0000` and that is probably because the metadata is wrong in a few places. \n",
        "\n",
        "In theory the last one is more accurate but the difference is small.\n"
      ]
    },
    {
      "cell_type": "code",
      "execution_count": 7,
      "metadata": {
        "colab": {
          "base_uri": "https://localhost:8080/"
        },
        "id": "4YBCBGGKTGG3",
        "outputId": "a4867d15-1049-42e7-e4f3-4c4a5a307a30"
      },
      "outputs": [
        {
          "output_type": "stream",
          "name": "stdout",
          "text": [
            "Cumulative glider days: 53672\n"
          ]
        }
      ],
      "source": [
        "import pandas as pd\n",
        "df_glider = pd.read_csv('https://gliders.ioos.us/erddap/tabledap/allDatasets.csvp?minTime%2CmaxTime%2CdatasetID')\n",
        "df_glider.dropna(\n",
        "    axis=0, \n",
        "    inplace=True,\n",
        "    )\n",
        "\n",
        "# drop delayed datasets\n",
        "df_glider = df_glider[df_glider[\"datasetID\"].str.contains(\"delayed\")==False]\n",
        "\n",
        "df_glider[['minTime (UTC)','maxTime (UTC)']] = df_glider[\n",
        "                                                         ['minTime (UTC)','maxTime (UTC)']\n",
        "                                                         ].apply(pd.to_datetime)\n",
        "\n",
        "df_glider['glider_days'] = (df_glider['maxTime (UTC)'] - df_glider['minTime (UTC)']).dt.days\n",
        "\n",
        "glider_days = df_glider['glider_days'].sum()\n",
        "\n",
        "print('Cumulative glider days:', glider_days)\n",
        "\n",
        "ioos_btn_df.loc[ioos_btn_df['date_UTC']==today, ['NGDAC Glider Days']] = glider_days"
      ]
    },
    {
      "cell_type": "code",
      "execution_count": 8,
      "metadata": {
        "id": "fC0q963WEGKu"
      },
      "outputs": [],
      "source": [
        "# start_date = '2021-10-01'\n",
        "# end_date = '2021-12-31'\n",
        "\n",
        "# # find glider deployments between 10/01 and 12/31\n",
        "# glider_day_within = df_glider.loc[\n",
        "#     (df_glider['minTime (UTC)'] > pd.to_datetime(start_date,utc=True)) &\n",
        "#     (df_glider['maxTime (UTC)'] < pd.to_datetime(end_date,utc=True))\n",
        "# ]\n",
        "\n",
        "# # gliders that start before 10/01 and end after 12/31\n",
        "# glider_day_outside = df_glider.loc[\n",
        "#     (df_glider['minTime (UTC)'] < pd.to_datetime(start_date,utc=True)) &\n",
        "#     (df_glider['maxTime (UTC)'] > pd.to_datetime(end_date,utc=True))\n",
        "# ]\n",
        "\n",
        "# glider_day_outside.loc[:, 'maxTime (UTC)'] = pd.to_datetime(end_date, utc=True)\n",
        "# glider_day_outside.loc[:, 'minTime (UTC)'] = pd.to_datetime(start_date, utc=True)\n",
        "\n",
        "# # drop the ones from above as they will be duplicates in the next round of filtering\n",
        "# df_glider.drop(axis=0, index=glider_day_outside.index, inplace=True)\n",
        "\n",
        "# # Find gliders that start before 10/01 and end after 10/01\n",
        "# glider_day_lower = df_glider.loc[\n",
        "#     (df_glider['minTime (UTC)'] < pd.to_datetime(start_date,utc=True)) &\n",
        "#     (df_glider['maxTime (UTC)'] > pd.to_datetime(start_date,utc=True))\n",
        "# ]\n",
        "\n",
        "# glider_day_lower.loc[:,'minTime (UTC)'] = pd.to_datetime(start_date, utc=True)\n",
        "\n",
        "# # Find gliders that start before 12/31 and end after 12/31.\n",
        "# glider_day_upper = df_glider.loc[\n",
        "#     (df_glider['minTime (UTC)']<pd.to_datetime(end_date,utc=True)) &\n",
        "#     (df_glider['maxTime (UTC)']>pd.to_datetime(end_date,utc=True))\n",
        "# ]\n",
        "\n",
        "# glider_day_upper.loc[:,'maxTime (UTC)'] = pd.to_datetime(end_date, utc=True)\n",
        "\n",
        "# # Combine it all together into one DF.\n",
        "# glider_subset = pd.concat([glider_day_lower, \n",
        "#                            glider_day_within, \n",
        "#                            glider_day_upper, \n",
        "#                            glider_day_outside], \n",
        "#                           verify_integrity=True)\n",
        "\n",
        "# # Calculate the days between min time and max time.\n",
        "# glider_subset['glider_days'] = (glider_subset['maxTime (UTC)'] - glider_subset['minTime (UTC)']).dt.days\n",
        "\n",
        "# # Calculate total glider days.\n",
        "# glider_subset['glider_days'].sum()\n",
        "\n",
        "# print(\"Glider days between %s and %s: %s\" % (start_date,end_date,glider_subset['glider_days'].sum()))"
      ]
    },
    {
      "cell_type": "markdown",
      "metadata": {
        "id": "iYk1km3P861f"
      },
      "source": [
        "---\n",
        "## National Platforms\n",
        "\n",
        "The National backbone of IOOS includes buoys, water level gauges,as well as coastal and estuary stations run by our federal partners. Platforms calculated within this total are assets within the EEZ. For buoys this includes platforms managed by NOAA's National Data Buoy Center, the NOAA NMFS Chesapeake Bay Interpretive Buoy System (CBIBS), and the U.S. Army Corps of Engineers’ Coastal Data Information Program (CDIP), Ocean Acidification Program , Ecosystems and Fishery Oceanography Coordinated Investigations (EcoFOCI). For guages, this includes National Water Level Observation Network guages operated by the Center for Operational Oceanographic Products and Services (CO-OPS). The coastal and estuary stations are maintained through NOAA's National Estuarine Research Reserves (NERR) System-Wide Management Program (SWMP)."
      ]
    },
    {
      "cell_type": "markdown",
      "metadata": {
        "id": "xGHalY-14iGB"
      },
      "source": [
        "### CO-OPS\n",
        "* https://opendap.co-ops.nos.noaa.gov/stations/index.jsp\n",
        "  * as xml: https://opendap.co-ops.nos.noaa.gov/stations/stationsXML.jsp\n",
        "* https://tidesandcurrents.noaa.gov/cdata/StationList?type=Current+Data&filter=active"
      ]
    },
    {
      "cell_type": "code",
      "execution_count": 9,
      "metadata": {
        "colab": {
          "base_uri": "https://localhost:8080/"
        },
        "id": "wZKANnz8sC5D",
        "outputId": "409ad54c-a49a-42f5-b0b6-0fcc20e5b8d9"
      },
      "outputs": [
        {
          "output_type": "stream",
          "name": "stdout",
          "text": [
            "All stations: 379\n",
            "Ports: 66\n"
          ]
        }
      ],
      "source": [
        "#from lxml import etree\n",
        "import requests\n",
        "\n",
        "xml = requests.get('https://opendap.co-ops.nos.noaa.gov/stations/stationsXML.jsp').text\n",
        "import re\n",
        "COOPS = sum(1 for _ in re.finditer(r'\\b%s\\b' % re.escape(\"station name\"), xml))\n",
        "print(\"All stations:\",COOPS)\n",
        "\n",
        "url = 'https://tidesandcurrents.noaa.gov/cdata/StationListFormat?type=Current+Data&filter=active&format=csv'\n",
        "\n",
        "df_coops = pd.read_csv(url)\n",
        "#print(df_coops[' Project'].unique())\n",
        "ports = df_coops[df_coops[' Project'].astype(str).str.contains('PORTS')].shape[0]\n",
        "print(\"Ports:\", ports)"
      ]
    },
    {
      "cell_type": "markdown",
      "metadata": {
        "id": "TmDAxLm24q7g"
      },
      "source": [
        "### NDBC\n",
        "https://www.ndbc.noaa.gov/wstat.shtml\tBuoys: 106 (103 base-funded); CMAN: 45"
      ]
    },
    {
      "cell_type": "code",
      "execution_count": 10,
      "metadata": {
        "colab": {
          "base_uri": "https://localhost:8080/"
        },
        "id": "OWcvMhvR4xWt",
        "outputId": "208eec8f-ed91-4b01-8db0-83a283e0c76e"
      },
      "outputs": [
        {
          "output_type": "stream",
          "name": "stdout",
          "text": [
            "NDBC: 149\n"
          ]
        }
      ],
      "source": [
        "import requests\n",
        "from bs4 import BeautifulSoup\n",
        "import re\n",
        "import pprint\n",
        "\n",
        "url = 'https://www.ndbc.noaa.gov/wstat.shtml'\n",
        "\n",
        "html = requests.get(url).text\n",
        "\n",
        "soup = BeautifulSoup(html, 'html.parser')\n",
        "\n",
        "string_to_find = ['Total Base Funded Buoys:','Total Other Buoys:',\n",
        "                  'Total Moored Buoys:','Total Base Funded Stations:',\n",
        "                  'Total Stations:']\n",
        "\n",
        "ndbc = dict()\n",
        "for string in string_to_find:\n",
        "    for tag in soup.find_all(\"td\", string=string):\n",
        "        ndbc[string] = int(tag.next_sibling.string)\n",
        "\n",
        "#pprint.pprint(ndbc)\n",
        "\n",
        "NDBC = ndbc['Total Moored Buoys:'] + ndbc['Total Base Funded Stations:']\n",
        "print('NDBC:',NDBC)"
      ]
    },
    {
      "cell_type": "markdown",
      "metadata": {
        "id": "PvdJyWvN40Wk"
      },
      "source": [
        "### NERRS\n",
        "https://nosc.noaa.gov/OSC/OSN/index.php\tNERRS SWMP; Across 29 NERRS; Source = internal access only - NOAA Observing System Council.\n",
        "\n",
        "http://cdmo.baruch.sc.edu/webservices.cfm <- need IP address approval\n",
        "\n",
        "Need number of stations (120 last time)"
      ]
    },
    {
      "cell_type": "code",
      "execution_count": 11,
      "metadata": {
        "colab": {
          "base_uri": "https://localhost:8080/"
        },
        "id": "vB1MEtDb_Map",
        "outputId": "fba5db68-0bec-4627-cc7f-d52a4cb19c1e"
      },
      "outputs": [
        {
          "output_type": "stream",
          "name": "stdout",
          "text": [
            "NERRS reserves: 140\n"
          ]
        }
      ],
      "source": [
        "\n",
        "import requests\n",
        "from bs4 import BeautifulSoup\n",
        "import re\n",
        "\n",
        "url = 'https://coast.noaa.gov/nerrs/about/'\n",
        "\n",
        "html = requests.get(url).text\n",
        "\n",
        "soup = BeautifulSoup(html, 'html.parser')\n",
        "\n",
        "string_to_find = ['The National Estuarine Research Reserve System is a network of ']\n",
        "\n",
        "nerrs = dict()\n",
        "for string in string_to_find:\n",
        "  for tag in soup.find_all(\"meta\", attrs={'content': re.compile(string)}, limit=1):\n",
        "    res = [int(i) for i in tag['content'].split() if i.isdigit()] # extract number\n",
        "    #print(tag['content'])\n",
        "    NERRS = int(res[0])\n",
        "    #print('%s = %s' % (string, tag.next_sibling.string))\n",
        "\n",
        "NERRS = 140\n",
        "\n",
        "print(\"NERRS reserves:\",NERRS)\n"
      ]
    },
    {
      "cell_type": "markdown",
      "metadata": {
        "id": "_uH7fBzJ43vL"
      },
      "source": [
        "### CBIBS\n",
        "https://buoybay.noaa.gov/locations\n",
        "\n",
        "[API docs](https://buoybay.noaa.gov/node/174)\n",
        "\n",
        "Base URL: https://mw.buoybay.noaa.gov/api/v1\n",
        "\n",
        "Testing Key: f159959c117f473477edbdf3245cc2a4831ac61f\n",
        "\n",
        "Latest measurements:\n",
        "https://mw.buoybay.noaa.gov/api/v1/json/station?key=f159959c117f473477edbdf3245cc2a4831ac61f"
      ]
    },
    {
      "cell_type": "code",
      "execution_count": 12,
      "metadata": {
        "colab": {
          "base_uri": "https://localhost:8080/"
        },
        "id": "nIIbzvJO49Vb",
        "outputId": "d97758da-6ae6-4519-8934-becee9db186a"
      },
      "outputs": [
        {
          "output_type": "stream",
          "name": "stdout",
          "text": [
            "CBIBS Stations: 10\n"
          ]
        }
      ],
      "source": [
        "import json\n",
        "\n",
        "base_url = 'https://mw.buoybay.noaa.gov/api/v1'\n",
        "apikey = 'f159959c117f473477edbdf3245cc2a4831ac61f'\n",
        "start = '2021-12-08T01:00:00z'\n",
        "end = '2021-12-09T23:59:59z'\n",
        "var = 'Position'\n",
        "\n",
        "query_url = '{}/json/query?key={}&sd={}&ed={}&var={}'.format(base_url,apikey,start,end,var)\n",
        "#query_url = '{}/json/station?key={}'.format(base_url, apikey)\n",
        "\n",
        "json = json.loads(requests.get(query_url).text)\n",
        "\n",
        "CBIBS = len(json['stations'])\n",
        "\n",
        "print(\"CBIBS Stations:\",CBIBS)"
      ]
    },
    {
      "cell_type": "markdown",
      "metadata": {
        "id": "z66nOWtO5KKE"
      },
      "source": [
        "### OAP\n",
        "https://cdip.ucsd.edu/m/stn_table/\tIncludes overlap with the RAs and other programs\n",
        "\n",
        "19\n",
        "\n",
        "See buoys and moorings at https://oceanacidification.noaa.gov/WhatWeDo/Data.aspx\n",
        "\n",
        "pull kml from pmel"
      ]
    },
    {
      "cell_type": "code",
      "execution_count": 13,
      "metadata": {
        "id": "lJnDfvb05PzD"
      },
      "outputs": [],
      "source": [
        "# import geopandas as gpd\n",
        "# import fiona\n",
        "\n",
        "# gpd.io.file.fiona.drvsupport.supported_drivers['KML'] = 'rw'\n",
        "\n",
        "# kml = 'https://www.pmel.noaa.gov/co2/files/basekml.kml'\n",
        "\n",
        "# df = gpd.read_file(kml, driver='KML')\n",
        "\n",
        "# df['Name'].unique().size"
      ]
    },
    {
      "cell_type": "code",
      "execution_count": 14,
      "metadata": {
        "colab": {
          "base_uri": "https://localhost:8080/"
        },
        "id": "rxgwEEzbEGKx",
        "outputId": "b4395f9c-c3ae-4ef5-d142-b942b1393351"
      },
      "outputs": [
        {
          "output_type": "stream",
          "name": "stdout",
          "text": [
            "OAP Stations: 19\n"
          ]
        }
      ],
      "source": [
        "import requests\n",
        "from bs4 import BeautifulSoup\n",
        "import re\n",
        "\n",
        "url = 'https://oceanacidification.noaa.gov/WhatWeDo/Data.aspx'\n",
        "\n",
        "#url = 'https://www.arcgis.com/apps/Embed/index.html?webmap=9512aae84cae409786339479e31b6c8a&amp;extent=-152.4023,-57.7072,146.7773,74.4006&amp;zoom=true&amp;scale=true&amp;disable_scroll=true&amp;theme=light'\n",
        "\n",
        "html = requests.get(url).text\n",
        "\n",
        "soup = BeautifulSoup(html, 'html.parser')\n",
        "\n",
        "#string_to_find = ['The National Etuarine Research Reserve System is a network of ']\n",
        "#soup.find_all(atts={'id':'mapDiv_gc'})\n",
        "text = soup.find_all(attrs={'id':\"dnn_ctr14711_ContentPane\"})[0].find_all(attrs={'class':'lead'})[0].text #id=\"mapDiv\")\n",
        "\n",
        "res = [int(i) for i in text.split() if i.isdigit()] # extract number\n",
        "    #print(tag['content'])\n",
        "OAP = int(res[0])\n",
        "\n",
        "print(\"OAP Stations:\",OAP)\n",
        "\n",
        "    #res = [int(i) for i in tag['content'].split() if i.isdigit()] # extract number\n",
        "    #print(tag['content'])\n",
        "    #nerrs = res[0]\n",
        "    #print('%s = %s' % (string, tag.next_sibling.string))\n",
        "\n",
        "#print(\"NERRS reserves:\",nerrs)"
      ]
    },
    {
      "cell_type": "markdown",
      "metadata": {
        "id": "wt9iwonW5Now"
      },
      "source": [
        "### CDIP\n",
        "https://cdip.ucsd.edu/m/stn_table/\tIncludes overlap with the RAs\n",
        "\n",
        "67\n",
        "\n",
        "https://cdip.ucsd.edu/themes/?d2=p1:m:mobile&regions=all&units=standard&zoom=auto&pub_set=public&tz=UTC&ll_fmt=dm&numcolorbands=10&palette=cdip_classic&high=6.096"
      ]
    },
    {
      "cell_type": "code",
      "execution_count": 15,
      "metadata": {
        "colab": {
          "base_uri": "https://localhost:8080/"
        },
        "id": "r7qEAAlV5NWj",
        "outputId": "77d4bfe0-c9f5-4796-9c3f-78a109b81bdf"
      },
      "outputs": [
        {
          "output_type": "stream",
          "name": "stdout",
          "text": [
            "CDIP Stations: 66\n"
          ]
        }
      ],
      "source": [
        "import lxml\n",
        "import pandas as pd\n",
        "\n",
        "url = 'https://cdip.ucsd.edu/themes/?d2=p1:m:mobile&regions=all&units=standard&zoom=auto&pub_set=public&tz=UTC&ll_fmt=dm&numcolorbands=10&palette=cdip_classic&high=6.096'\n",
        "#url = 'https://cdip.ucsd.edu/m/stn_table/'\n",
        "table_list = pd.read_html(url, match='Stn')\n",
        "\n",
        "df = table_list[0]\n",
        "\n",
        "CDIP = df['Stn'].unique().size\n",
        "\n",
        "print(\"CDIP Stations:\",CDIP)"
      ]
    },
    {
      "cell_type": "markdown",
      "metadata": {
        "id": "ScmxkStTNdf2"
      },
      "source": [
        "### Calculating National Platforms\n",
        "\n",
        "from 2018: CO-OPS + NDBC + NERRS + CBIBS + OAP + CDIP = 747"
      ]
    },
    {
      "cell_type": "code",
      "execution_count": 16,
      "metadata": {
        "colab": {
          "base_uri": "https://localhost:8080/"
        },
        "id": "IpX8NZl9Njwi",
        "outputId": "f36276da-e3d3-441f-f755-be1ae34d748e"
      },
      "outputs": [
        {
          "output_type": "stream",
          "name": "stdout",
          "text": [
            "National Platforms: 763\n"
          ]
        }
      ],
      "source": [
        "national_platforms = COOPS + NDBC + NERRS + CBIBS + OAP + CDIP\n",
        "print(\"National Platforms:\",national_platforms)\n",
        "\n",
        "ioos_btn_df.loc[ioos_btn_df['date_UTC']==today, ['National Platforms']] = national_platforms"
      ]
    },
    {
      "cell_type": "markdown",
      "metadata": {
        "id": "_vmKPAdZ9SBU"
      },
      "source": [
        "---\n",
        "## Regional Platforms\n",
        "\n",
        "Regional platforms are calculated from the annual IOOS asset inventory submitted by each Regional Association. More information about the IOOS asset inventory can be found at https://github.com/ioos/ioos-asset-inventory\n",
        "\n",
        "The data from 2020 can be found [here](https://github.com/ioos/ioos-asset-inventory/tree/main/2020) and is available on [ERDDAP](http://erddap.ioos.us/erddap/tabledap/processed_asset_inventory.html)."
      ]
    },
    {
      "cell_type": "code",
      "execution_count": 17,
      "metadata": {
        "colab": {
          "base_uri": "https://localhost:8080/"
        },
        "id": "WTQ0WgP09Vxc",
        "outputId": "19f0363d-3983-42b6-cdbd-b7565760156b"
      },
      "outputs": [
        {
          "output_type": "stream",
          "name": "stdout",
          "text": [
            "Regional platforms: 517\n"
          ]
        }
      ],
      "source": [
        "url = 'http://erddap.ioos.us/erddap/tabledap/processed_asset_inventory.csvp'\n",
        "\n",
        "df_regional_platforms = pd.read_csv(url)\n",
        "\n",
        "regional_platforms = df_regional_platforms['station_long_name'].unique().size\n",
        "\n",
        "print('Regional platforms:',regional_platforms)\n",
        "\n",
        "ioos_btn_df.loc[ioos_btn_df['date_UTC']==today, ['Regional Platforms']] = regional_platforms"
      ]
    },
    {
      "cell_type": "markdown",
      "metadata": {
        "id": "X5BeiqhIXme-"
      },
      "source": [
        "---\n",
        "## ATN Deployments\n",
        "\n",
        "See Deployments at https://portal.atn.ioos.us/#\n",
        "Not sure if there is a way to scrape that page or get those values from somewhere\n",
        "\n",
        "4242"
      ]
    },
    {
      "cell_type": "code",
      "execution_count": 18,
      "metadata": {
        "colab": {
          "base_uri": "https://localhost:8080/"
        },
        "id": "bQxKAuUXXwRW",
        "outputId": "c4eef6ad-d38a-40e0-a2aa-a48e992c97f2"
      },
      "outputs": [
        {
          "output_type": "stream",
          "name": "stdout",
          "text": [
            "ATN Deployments: 4444\n"
          ]
        }
      ],
      "source": [
        "# from bs4 import BeautifulSoup\n",
        "# import requests\n",
        "\n",
        "# headers = {'Accept-Encoding': 'identity'}\n",
        "\n",
        "# soup = BeautifulSoup(requests.get('https://portal.atn.ioos.us', headers=headers).text, 'html.parser')\n",
        "\n",
        "# print(soup.prettify())\n",
        "\n",
        "atn_deployments = 4444\n",
        "\n",
        "print(\"ATN Deployments:\",atn_deployments)\n",
        "\n",
        "ioos_btn_df.loc[ioos_btn_df['date_UTC']==today, ['ATN Deployments']] = atn_deployments"
      ]
    },
    {
      "cell_type": "markdown",
      "metadata": {
        "id": "IaoMWowM3cw6"
      },
      "source": [
        "---\n",
        "## MBON Projects\n",
        "Living marine resources are essential to the health and recreational needs of billions of people, yet marine biodiversity and ecosystem processes remain major frontiers in ocean observing. IOOS has a critical role in implementing operational, sustained programs to observe biology and catalogue biodiversity to ensure these data are available for science, management, and the public. IOOS is leading development of the Marine Biodiversity Observation Network, with core funding from NOAA, NASA and BOEM. MBON connects regional networks of scientists, resource managers, and users and integrates data from existing long-term programs to understand human- and climate-induced change and its impacts on marine life. MBON partners are pioneering application of new remote sensing methods, imaging, molecular approaches (eDNA and ‘omics), and other technologies and integrating these with traditional research methods and coordinated experiments to understand changing patterns of biodiversity.\n",
        "\n",
        "These are the currently funded MBON projects. At this time, we are manually checking https://marinebon.org/ and counting the number of U.S. projects.\n",
        "\n",
        "We hope to be able to use the resources [here](https://github.com/marinebon/www_marinebon2/tree/master/content/project) to automatically harvest these metrics in the future.\n",
        "\n",
        "For 2022 the currently funded projects = 6"
      ]
    },
    {
      "cell_type": "code",
      "execution_count": 19,
      "metadata": {
        "colab": {
          "base_uri": "https://localhost:8080/"
        },
        "id": "AZrPHc0T3k2i",
        "outputId": "eb84a1f8-7851-41d8-a05d-b29d173995be"
      },
      "outputs": [
        {
          "output_type": "stream",
          "name": "stdout",
          "text": [
            "MBON Projects: 6\n"
          ]
        }
      ],
      "source": [
        "mbon_projects = 6\n",
        "\n",
        "print(\"MBON Projects:\",mbon_projects)\n",
        "\n",
        "ioos_btn_df.loc[ioos_btn_df['date_UTC']==today, ['MBON Projects']] = mbon_projects"
      ]
    },
    {
      "cell_type": "markdown",
      "metadata": {
        "id": "DxsnHFRJEGKz"
      },
      "source": [
        "## OTT Projects\n",
        "\n",
        "The IOOS Ocean Technology Transition project sponsors the transition of emerging marine observing technologies, for which there is an existing operational requirement and a demonstrated commitment to integration and use by the ocean observing community, to operational mode. Each year IOOS supports 2-4 projects. The number here reflects the total number projects supported by this effort.\n",
        "\n",
        "These are the current active OTT projects which was provided by the OTT Program Manager. Hopefully, we can find a good place to harvest these numbers from.\n",
        "\n",
        "For now, we have the [website](https://ioos.noaa.gov/project/ocean-technology-transition/) and personal communication that there are 8 live projects."
      ]
    },
    {
      "cell_type": "code",
      "execution_count": 20,
      "metadata": {
        "id": "FqxRZ0ZnEGKz"
      },
      "outputs": [],
      "source": [
        "ott_projects = 8\n",
        "\n",
        "ioos_btn_df.loc[ioos_btn_df['date_UTC']==today, ['OTT Projects']] = ott_projects"
      ]
    },
    {
      "cell_type": "markdown",
      "metadata": {
        "id": "wwXNR2m2EGKz"
      },
      "source": [
        "## NHABON Pilot Projects\n",
        "\n",
        "These are the National Harmful Algal Bloom Observing Network Pilot Project awards. Currently these were calculated from the [award announcement pdf](https://cdn.ioos.noaa.gov/media/2021/10/NHABON-Funding-Awards-FY21_v2.pdf) which states that there are 9 total.\n",
        "\n",
        "Might be able to parse the pdf and calculate this on the fly."
      ]
    },
    {
      "cell_type": "code",
      "execution_count": 21,
      "metadata": {
        "id": "0QvdLybSEGKz"
      },
      "outputs": [],
      "source": [
        "nhabon_projects = 9\n",
        "\n",
        "ioos_btn_df.loc[ioos_btn_df['date_UTC']==today, ['HAB Pilot Projects']] = nhabon_projects"
      ]
    },
    {
      "cell_type": "markdown",
      "metadata": {
        "id": "915oRsuKEGK0"
      },
      "source": [
        "## QARTOD Manuals\n",
        "\n",
        "As of the last update there are twelve QARTOD manuals in-place for IOOS. These manuals establish authoritative QA/QC procedures for oceanographic data.\n",
        "\n",
        "The five year plan lists 16 manuals/papers. There's 13 QC manuals plus the Flags document, the QA paper and the Glider DAC paper. The Glider DAC paper is an implementation plan of the TS QC manual, and it's posted under the Implementation tab on the QARTOD home page, at https://cdn.ioos.noaa.gov/media/2017/12/Manual-for-QC-of-Glider-Data_05_09_16.pdf.\n",
        "\n",
        "\n",
        "https://ioos.noaa.gov/project/qartod/"
      ]
    },
    {
      "cell_type": "code",
      "execution_count": 22,
      "metadata": {
        "id": "7NabPJxcEGK0"
      },
      "outputs": [],
      "source": [
        "ioos_btn_df.loc[ioos_btn_df['date_UTC']==today, ['QARTOD Manuals']] = 13"
      ]
    },
    {
      "cell_type": "markdown",
      "metadata": {
        "id": "vZ2zMhziEGK0"
      },
      "source": [
        "## IOOS Core Variables\n",
        "\n",
        "The IOOS Core Variables are presented on [this website](https://www.iooc.us/task-teams/core-ioos-variables/). For now, this is a hard coded value, but it should be easy to parse that page and count up the variables."
      ]
    },
    {
      "cell_type": "code",
      "execution_count": 23,
      "metadata": {
        "id": "Tt21PcyhEGK0",
        "outputId": "5c1afc55-60f5-47aa-cac9-2fcfb28d85d3",
        "colab": {
          "base_uri": "https://localhost:8080/"
        }
      },
      "outputs": [
        {
          "output_type": "stream",
          "name": "stdout",
          "text": [
            "IOOS Core Variables: [34]\n"
          ]
        }
      ],
      "source": [
        "from bs4 import BeautifulSoup\n",
        "import requests\n",
        "\n",
        "headers = {'Accept-Encoding': 'identity'}\n",
        "\n",
        "url = 'https://www.iooc.us/task-teams/core-ioos-variables/'\n",
        "\n",
        "soup = BeautifulSoup(requests.get(url, headers=headers).text, 'html.parser')\n",
        "\n",
        "text = soup.find(style=\"color: #808080;\").get_text() # grab the sentece w/ the number\n",
        "\n",
        "core_vars = [int(i) for i in text.split() if i.isdigit()] # extract number\n",
        "\n",
        "print('IOOS Core Variables:',core_vars)\n",
        "\n",
        "ioos_btn_df.loc[ioos_btn_df['date_UTC']==today, ['IOOS Core Variables']] = core_vars"
      ]
    },
    {
      "cell_type": "markdown",
      "metadata": {
        "id": "LjDpDI_nEGK0"
      },
      "source": [
        "---\n",
        "## Metadata Records\n",
        "These are the number of metadata records currently available through the [IOOS Catalog](https://data.ioos.us). Previously the number of records was on the order of 8,600. Below are two different mechanisms to calculate this metric, however they do differ and the reason for that difference is unclear. \n",
        "\n",
        "https://data.ioos.us/"
      ]
    },
    {
      "cell_type": "code",
      "execution_count": 33,
      "metadata": {
        "id": "lhlZanaAEGK0"
      },
      "outputs": [],
      "source": [
        "# try:\n",
        "#   import owslib\n",
        "# except:\n",
        "#   %pip install owslib\n",
        "\n",
        "# from owslib.csw import CatalogueServiceWeb\n",
        "\n",
        "# endpoint = \"https://data.ioos.us/csw\"\n",
        "\n",
        "# csw = CatalogueServiceWeb(endpoint, timeout=60)\n",
        "\n",
        "# csw.getdomain('GetRecords.resultType')\n",
        "\n",
        "# csw.results\n",
        "\n",
        "# csw.getrecords2()\n",
        "\n",
        "# records = csw.results['matches']\n",
        "\n",
        "# print(\"Found {} records from {}.\".format(records,endpoint))"
      ]
    },
    {
      "cell_type": "code",
      "execution_count": 27,
      "metadata": {
        "colab": {
          "base_uri": "https://localhost:8080/"
        },
        "id": "mA_qshwwEGK0",
        "outputId": "1e8b3652-115d-45a1-df1e-677a1f6e15d0"
      },
      "outputs": [
        {
          "output_type": "stream",
          "name": "stdout",
          "text": [
            "Found 7213 records from https://data.ioos.us/api/3/action/package_list.\n"
          ]
        }
      ],
      "source": [
        "import pandas as pd\n",
        "\n",
        "url = 'https://data.ioos.us/api/3/action/package_list'\n",
        "\n",
        "mdf = pd.read_json(url)\n",
        "\n",
        "metadata_records = len(mdf.result.unique())\n",
        "\n",
        "print(\"Found {} records from {}.\".format(metadata_records,url))\n",
        "\n",
        "ioos_btn_df.loc[ioos_btn_df['date_UTC']==today, ['Metadata Records']] = metadata_records"
      ]
    },
    {
      "cell_type": "markdown",
      "metadata": {
        "id": "kN5S0DfoEGK1"
      },
      "source": [
        "---\n",
        "## IOOS\n",
        "This represents the one IOOS Office."
      ]
    },
    {
      "cell_type": "code",
      "execution_count": 28,
      "metadata": {
        "colab": {
          "base_uri": "https://localhost:8080/"
        },
        "id": "cMZESRfTEGK1",
        "outputId": "e0a79577-4dcd-476f-f432-dafc098c5fb4"
      },
      "outputs": [
        {
          "output_type": "stream",
          "name": "stdout",
          "text": [
            "IOOS: 1\n"
          ]
        }
      ],
      "source": [
        "ioos = 1\n",
        "\n",
        "print(\"IOOS:\",ioos)\n",
        "\n",
        "ioos_btn_df.loc[ioos_btn_df['date_UTC']==today, ['IOOS']] = ioos"
      ]
    },
    {
      "cell_type": "markdown",
      "metadata": {
        "id": "PpEovbEJQLBF"
      },
      "source": [
        "---\n",
        "## Final IOOS by the Numbers table"
      ]
    },
    {
      "cell_type": "code",
      "execution_count": 29,
      "metadata": {
        "id": "ZzLlve4OEGK1",
        "outputId": "6b65207a-cb12-4616-d9c3-22653a2ea874",
        "colab": {
          "base_uri": "https://localhost:8080/",
          "height": 257
        }
      },
      "outputs": [
        {
          "output_type": "execute_result",
          "data": {
            "text/plain": [
              "            Federal Partners  Regional Associations  HF Radar Stations  \\\n",
              "date_UTC                                                                 \n",
              "2018-02-01              17.0                   11.0              150.0   \n",
              "2022-04-22              17.0                   11.0              165.0   \n",
              "\n",
              "            NGDAC Glider Days  National Platforms  Regional Platforms  \\\n",
              "date_UTC                                                                \n",
              "2018-02-01            52027.0               737.0               335.0   \n",
              "2022-04-22            53672.0               763.0               517.0   \n",
              "\n",
              "            ATN Deployments  MBON Projects  OTT Projects  HAB Pilot Projects  \\\n",
              "date_UTC                                                                       \n",
              "2018-02-01              NaN            NaN           NaN                 NaN   \n",
              "2022-04-22           4444.0            6.0           8.0                 9.0   \n",
              "\n",
              "            QARTOD Manuals  IOOS Core Variables  Metadata Records  IOOS  \\\n",
              "date_UTC                                                                  \n",
              "2018-02-01            13.0                 34.0            8600.0   1.0   \n",
              "2022-04-22            13.0                 34.0            7213.0   1.0   \n",
              "\n",
              "            COMT Projects  \n",
              "date_UTC                   \n",
              "2018-02-01            NaN  \n",
              "2022-04-22            5.0  "
            ],
            "text/html": [
              "\n",
              "  <div id=\"df-fd9167bf-3280-4722-ba52-5623a33e4fba\">\n",
              "    <div class=\"colab-df-container\">\n",
              "      <div>\n",
              "<style scoped>\n",
              "    .dataframe tbody tr th:only-of-type {\n",
              "        vertical-align: middle;\n",
              "    }\n",
              "\n",
              "    .dataframe tbody tr th {\n",
              "        vertical-align: top;\n",
              "    }\n",
              "\n",
              "    .dataframe thead th {\n",
              "        text-align: right;\n",
              "    }\n",
              "</style>\n",
              "<table border=\"1\" class=\"dataframe\">\n",
              "  <thead>\n",
              "    <tr style=\"text-align: right;\">\n",
              "      <th></th>\n",
              "      <th>Federal Partners</th>\n",
              "      <th>Regional Associations</th>\n",
              "      <th>HF Radar Stations</th>\n",
              "      <th>NGDAC Glider Days</th>\n",
              "      <th>National Platforms</th>\n",
              "      <th>Regional Platforms</th>\n",
              "      <th>ATN Deployments</th>\n",
              "      <th>MBON Projects</th>\n",
              "      <th>OTT Projects</th>\n",
              "      <th>HAB Pilot Projects</th>\n",
              "      <th>QARTOD Manuals</th>\n",
              "      <th>IOOS Core Variables</th>\n",
              "      <th>Metadata Records</th>\n",
              "      <th>IOOS</th>\n",
              "      <th>COMT Projects</th>\n",
              "    </tr>\n",
              "    <tr>\n",
              "      <th>date_UTC</th>\n",
              "      <th></th>\n",
              "      <th></th>\n",
              "      <th></th>\n",
              "      <th></th>\n",
              "      <th></th>\n",
              "      <th></th>\n",
              "      <th></th>\n",
              "      <th></th>\n",
              "      <th></th>\n",
              "      <th></th>\n",
              "      <th></th>\n",
              "      <th></th>\n",
              "      <th></th>\n",
              "      <th></th>\n",
              "      <th></th>\n",
              "    </tr>\n",
              "  </thead>\n",
              "  <tbody>\n",
              "    <tr>\n",
              "      <th>2018-02-01</th>\n",
              "      <td>17.0</td>\n",
              "      <td>11.0</td>\n",
              "      <td>150.0</td>\n",
              "      <td>52027.0</td>\n",
              "      <td>737.0</td>\n",
              "      <td>335.0</td>\n",
              "      <td>NaN</td>\n",
              "      <td>NaN</td>\n",
              "      <td>NaN</td>\n",
              "      <td>NaN</td>\n",
              "      <td>13.0</td>\n",
              "      <td>34.0</td>\n",
              "      <td>8600.0</td>\n",
              "      <td>1.0</td>\n",
              "      <td>NaN</td>\n",
              "    </tr>\n",
              "    <tr>\n",
              "      <th>2022-04-22</th>\n",
              "      <td>17.0</td>\n",
              "      <td>11.0</td>\n",
              "      <td>165.0</td>\n",
              "      <td>53672.0</td>\n",
              "      <td>763.0</td>\n",
              "      <td>517.0</td>\n",
              "      <td>4444.0</td>\n",
              "      <td>6.0</td>\n",
              "      <td>8.0</td>\n",
              "      <td>9.0</td>\n",
              "      <td>13.0</td>\n",
              "      <td>34.0</td>\n",
              "      <td>7213.0</td>\n",
              "      <td>1.0</td>\n",
              "      <td>5.0</td>\n",
              "    </tr>\n",
              "  </tbody>\n",
              "</table>\n",
              "</div>\n",
              "      <button class=\"colab-df-convert\" onclick=\"convertToInteractive('df-fd9167bf-3280-4722-ba52-5623a33e4fba')\"\n",
              "              title=\"Convert this dataframe to an interactive table.\"\n",
              "              style=\"display:none;\">\n",
              "        \n",
              "  <svg xmlns=\"http://www.w3.org/2000/svg\" height=\"24px\"viewBox=\"0 0 24 24\"\n",
              "       width=\"24px\">\n",
              "    <path d=\"M0 0h24v24H0V0z\" fill=\"none\"/>\n",
              "    <path d=\"M18.56 5.44l.94 2.06.94-2.06 2.06-.94-2.06-.94-.94-2.06-.94 2.06-2.06.94zm-11 1L8.5 8.5l.94-2.06 2.06-.94-2.06-.94L8.5 2.5l-.94 2.06-2.06.94zm10 10l.94 2.06.94-2.06 2.06-.94-2.06-.94-.94-2.06-.94 2.06-2.06.94z\"/><path d=\"M17.41 7.96l-1.37-1.37c-.4-.4-.92-.59-1.43-.59-.52 0-1.04.2-1.43.59L10.3 9.45l-7.72 7.72c-.78.78-.78 2.05 0 2.83L4 21.41c.39.39.9.59 1.41.59.51 0 1.02-.2 1.41-.59l7.78-7.78 2.81-2.81c.8-.78.8-2.07 0-2.86zM5.41 20L4 18.59l7.72-7.72 1.47 1.35L5.41 20z\"/>\n",
              "  </svg>\n",
              "      </button>\n",
              "      \n",
              "  <style>\n",
              "    .colab-df-container {\n",
              "      display:flex;\n",
              "      flex-wrap:wrap;\n",
              "      gap: 12px;\n",
              "    }\n",
              "\n",
              "    .colab-df-convert {\n",
              "      background-color: #E8F0FE;\n",
              "      border: none;\n",
              "      border-radius: 50%;\n",
              "      cursor: pointer;\n",
              "      display: none;\n",
              "      fill: #1967D2;\n",
              "      height: 32px;\n",
              "      padding: 0 0 0 0;\n",
              "      width: 32px;\n",
              "    }\n",
              "\n",
              "    .colab-df-convert:hover {\n",
              "      background-color: #E2EBFA;\n",
              "      box-shadow: 0px 1px 2px rgba(60, 64, 67, 0.3), 0px 1px 3px 1px rgba(60, 64, 67, 0.15);\n",
              "      fill: #174EA6;\n",
              "    }\n",
              "\n",
              "    [theme=dark] .colab-df-convert {\n",
              "      background-color: #3B4455;\n",
              "      fill: #D2E3FC;\n",
              "    }\n",
              "\n",
              "    [theme=dark] .colab-df-convert:hover {\n",
              "      background-color: #434B5C;\n",
              "      box-shadow: 0px 1px 3px 1px rgba(0, 0, 0, 0.15);\n",
              "      filter: drop-shadow(0px 1px 2px rgba(0, 0, 0, 0.3));\n",
              "      fill: #FFFFFF;\n",
              "    }\n",
              "  </style>\n",
              "\n",
              "      <script>\n",
              "        const buttonEl =\n",
              "          document.querySelector('#df-fd9167bf-3280-4722-ba52-5623a33e4fba button.colab-df-convert');\n",
              "        buttonEl.style.display =\n",
              "          google.colab.kernel.accessAllowed ? 'block' : 'none';\n",
              "\n",
              "        async function convertToInteractive(key) {\n",
              "          const element = document.querySelector('#df-fd9167bf-3280-4722-ba52-5623a33e4fba');\n",
              "          const dataTable =\n",
              "            await google.colab.kernel.invokeFunction('convertToInteractive',\n",
              "                                                     [key], {});\n",
              "          if (!dataTable) return;\n",
              "\n",
              "          const docLinkHtml = 'Like what you see? Visit the ' +\n",
              "            '<a target=\"_blank\" href=https://colab.research.google.com/notebooks/data_table.ipynb>data table notebook</a>'\n",
              "            + ' to learn more about interactive tables.';\n",
              "          element.innerHTML = '';\n",
              "          dataTable['output_type'] = 'display_data';\n",
              "          await google.colab.output.renderOutput(dataTable, element);\n",
              "          const docLink = document.createElement('div');\n",
              "          docLink.innerHTML = docLinkHtml;\n",
              "          element.appendChild(docLink);\n",
              "        }\n",
              "      </script>\n",
              "    </div>\n",
              "  </div>\n",
              "  "
            ]
          },
          "metadata": {},
          "execution_count": 29
        }
      ],
      "source": [
        "ioos_btn_df['date_UTC']=pd.to_datetime(ioos_btn_df['date_UTC'])\n",
        "ioos_btn_df.set_index('date_UTC')"
      ]
    },
    {
      "cell_type": "markdown",
      "metadata": {
        "id": "ytCvqJAaftqL"
      },
      "source": [
        "---\n",
        "## Save the calculated metrics\n",
        "\n",
        "Overwrite existing csv with previous and new data."
      ]
    },
    {
      "cell_type": "code",
      "execution_count": 30,
      "metadata": {
        "id": "Kkip7muU2R2u"
      },
      "outputs": [],
      "source": [
        "ioos_btn_df.to_csv('ioos_btn_metrics.csv', index=False)"
      ]
    },
    {
      "cell_type": "markdown",
      "source": [
        "---\n",
        "## Analysis\n",
        "Now we have the opportunity to do some analysis on the metrics we've captured. \n",
        "\n",
        "Below is an attempt to draw some comparisons between the metrics in the previous iteration and subsequent runs."
      ],
      "metadata": {
        "id": "JzZpA6nrhBCk"
      }
    },
    {
      "cell_type": "code",
      "execution_count": 31,
      "metadata": {
        "colab": {
          "base_uri": "https://localhost:8080/",
          "height": 334
        },
        "id": "FmUaiMUl2pJ2",
        "outputId": "e6ebe387-e182-4bdb-ad5b-720aa6914806"
      },
      "outputs": [
        {
          "output_type": "stream",
          "name": "stderr",
          "text": [
            "/usr/local/lib/python3.7/dist-packages/ipykernel_launcher.py:20: MatplotlibDeprecationWarning: Passing the minor parameter of set_xticks() positionally is deprecated since Matplotlib 3.2; the parameter will become keyword-only two minor releases later.\n"
          ]
        },
        {
          "output_type": "display_data",
          "data": {
            "text/plain": [
              "<Figure size 432x288 with 1 Axes>"
            ],
            "image/png": "[encoded data removed]"
          },
          "metadata": {
            "needs_background": "light"
          }
        }
      ],
      "source": [
        "import matplotlib.pyplot as plt\n",
        "import numpy as np\n",
        "\n",
        "\n",
        "labels = ioos_btn_df.drop(columns=['date_UTC']).columns.tolist()\n",
        "\n",
        "x = np.arange(len(labels))  # the label locations\n",
        "width = 0.35  # the width of the bars\n",
        "\n",
        "fig, ax = plt.subplots()\n",
        "\n",
        "for index, row in ioos_btn_df.iterrows():\n",
        "  means = row.drop(index=['date_UTC']).values\n",
        "  rects = ax.bar(x - width/2, means, width, label=row['date_UTC'].strftime('%Y-%m-%d'))\n",
        "  width = width*-1\n",
        "\n",
        "# Add some text for labels, title and custom x-axis tick labels, etc.\n",
        "ax.set_ylabel('Count')\n",
        "ax.set_title('Metric by year and type')\n",
        "ax.set_xticks(x, labels)\n",
        "ax.legend()\n",
        "\n",
        "ax.xaxis.set_ticklabels(labels, rotation=90)\n",
        "\n",
        "fig.tight_layout()\n",
        "\n",
        "plt.show()"
      ]
    },
    {
      "cell_type": "markdown",
      "source": [
        "Plot percent increase."
      ],
      "metadata": {
        "id": "z7GtocvbmyBQ"
      }
    },
    {
      "cell_type": "code",
      "execution_count": 32,
      "metadata": {
        "id": "5FkUAY3tMrs3",
        "outputId": "5f8bff61-ed94-488e-fd82-61dd4c8b55d2",
        "colab": {
          "base_uri": "https://localhost:8080/",
          "height": 597
        }
      },
      "outputs": [
        {
          "output_type": "display_data",
          "data": {
            "text/plain": [
              "<Figure size 864x576 with 1 Axes>"
            ],
            "image/png": "[encoded data removed]"
          },
          "metadata": {
            "needs_background": "light"
          }
        }
      ],
      "source": [
        "import matplotlib.pyplot as plt\n",
        "import numpy as np\n",
        "\n",
        "inc_df = ioos_btn_df.drop(columns=['date_UTC'])\n",
        "\n",
        "increase = inc_df.iloc[-1] - inc_df.iloc[-2]\n",
        "\n",
        "pcnt_increase = (increase / inc_df.iloc[-2]) * 100\n",
        "\n",
        "fig, ax = plt.subplots(figsize=(12,8))\n",
        "width = 0.35  # the width of the bars\n",
        "pcnt_increase.plot(kind='bar', ax=ax, ylabel='% change')\n",
        "\n",
        "plt.grid(visible=True, linestyle=':')\n",
        "ax.set_ylim(-100,100)\n",
        "plt.hlines(0,xmin=0,xmax=len(pcnt_increase),linestyles='solid')\n",
        "\n",
        "ax.set_title('% change of IOOS BTN metrics between {} and {}'.format(ioos_btn_df['date_UTC'].iloc[-2],ioos_btn_df['date_UTC'].iloc[-1]))\n",
        "\n",
        "plt.show()"
      ]
    },
    {
      "cell_type": "code",
      "source": [
        ""
      ],
      "metadata": {
        "id": "ukvS7ykhsaqq"
      },
      "execution_count": 32,
      "outputs": []
    }
  ],
  "metadata": {
    "colab": {
      "collapsed_sections": [],
      "name": "IOOS_BTN.ipynb",
      "provenance": [],
      "include_colab_link": true
    },
    "kernelspec": {
      "display_name": "Python 3 (ipykernel)",
      "language": "python",
      "name": "python3"
    },
    "language_info": {
      "codemirror_mode": {
        "name": "ipython",
        "version": 3
      },
      "file_extension": ".py",
      "mimetype": "text/x-python",
      "name": "python",
      "nbconvert_exporter": "python",
      "pygments_lexer": "ipython3",
      "version": "3.9.7"
    }
  },
  "nbformat": 4,
  "nbformat_minor": 0
}