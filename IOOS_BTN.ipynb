{
  "cells": [
    {
      "cell_type": "markdown",
      "metadata": {
        "id": "view-in-github",
        "colab_type": "text"
      },
      "source": [
        "<a href=\"https://colab.research.google.com/github/MathewBiddle/ioos_by_the_numbers/blob/main/IOOS_BTN.ipynb\" target=\"_parent\"><img src=\"https://colab.research.google.com/assets/colab-badge.svg\" alt=\"Open In Colab\"/></a>"
      ]
    },
    {
      "cell_type": "markdown",
      "metadata": {
        "id": "98GUIWOu35mJ"
      },
      "source": [
        "# Creating the IOOS By The Numbers\n",
        "\n",
        "[Website](https://ioos.noaa.gov/about/ioos-by-the-numbers/)\n",
        "\n",
        "[Spreadsheet](https://docs.google.com/spreadsheets/d/1AUfXmc3OwxpVdeMNjZyTGWjyR4ku3kRD5eexNrMORnI/edit#gid=516871794)"
      ]
    },
    {
      "cell_type": "code",
      "execution_count": null,
      "metadata": {
        "id": "LdpKgY6ZsVy4"
      },
      "outputs": [],
      "source": [
        "import pandas as pd\n",
        "\n",
        "# read previous metrics\n",
        "ioos_btn_df = pd.read_csv('ioos_btn_metrics.csv')#columns=['category','value','date'])"
      ]
    },
    {
      "cell_type": "code",
      "execution_count": null,
      "metadata": {
        "colab": {
          "base_uri": "https://localhost:8080/",
          "height": 208
        },
        "id": "-afzN9SfS5tk",
        "outputId": "be9d0a69-414a-4d45-f6dd-cf79fa9cd836"
      },
      "outputs": [
        {
          "data": {
            "text/html": [
              "<div>\n",
              "<style scoped>\n",
              "    .dataframe tbody tr th:only-of-type {\n",
              "        vertical-align: middle;\n",
              "    }\n",
              "\n",
              "    .dataframe tbody tr th {\n",
              "        vertical-align: top;\n",
              "    }\n",
              "\n",
              "    .dataframe thead th {\n",
              "        text-align: right;\n",
              "    }\n",
              "</style>\n",
              "<table border=\"1\" class=\"dataframe\">\n",
              "  <thead>\n",
              "    <tr style=\"text-align: right;\">\n",
              "      <th></th>\n",
              "      <th>date_UTC</th>\n",
              "      <th>Federal Partners</th>\n",
              "      <th>Regional Associations</th>\n",
              "      <th>HF Radar Stations</th>\n",
              "      <th>NGDAC Glider Days</th>\n",
              "      <th>National Platforms</th>\n",
              "      <th>Regional Platforms</th>\n",
              "      <th>ATN Deployments</th>\n",
              "      <th>MBON Projects</th>\n",
              "      <th>OTT Projects</th>\n",
              "      <th>HAB Pilot Projects</th>\n",
              "      <th>QARTOD Manuals</th>\n",
              "      <th>IOOS Core Variables</th>\n",
              "      <th>Metadata Records</th>\n",
              "      <th>IOOS</th>\n",
              "      <th>COMT Projects</th>\n",
              "    </tr>\n",
              "  </thead>\n",
              "  <tbody>\n",
              "    <tr>\n",
              "      <th>0</th>\n",
              "      <td>2018-02-01</td>\n",
              "      <td>17.0</td>\n",
              "      <td>11.0</td>\n",
              "      <td>150.0</td>\n",
              "      <td>52027.0</td>\n",
              "      <td>737.0</td>\n",
              "      <td>335.0</td>\n",
              "      <td>NaN</td>\n",
              "      <td>NaN</td>\n",
              "      <td>NaN</td>\n",
              "      <td>NaN</td>\n",
              "      <td>13.0</td>\n",
              "      <td>34.0</td>\n",
              "      <td>8600.0</td>\n",
              "      <td>1.0</td>\n",
              "      <td>NaN</td>\n",
              "    </tr>\n",
              "    <tr>\n",
              "      <th>1</th>\n",
              "      <td>2022-04-08</td>\n",
              "      <td>17.0</td>\n",
              "      <td>11.0</td>\n",
              "      <td>181.0</td>\n",
              "      <td>77318.0</td>\n",
              "      <td>762.0</td>\n",
              "      <td>517.0</td>\n",
              "      <td>4242.0</td>\n",
              "      <td>6.0</td>\n",
              "      <td>8.0</td>\n",
              "      <td>8.0</td>\n",
              "      <td>14.0</td>\n",
              "      <td>34.0</td>\n",
              "      <td>9455.0</td>\n",
              "      <td>1.0</td>\n",
              "      <td>5.0</td>\n",
              "    </tr>\n",
              "  </tbody>\n",
              "</table>\n",
              "</div>"
            ],
            "text/plain": [
              "     date_UTC  Federal Partners  Regional Associations  HF Radar Stations  \\\n",
              "0  2018-02-01              17.0                   11.0              150.0   \n",
              "1  2022-04-08              17.0                   11.0              181.0   \n",
              "\n",
              "   NGDAC Glider Days  National Platforms  Regional Platforms  ATN Deployments  \\\n",
              "0            52027.0               737.0               335.0              NaN   \n",
              "1            77318.0               762.0               517.0           4242.0   \n",
              "\n",
              "   MBON Projects  OTT Projects  HAB Pilot Projects  QARTOD Manuals  \\\n",
              "0            NaN           NaN                 NaN            13.0   \n",
              "1            6.0           8.0                 8.0            14.0   \n",
              "\n",
              "   IOOS Core Variables  Metadata Records  IOOS  COMT Projects  \n",
              "0                 34.0            8600.0   1.0            NaN  \n",
              "1                 34.0            9455.0   1.0            5.0  "
            ]
          },
          "execution_count": 2,
          "metadata": {},
          "output_type": "execute_result"
        }
      ],
      "source": [
        "import pandas as pd\n",
        "#today = pd.to_datetime\n",
        "#ioos_btn_df = pd.DataFrame()#columns=['category','value','date'])\n",
        "\n",
        "today = pd.Timestamp.strftime(pd.Timestamp.today(tz='UTC'), '%Y-%m-%d')\n",
        "\n",
        "# only update numbers if it's a new day\n",
        "if today not in ioos_btn_df['date_UTC'].to_list():\n",
        "    ioos_btn_df = ioos_btn_df.append({'date_UTC': today}, ignore_index=True)\n",
        "\n",
        "ioos_btn_df"
      ]
    },
    {
      "cell_type": "markdown",
      "metadata": {
        "id": "rMkHuVRJEGKq"
      },
      "source": [
        "## Federal Partners\n",
        "\n",
        "ICOOS Act/COORA"
      ]
    },
    {
      "cell_type": "code",
      "execution_count": null,
      "metadata": {
        "colab": {
          "base_uri": "https://localhost:8080/",
          "height": 208
        },
        "id": "jXMhi3tRQvMd",
        "outputId": "b2c4cf6d-809f-430e-c3f7-e45ce6db24cc"
      },
      "outputs": [
        {
          "data": {
            "text/html": [
              "<div>\n",
              "<style scoped>\n",
              "    .dataframe tbody tr th:only-of-type {\n",
              "        vertical-align: middle;\n",
              "    }\n",
              "\n",
              "    .dataframe tbody tr th {\n",
              "        vertical-align: top;\n",
              "    }\n",
              "\n",
              "    .dataframe thead th {\n",
              "        text-align: right;\n",
              "    }\n",
              "</style>\n",
              "<table border=\"1\" class=\"dataframe\">\n",
              "  <thead>\n",
              "    <tr style=\"text-align: right;\">\n",
              "      <th></th>\n",
              "      <th>date_UTC</th>\n",
              "      <th>Federal Partners</th>\n",
              "      <th>Regional Associations</th>\n",
              "      <th>HF Radar Stations</th>\n",
              "      <th>NGDAC Glider Days</th>\n",
              "      <th>National Platforms</th>\n",
              "      <th>Regional Platforms</th>\n",
              "      <th>ATN Deployments</th>\n",
              "      <th>MBON Projects</th>\n",
              "      <th>OTT Projects</th>\n",
              "      <th>HAB Pilot Projects</th>\n",
              "      <th>QARTOD Manuals</th>\n",
              "      <th>IOOS Core Variables</th>\n",
              "      <th>Metadata Records</th>\n",
              "      <th>IOOS</th>\n",
              "      <th>COMT Projects</th>\n",
              "    </tr>\n",
              "  </thead>\n",
              "  <tbody>\n",
              "    <tr>\n",
              "      <th>0</th>\n",
              "      <td>2018-02-01</td>\n",
              "      <td>17.0</td>\n",
              "      <td>11.0</td>\n",
              "      <td>150.0</td>\n",
              "      <td>52027.0</td>\n",
              "      <td>737.0</td>\n",
              "      <td>335.0</td>\n",
              "      <td>NaN</td>\n",
              "      <td>NaN</td>\n",
              "      <td>NaN</td>\n",
              "      <td>NaN</td>\n",
              "      <td>13.0</td>\n",
              "      <td>34.0</td>\n",
              "      <td>8600.0</td>\n",
              "      <td>1.0</td>\n",
              "      <td>NaN</td>\n",
              "    </tr>\n",
              "    <tr>\n",
              "      <th>1</th>\n",
              "      <td>2022-04-08</td>\n",
              "      <td>17.0</td>\n",
              "      <td>11.0</td>\n",
              "      <td>181.0</td>\n",
              "      <td>77318.0</td>\n",
              "      <td>762.0</td>\n",
              "      <td>517.0</td>\n",
              "      <td>4242.0</td>\n",
              "      <td>6.0</td>\n",
              "      <td>8.0</td>\n",
              "      <td>8.0</td>\n",
              "      <td>14.0</td>\n",
              "      <td>34.0</td>\n",
              "      <td>9455.0</td>\n",
              "      <td>1.0</td>\n",
              "      <td>5.0</td>\n",
              "    </tr>\n",
              "  </tbody>\n",
              "</table>\n",
              "</div>"
            ],
            "text/plain": [
              "     date_UTC  Federal Partners  Regional Associations  HF Radar Stations  \\\n",
              "0  2018-02-01              17.0                   11.0              150.0   \n",
              "1  2022-04-08              17.0                   11.0              181.0   \n",
              "\n",
              "   NGDAC Glider Days  National Platforms  Regional Platforms  ATN Deployments  \\\n",
              "0            52027.0               737.0               335.0              NaN   \n",
              "1            77318.0               762.0               517.0           4242.0   \n",
              "\n",
              "   MBON Projects  OTT Projects  HAB Pilot Projects  QARTOD Manuals  \\\n",
              "0            NaN           NaN                 NaN            13.0   \n",
              "1            6.0           8.0                 8.0            14.0   \n",
              "\n",
              "   IOOS Core Variables  Metadata Records  IOOS  COMT Projects  \n",
              "0                 34.0            8600.0   1.0            NaN  \n",
              "1                 34.0            9455.0   1.0            5.0  "
            ]
          },
          "execution_count": 3,
          "metadata": {},
          "output_type": "execute_result"
        }
      ],
      "source": [
        "fed_partners = 17\n",
        "\n",
        "# d = {'category':['Federal Partners'],'value':[fed_partners],'date':[today]}\n",
        "\n",
        "# df_fed_part = pd.DataFrame(d)\n",
        "\n",
        "ioos_btn_df.loc[ioos_btn_df['date_UTC']==today, ['Federal Partners']] = [fed_partners]\n",
        "\n",
        "ioos_btn_df"
      ]
    },
    {
      "cell_type": "markdown",
      "metadata": {
        "id": "elYWAAZSEGKq"
      },
      "source": [
        "## Regional Associations"
      ]
    },
    {
      "cell_type": "code",
      "execution_count": null,
      "metadata": {
        "colab": {
          "base_uri": "https://localhost:8080/",
          "height": 208
        },
        "id": "YwOg7gB8QY6J",
        "outputId": "4f6c234b-97c6-42dd-b97a-ed6690ff3d02"
      },
      "outputs": [
        {
          "data": {
            "text/html": [
              "<div>\n",
              "<style scoped>\n",
              "    .dataframe tbody tr th:only-of-type {\n",
              "        vertical-align: middle;\n",
              "    }\n",
              "\n",
              "    .dataframe tbody tr th {\n",
              "        vertical-align: top;\n",
              "    }\n",
              "\n",
              "    .dataframe thead th {\n",
              "        text-align: right;\n",
              "    }\n",
              "</style>\n",
              "<table border=\"1\" class=\"dataframe\">\n",
              "  <thead>\n",
              "    <tr style=\"text-align: right;\">\n",
              "      <th></th>\n",
              "      <th>date_UTC</th>\n",
              "      <th>Federal Partners</th>\n",
              "      <th>Regional Associations</th>\n",
              "      <th>HF Radar Stations</th>\n",
              "      <th>NGDAC Glider Days</th>\n",
              "      <th>National Platforms</th>\n",
              "      <th>Regional Platforms</th>\n",
              "      <th>ATN Deployments</th>\n",
              "      <th>MBON Projects</th>\n",
              "      <th>OTT Projects</th>\n",
              "      <th>HAB Pilot Projects</th>\n",
              "      <th>QARTOD Manuals</th>\n",
              "      <th>IOOS Core Variables</th>\n",
              "      <th>Metadata Records</th>\n",
              "      <th>IOOS</th>\n",
              "      <th>COMT Projects</th>\n",
              "    </tr>\n",
              "  </thead>\n",
              "  <tbody>\n",
              "    <tr>\n",
              "      <th>0</th>\n",
              "      <td>2018-02-01</td>\n",
              "      <td>17.0</td>\n",
              "      <td>11.0</td>\n",
              "      <td>150.0</td>\n",
              "      <td>52027.0</td>\n",
              "      <td>737.0</td>\n",
              "      <td>335.0</td>\n",
              "      <td>NaN</td>\n",
              "      <td>NaN</td>\n",
              "      <td>NaN</td>\n",
              "      <td>NaN</td>\n",
              "      <td>13.0</td>\n",
              "      <td>34.0</td>\n",
              "      <td>8600.0</td>\n",
              "      <td>1.0</td>\n",
              "      <td>NaN</td>\n",
              "    </tr>\n",
              "    <tr>\n",
              "      <th>1</th>\n",
              "      <td>2022-04-08</td>\n",
              "      <td>17.0</td>\n",
              "      <td>11.0</td>\n",
              "      <td>181.0</td>\n",
              "      <td>77318.0</td>\n",
              "      <td>762.0</td>\n",
              "      <td>517.0</td>\n",
              "      <td>4242.0</td>\n",
              "      <td>6.0</td>\n",
              "      <td>8.0</td>\n",
              "      <td>8.0</td>\n",
              "      <td>14.0</td>\n",
              "      <td>34.0</td>\n",
              "      <td>9455.0</td>\n",
              "      <td>1.0</td>\n",
              "      <td>5.0</td>\n",
              "    </tr>\n",
              "  </tbody>\n",
              "</table>\n",
              "</div>"
            ],
            "text/plain": [
              "     date_UTC  Federal Partners  Regional Associations  HF Radar Stations  \\\n",
              "0  2018-02-01              17.0                   11.0              150.0   \n",
              "1  2022-04-08              17.0                   11.0              181.0   \n",
              "\n",
              "   NGDAC Glider Days  National Platforms  Regional Platforms  ATN Deployments  \\\n",
              "0            52027.0               737.0               335.0              NaN   \n",
              "1            77318.0               762.0               517.0           4242.0   \n",
              "\n",
              "   MBON Projects  OTT Projects  HAB Pilot Projects  QARTOD Manuals  \\\n",
              "0            NaN           NaN                 NaN            13.0   \n",
              "1            6.0           8.0                 8.0            14.0   \n",
              "\n",
              "   IOOS Core Variables  Metadata Records  IOOS  COMT Projects  \n",
              "0                 34.0            8600.0   1.0            NaN  \n",
              "1                 34.0            9455.0   1.0            5.0  "
            ]
          },
          "execution_count": 4,
          "metadata": {},
          "output_type": "execute_result"
        }
      ],
      "source": [
        "regional_associations = 11\n",
        "\n",
        "ioos_btn_df.loc[ioos_btn_df['date_UTC']==today, ['Regional Associations']] = [regional_associations]\n",
        "\n",
        "ioos_btn_df"
      ]
    },
    {
      "cell_type": "markdown",
      "metadata": {
        "id": "HsPUEyNJEGKq"
      },
      "source": [
        "## Coastal & Ocean Modeling Testbed\n",
        "Number of Active Projects - From Tracy."
      ]
    },
    {
      "cell_type": "code",
      "execution_count": null,
      "metadata": {
        "id": "QufQXib2EGKr"
      },
      "outputs": [],
      "source": [
        "comt = 5\n",
        "\n",
        "ioos_btn_df.loc[ioos_btn_df['date_UTC']==today, ['COMT Projects']] = comt"
      ]
    },
    {
      "cell_type": "markdown",
      "metadata": {
        "id": "08BPt9_HqPzx"
      },
      "source": [
        "## HF Radar Installations\n",
        "\n",
        "From http://hfrnet.ucsd.edu/sitediag/stationList.php"
      ]
    },
    {
      "cell_type": "code",
      "execution_count": null,
      "metadata": {
        "colab": {
          "base_uri": "https://localhost:8080/"
        },
        "id": "Jh0A94gGTCy_",
        "outputId": "e97ceda5-7416-4f43-83dd-aa3d25f7828a"
      },
      "outputs": [
        {
          "name": "stdout",
          "output_type": "stream",
          "text": [
            "HF Radar Installations: 181\n"
          ]
        }
      ],
      "source": [
        "url = 'http://hfrnet.ucsd.edu/sitediag/stationList.php?output=CSV'\n",
        "\n",
        "df_hfr = pd.read_csv(url)\n",
        "\n",
        "hfr_installations = df_hfr['Station'].unique().size\n",
        "\n",
        "print('HF Radar Installations:',hfr_installations)\n",
        "\n",
        "ioos_btn_df.loc[ioos_btn_df['date_UTC']==today, ['HF Radar Stations']] = hfr_installations"
      ]
    },
    {
      "cell_type": "markdown",
      "metadata": {
        "id": "V-s6dYEZqvlt"
      },
      "source": [
        "## NGDAC Glider Days\n",
        "\n",
        "From https://gliders.ioos.us/erddap/info/index.html?page=1&itemsPerPage=1000\n",
        "\n",
        "Cumulative from 2008 - present\n",
        "\n",
        "### Conditions on our calculations:\n",
        "* drops all datasets with `datasetID` containing `delayed`.\n",
        "* duration is calculated based on the metadata ERDDAP generates.\n",
        "  * If a datum of `NaN` is in the `time` variable, the min/max will not be computed.\n",
        "\n",
        "### Checks\n",
        "\n",
        "[gist 1](https://nbviewer.org/urls/gist.githubusercontent.com/ocefpaf/e1e6f341c4149ff1d7b6541635d599fb/raw/f79b40741ed96672c025eaff9cbf87d7287b06f3/compute_gliders_days.ipynb)\n",
        "\n",
        "This one fetches individual info dataset_ids URLs and matches what you are doing with allDatasets. It is still much bigger than `gdutils`, not sure what else it is filtering.\n",
        "\n",
        "This is too slow (~20 mins), it only serves to double check this computation and to figure out how many gliders we are throwing away due to bad metadata, in this case, 1 `Nemesis-20170512T0000`. \n",
        "\n",
        "[gist 2](https://nbviewer.org/urls/gist.githubusercontent.com/ocefpaf/97b943abaa1490701cd386741fabeb56/raw/9628c27b678fbfd678c80195869112e64e32c5ad/compute_gliders_days-time-var.ipynb)\n",
        "\n",
        "This one is a similar approach but with the time variable instead. We drop the NaN in the time var, so we do include most of `Nemesis-20170512T0000`. Note that it is larger, but not by much, than just the inclusion of `Nemesis-20170512T0000` and that is probably because the metadata is wrong in a few places. \n",
        "\n",
        "In theory the last one is more accurate but the difference is small.\n"
      ]
    },
    {
      "cell_type": "code",
      "execution_count": 14,
      "metadata": {
        "colab": {
          "base_uri": "https://localhost:8080/"
        },
        "id": "4YBCBGGKTGG3",
        "outputId": "4f0b2369-58bc-4296-a33c-1f9e60733e2a"
      },
      "outputs": [
        {
          "output_type": "stream",
          "name": "stdout",
          "text": [
            "Cumulative glider days: 53654\n"
          ]
        }
      ],
      "source": [
        "import pandas as pd\n",
        "df_glider = pd.read_csv('https://gliders.ioos.us/erddap/tabledap/allDatasets.csvp?minTime%2CmaxTime%2CdatasetID')\n",
        "df_glider.dropna(\n",
        "    axis=0, \n",
        "    inplace=True,\n",
        "    )\n",
        "\n",
        "# drop delayed datasets\n",
        "df_glider = df_glider[df_glider[\"datasetID\"].str.contains(\"delayed\")==False]\n",
        "\n",
        "df_glider[['minTime (UTC)','maxTime (UTC)']] = df_glider[\n",
        "                                                         ['minTime (UTC)','maxTime (UTC)']\n",
        "                                                         ].apply(pd.to_datetime)\n",
        "\n",
        "df_glider['glider_days'] = (df_glider['maxTime (UTC)'] - df_glider['minTime (UTC)']).dt.days\n",
        "\n",
        "glider_days = df_glider['glider_days'].sum()\n",
        "\n",
        "print('Cumulative glider days:', glider_days)\n",
        "\n",
        "ioos_btn_df.loc[ioos_btn_df['date_UTC']==today, ['NGDAC Glider Days']] = glider_days"
      ]
    },
    {
      "cell_type": "code",
      "execution_count": 16,
      "metadata": {
        "id": "fC0q963WEGKu"
      },
      "outputs": [],
      "source": [
        "# start_date = '2021-10-01'\n",
        "# end_date = '2021-12-31'\n",
        "\n",
        "# # find glider deployments between 10/01 and 12/31\n",
        "# glider_day_within = df_glider.loc[\n",
        "#     (df_glider['minTime (UTC)'] > pd.to_datetime(start_date,utc=True)) &\n",
        "#     (df_glider['maxTime (UTC)'] < pd.to_datetime(end_date,utc=True))\n",
        "# ]\n",
        "\n",
        "# # gliders that start before 10/01 and end after 12/31\n",
        "# glider_day_outside = df_glider.loc[\n",
        "#     (df_glider['minTime (UTC)'] < pd.to_datetime(start_date,utc=True)) &\n",
        "#     (df_glider['maxTime (UTC)'] > pd.to_datetime(end_date,utc=True))\n",
        "# ]\n",
        "\n",
        "# glider_day_outside.loc[:, 'maxTime (UTC)'] = pd.to_datetime(end_date, utc=True)\n",
        "# glider_day_outside.loc[:, 'minTime (UTC)'] = pd.to_datetime(start_date, utc=True)\n",
        "\n",
        "# # drop the ones from above as they will be duplicates in the next round of filtering\n",
        "# df_glider.drop(axis=0, index=glider_day_outside.index, inplace=True)\n",
        "\n",
        "# # Find gliders that start before 10/01 and end after 10/01\n",
        "# glider_day_lower = df_glider.loc[\n",
        "#     (df_glider['minTime (UTC)'] < pd.to_datetime(start_date,utc=True)) &\n",
        "#     (df_glider['maxTime (UTC)'] > pd.to_datetime(start_date,utc=True))\n",
        "# ]\n",
        "\n",
        "# glider_day_lower.loc[:,'minTime (UTC)'] = pd.to_datetime(start_date, utc=True)\n",
        "\n",
        "# # Find gliders that start before 12/31 and end after 12/31.\n",
        "# glider_day_upper = df_glider.loc[\n",
        "#     (df_glider['minTime (UTC)']<pd.to_datetime(end_date,utc=True)) &\n",
        "#     (df_glider['maxTime (UTC)']>pd.to_datetime(end_date,utc=True))\n",
        "# ]\n",
        "\n",
        "# glider_day_upper.loc[:,'maxTime (UTC)'] = pd.to_datetime(end_date, utc=True)\n",
        "\n",
        "# # Combine it all together into one DF.\n",
        "# glider_subset = pd.concat([glider_day_lower, \n",
        "#                            glider_day_within, \n",
        "#                            glider_day_upper, \n",
        "#                            glider_day_outside], \n",
        "#                           verify_integrity=True)\n",
        "\n",
        "# # Calculate the days between min time and max time.\n",
        "# glider_subset['glider_days'] = (glider_subset['maxTime (UTC)'] - glider_subset['minTime (UTC)']).dt.days\n",
        "\n",
        "# # Calculate total glider days.\n",
        "# glider_subset['glider_days'].sum()\n",
        "\n",
        "# print(\"Glider days between %s and %s: %s\" % (start_date,end_date,glider_subset['glider_days'].sum()))"
      ]
    },
    {
      "cell_type": "markdown",
      "metadata": {
        "id": "iYk1km3P861f"
      },
      "source": [
        "# National Platforms"
      ]
    },
    {
      "cell_type": "markdown",
      "metadata": {
        "id": "xGHalY-14iGB"
      },
      "source": [
        "### CO-OPS\n",
        "* https://opendap.co-ops.nos.noaa.gov/stations/index.jsp\n",
        "  * as xml: https://opendap.co-ops.nos.noaa.gov/stations/stationsXML.jsp\n",
        "* https://tidesandcurrents.noaa.gov/cdata/StationList?type=Current+Data&filter=active"
      ]
    },
    {
      "cell_type": "code",
      "execution_count": null,
      "metadata": {
        "colab": {
          "base_uri": "https://localhost:8080/"
        },
        "id": "wZKANnz8sC5D",
        "outputId": "bce6df53-ac66-435b-f91c-03e89fb40808"
      },
      "outputs": [
        {
          "name": "stdout",
          "output_type": "stream",
          "text": [
            "All stations: 379\n",
            "Ports: 66\n"
          ]
        }
      ],
      "source": [
        "#from lxml import etree\n",
        "import requests\n",
        "\n",
        "xml = requests.get('https://opendap.co-ops.nos.noaa.gov/stations/stationsXML.jsp').text\n",
        "import re\n",
        "COOPS = sum(1 for _ in re.finditer(r'\\b%s\\b' % re.escape(\"station name\"), xml))\n",
        "print(\"All stations:\",COOPS)\n",
        "\n",
        "url = 'https://tidesandcurrents.noaa.gov/cdata/StationListFormat?type=Current+Data&filter=active&format=csv'\n",
        "\n",
        "df_coops = pd.read_csv(url)\n",
        "#print(df_coops[' Project'].unique())\n",
        "ports = df_coops[df_coops[' Project'].astype(str).str.contains('PORTS')].shape[0]\n",
        "print(\"Ports:\", ports)"
      ]
    },
    {
      "cell_type": "markdown",
      "metadata": {
        "id": "TmDAxLm24q7g"
      },
      "source": [
        "### NDBC\n",
        "https://www.ndbc.noaa.gov/wstat.shtml\tBuoys: 106 (103 base-funded); CMAN: 45"
      ]
    },
    {
      "cell_type": "code",
      "execution_count": null,
      "metadata": {
        "colab": {
          "base_uri": "https://localhost:8080/"
        },
        "id": "OWcvMhvR4xWt",
        "outputId": "51868cb7-767b-4327-cf84-1ab403e876ee"
      },
      "outputs": [
        {
          "name": "stdout",
          "output_type": "stream",
          "text": [
            "NDBC: 149\n"
          ]
        }
      ],
      "source": [
        "import requests\n",
        "from bs4 import BeautifulSoup\n",
        "import re\n",
        "import pprint\n",
        "\n",
        "url = 'https://www.ndbc.noaa.gov/wstat.shtml'\n",
        "\n",
        "html = requests.get(url).text\n",
        "\n",
        "soup = BeautifulSoup(html, 'html.parser')\n",
        "\n",
        "string_to_find = ['Total Base Funded Buoys:','Total Other Buoys:',\n",
        "                  'Total Moored Buoys:','Total Base Funded Stations:',\n",
        "                  'Total Stations:']\n",
        "\n",
        "ndbc = dict()\n",
        "for string in string_to_find:\n",
        "    for tag in soup.find_all(\"td\", string=string):\n",
        "        ndbc[string] = int(tag.next_sibling.string)\n",
        "\n",
        "#pprint.pprint(ndbc)\n",
        "\n",
        "NDBC = ndbc['Total Moored Buoys:'] + ndbc['Total Base Funded Stations:']\n",
        "print('NDBC:',NDBC)"
      ]
    },
    {
      "cell_type": "markdown",
      "metadata": {
        "id": "PvdJyWvN40Wk"
      },
      "source": [
        "### NERRS\n",
        "https://nosc.noaa.gov/OSC/OSN/index.php\tNERRS SWMP; Across 29 NERRS; Source = internal access only - NOAA Observing System Council.\n",
        "\n",
        "http://cdmo.baruch.sc.edu/webservices.cfm <- need IP address approval\n",
        "\n",
        "Need number of stations (120 last time)"
      ]
    },
    {
      "cell_type": "code",
      "execution_count": null,
      "metadata": {
        "colab": {
          "base_uri": "https://localhost:8080/"
        },
        "id": "vB1MEtDb_Map",
        "outputId": "7c675c68-8039-408b-e620-14e96e0491a0"
      },
      "outputs": [
        {
          "name": "stdout",
          "output_type": "stream",
          "text": [
            "NERRS reserves: 140\n"
          ]
        }
      ],
      "source": [
        "\n",
        "import requests\n",
        "from bs4 import BeautifulSoup\n",
        "import re\n",
        "\n",
        "url = 'https://coast.noaa.gov/nerrs/about/'\n",
        "\n",
        "html = requests.get(url).text\n",
        "\n",
        "soup = BeautifulSoup(html, 'html.parser')\n",
        "\n",
        "string_to_find = ['The National Estuarine Research Reserve System is a network of ']\n",
        "\n",
        "nerrs = dict()\n",
        "for string in string_to_find:\n",
        "  for tag in soup.find_all(\"meta\", attrs={'content': re.compile(string)}, limit=1):\n",
        "    res = [int(i) for i in tag['content'].split() if i.isdigit()] # extract number\n",
        "    #print(tag['content'])\n",
        "    NERRS = int(res[0])\n",
        "    #print('%s = %s' % (string, tag.next_sibling.string))\n",
        "\n",
        "NERRS = 140\n",
        "\n",
        "print(\"NERRS reserves:\",NERRS)\n"
      ]
    },
    {
      "cell_type": "markdown",
      "metadata": {
        "id": "_uH7fBzJ43vL"
      },
      "source": [
        "### CBIBS\n",
        "https://buoybay.noaa.gov/locations\n",
        "\n",
        "[API docs](https://buoybay.noaa.gov/node/174)\n",
        "\n",
        "Base URL: https://mw.buoybay.noaa.gov/api/v1\n",
        "\n",
        "Testing Key: f159959c117f473477edbdf3245cc2a4831ac61f\n",
        "\n",
        "Latest measurements:\n",
        "https://mw.buoybay.noaa.gov/api/v1/json/station?key=f159959c117f473477edbdf3245cc2a4831ac61f"
      ]
    },
    {
      "cell_type": "code",
      "execution_count": null,
      "metadata": {
        "colab": {
          "base_uri": "https://localhost:8080/"
        },
        "id": "nIIbzvJO49Vb",
        "outputId": "11fa30cf-0647-4099-d0db-872eb0fef8db"
      },
      "outputs": [
        {
          "name": "stdout",
          "output_type": "stream",
          "text": [
            "CBIBS Stations: 10\n"
          ]
        }
      ],
      "source": [
        "import json\n",
        "\n",
        "base_url = 'https://mw.buoybay.noaa.gov/api/v1'\n",
        "apikey = 'f159959c117f473477edbdf3245cc2a4831ac61f'\n",
        "start = '2021-12-08T01:00:00z'\n",
        "end = '2021-12-09T23:59:59z'\n",
        "var = 'Position'\n",
        "\n",
        "query_url = '{}/json/query?key={}&sd={}&ed={}&var={}'.format(base_url,apikey,start,end,var)\n",
        "#query_url = '{}/json/station?key={}'.format(base_url, apikey)\n",
        "\n",
        "json = json.loads(requests.get(query_url).text)\n",
        "\n",
        "CBIBS = len(json['stations'])\n",
        "\n",
        "print(\"CBIBS Stations:\",CBIBS)"
      ]
    },
    {
      "cell_type": "markdown",
      "metadata": {
        "id": "z66nOWtO5KKE"
      },
      "source": [
        "### OAP\n",
        "https://cdip.ucsd.edu/m/stn_table/\tIncludes overlap with the RAs and other programs\n",
        "\n",
        "19\n",
        "\n",
        "See buoys and moorings at https://oceanacidification.noaa.gov/WhatWeDo/Data.aspx\n",
        "\n",
        "pull kml from pmel"
      ]
    },
    {
      "cell_type": "code",
      "execution_count": null,
      "metadata": {
        "id": "lJnDfvb05PzD"
      },
      "outputs": [],
      "source": [
        "# import geopandas as gpd\n",
        "# import fiona\n",
        "\n",
        "# gpd.io.file.fiona.drvsupport.supported_drivers['KML'] = 'rw'\n",
        "\n",
        "# kml = 'https://www.pmel.noaa.gov/co2/files/basekml.kml'\n",
        "\n",
        "# df = gpd.read_file(kml, driver='KML')\n",
        "\n",
        "# df['Name'].unique().size"
      ]
    },
    {
      "cell_type": "code",
      "execution_count": null,
      "metadata": {
        "colab": {
          "base_uri": "https://localhost:8080/"
        },
        "id": "rxgwEEzbEGKx",
        "outputId": "b442f0ca-013b-4f8f-fa52-e95d96e6c9c7"
      },
      "outputs": [
        {
          "name": "stdout",
          "output_type": "stream",
          "text": [
            "OAP Stations: 19\n"
          ]
        }
      ],
      "source": [
        "import requests\n",
        "from bs4 import BeautifulSoup\n",
        "import re\n",
        "\n",
        "url = 'https://oceanacidification.noaa.gov/WhatWeDo/Data.aspx'\n",
        "\n",
        "#url = 'https://www.arcgis.com/apps/Embed/index.html?webmap=9512aae84cae409786339479e31b6c8a&amp;extent=-152.4023,-57.7072,146.7773,74.4006&amp;zoom=true&amp;scale=true&amp;disable_scroll=true&amp;theme=light'\n",
        "\n",
        "html = requests.get(url).text\n",
        "\n",
        "soup = BeautifulSoup(html, 'html.parser')\n",
        "\n",
        "#string_to_find = ['The National Etuarine Research Reserve System is a network of ']\n",
        "#soup.find_all(atts={'id':'mapDiv_gc'})\n",
        "text = soup.find_all(attrs={'id':\"dnn_ctr14711_ContentPane\"})[0].find_all(attrs={'class':'lead'})[0].text #id=\"mapDiv\")\n",
        "\n",
        "res = [int(i) for i in text.split() if i.isdigit()] # extract number\n",
        "    #print(tag['content'])\n",
        "OAP = int(res[0])\n",
        "\n",
        "print(\"OAP Stations:\",OAP)\n",
        "\n",
        "    #res = [int(i) for i in tag['content'].split() if i.isdigit()] # extract number\n",
        "    #print(tag['content'])\n",
        "    #nerrs = res[0]\n",
        "    #print('%s = %s' % (string, tag.next_sibling.string))\n",
        "\n",
        "#print(\"NERRS reserves:\",nerrs)"
      ]
    },
    {
      "cell_type": "markdown",
      "metadata": {
        "id": "wt9iwonW5Now"
      },
      "source": [
        "### CDIP\n",
        "https://cdip.ucsd.edu/m/stn_table/\tIncludes overlap with the RAs\n",
        "\n",
        "67\n",
        "\n",
        "https://cdip.ucsd.edu/themes/?d2=p1:m:mobile&regions=all&units=standard&zoom=auto&pub_set=public&tz=UTC&ll_fmt=dm&numcolorbands=10&palette=cdip_classic&high=6.096"
      ]
    },
    {
      "cell_type": "code",
      "execution_count": null,
      "metadata": {
        "colab": {
          "base_uri": "https://localhost:8080/"
        },
        "id": "r7qEAAlV5NWj",
        "outputId": "29ae95c5-2454-491a-ec4d-ff8d8701121f"
      },
      "outputs": [
        {
          "name": "stdout",
          "output_type": "stream",
          "text": [
            "CDIP Stations: 65\n"
          ]
        }
      ],
      "source": [
        "import lxml\n",
        "import pandas as pd\n",
        "\n",
        "url = 'https://cdip.ucsd.edu/themes/?d2=p1:m:mobile&regions=all&units=standard&zoom=auto&pub_set=public&tz=UTC&ll_fmt=dm&numcolorbands=10&palette=cdip_classic&high=6.096'\n",
        "#url = 'https://cdip.ucsd.edu/m/stn_table/'\n",
        "table_list = pd.read_html(url, match='Stn')\n",
        "\n",
        "df = table_list[0]\n",
        "\n",
        "CDIP = df['Stn'].unique().size\n",
        "\n",
        "print(\"CDIP Stations:\",CDIP)"
      ]
    },
    {
      "cell_type": "markdown",
      "metadata": {
        "id": "ScmxkStTNdf2"
      },
      "source": [
        "## Calculating National Platforms\n",
        "\n",
        "CO-OPS + NDBC + NERRS + CBIBS + OAP + CDIP = 747"
      ]
    },
    {
      "cell_type": "code",
      "execution_count": null,
      "metadata": {
        "colab": {
          "base_uri": "https://localhost:8080/"
        },
        "id": "IpX8NZl9Njwi",
        "outputId": "58c11976-dd06-4cc1-e2a0-b34f8280c8e3"
      },
      "outputs": [
        {
          "name": "stdout",
          "output_type": "stream",
          "text": [
            "National Platforms: 762\n"
          ]
        }
      ],
      "source": [
        "national_platforms = COOPS + NDBC + NERRS + CBIBS + OAP + CDIP\n",
        "print(\"National Platforms:\",national_platforms)\n",
        "\n",
        "ioos_btn_df.loc[ioos_btn_df['date_UTC']==today, ['National Platforms']] = national_platforms"
      ]
    },
    {
      "cell_type": "markdown",
      "metadata": {
        "id": "_vmKPAdZ9SBU"
      },
      "source": [
        "# Regional Platforms\n",
        "\n",
        "https://github.com/ioos/ioos-asset-inventory/tree/main/2020\n",
        "\n",
        "http://erddap.ioos.us/erddap/tabledap/processed_asset_inventory.html"
      ]
    },
    {
      "cell_type": "code",
      "execution_count": null,
      "metadata": {
        "colab": {
          "base_uri": "https://localhost:8080/"
        },
        "id": "WTQ0WgP09Vxc",
        "outputId": "4cc64023-faaa-4cda-f331-e96d456a0537"
      },
      "outputs": [
        {
          "name": "stdout",
          "output_type": "stream",
          "text": [
            "Regional platforms: 517\n"
          ]
        }
      ],
      "source": [
        "url = 'http://erddap.ioos.us/erddap/tabledap/processed_asset_inventory.csvp'\n",
        "\n",
        "df_regional_platforms = pd.read_csv(url)\n",
        "\n",
        "regional_platforms = df_regional_platforms['station_long_name'].unique().size\n",
        "\n",
        "print('Regional platforms:',regional_platforms)\n",
        "\n",
        "ioos_btn_df.loc[ioos_btn_df['date_UTC']==today, ['Regional Platforms']] = regional_platforms"
      ]
    },
    {
      "cell_type": "markdown",
      "metadata": {
        "id": "X5BeiqhIXme-"
      },
      "source": [
        "## ATN Deployments\n",
        "\n",
        "See Deployments at https://portal.atn.ioos.us/#\n",
        "Not sure if there is a way to scrape that page or get those values from somewhere\n",
        "\n",
        "4242"
      ]
    },
    {
      "cell_type": "code",
      "execution_count": null,
      "metadata": {
        "colab": {
          "base_uri": "https://localhost:8080/"
        },
        "id": "bQxKAuUXXwRW",
        "outputId": "7641b18f-7728-46d7-8c3e-3a215b27d06a"
      },
      "outputs": [
        {
          "name": "stdout",
          "output_type": "stream",
          "text": [
            "ATN Deployments: 4444\n"
          ]
        }
      ],
      "source": [
        "# from bs4 import BeautifulSoup\n",
        "# import requests\n",
        "\n",
        "# headers = {'Accept-Encoding': 'identity'}\n",
        "\n",
        "# soup = BeautifulSoup(requests.get('https://portal.atn.ioos.us', headers=headers).text, 'html.parser')\n",
        "\n",
        "# print(soup.prettify())\n",
        "\n",
        "atn_deployments = 4444\n",
        "\n",
        "print(\"ATN Deployments:\",atn_deployments)\n",
        "\n",
        "ioos_btn_df.loc[ioos_btn_df['date_UTC']==today, ['ATN Deployments']] = atn_deployments"
      ]
    },
    {
      "cell_type": "markdown",
      "metadata": {
        "id": "IaoMWowM3cw6"
      },
      "source": [
        "## MBON Projects\n",
        "https://marinebon.org/\n",
        "\n",
        "https://github.com/marinebon/www_marinebon2/tree/master/content/project\n",
        "\n",
        "currently funded projects\n",
        "6"
      ]
    },
    {
      "cell_type": "code",
      "execution_count": null,
      "metadata": {
        "colab": {
          "base_uri": "https://localhost:8080/"
        },
        "id": "AZrPHc0T3k2i",
        "outputId": "0ff4926c-06c7-499e-88f0-b3f1b10db7c3"
      },
      "outputs": [
        {
          "name": "stdout",
          "output_type": "stream",
          "text": [
            "MBON Projects: 6\n"
          ]
        }
      ],
      "source": [
        "mbon_projects = 6\n",
        "\n",
        "print(\"MBON Projects:\",mbon_projects)\n",
        "\n",
        "ioos_btn_df.loc[ioos_btn_df['date_UTC']==today, ['MBON Projects']] = mbon_projects"
      ]
    },
    {
      "cell_type": "markdown",
      "metadata": {
        "id": "DxsnHFRJEGKz"
      },
      "source": [
        "## OTT Projects\n",
        "\n",
        "https://ioos.noaa.gov/project/ocean-technology-transition/ 8 live"
      ]
    },
    {
      "cell_type": "code",
      "execution_count": null,
      "metadata": {
        "id": "FqxRZ0ZnEGKz"
      },
      "outputs": [],
      "source": [
        "ioos_btn_df.loc[ioos_btn_df['date_UTC']==today, ['OTT Projects']] = 8"
      ]
    },
    {
      "cell_type": "markdown",
      "metadata": {
        "id": "wwXNR2m2EGKz"
      },
      "source": [
        "## HAB Pilot Projects\n",
        "\n",
        "https://cdn.ioos.noaa.gov/media/2021/10/NHABON-Funding-Awards-FY21_v2.pdf\n",
        "8 total"
      ]
    },
    {
      "cell_type": "code",
      "execution_count": null,
      "metadata": {
        "id": "0QvdLybSEGKz"
      },
      "outputs": [],
      "source": [
        "ioos_btn_df.loc[ioos_btn_df['date_UTC']==today, ['HAB Pilot Projects']] = 8"
      ]
    },
    {
      "cell_type": "markdown",
      "metadata": {
        "id": "915oRsuKEGK0"
      },
      "source": [
        "## QARTOD Manuals\n",
        "\n",
        "https://ioos.noaa.gov/project/qartod/ 14?"
      ]
    },
    {
      "cell_type": "code",
      "execution_count": null,
      "metadata": {
        "id": "7NabPJxcEGK0"
      },
      "outputs": [],
      "source": [
        "ioos_btn_df.loc[ioos_btn_df['date_UTC']==today, ['QARTOD Manuals']] = 14"
      ]
    },
    {
      "cell_type": "markdown",
      "metadata": {
        "id": "vZ2zMhziEGK0"
      },
      "source": [
        "## IOOS Core Variables\n",
        "\n",
        "https://www.iooc.us/task-teams/core-ioos-variables/\n",
        "\n",
        "34"
      ]
    },
    {
      "cell_type": "code",
      "execution_count": null,
      "metadata": {
        "id": "Tt21PcyhEGK0"
      },
      "outputs": [],
      "source": [
        "ioos_btn_df.loc[ioos_btn_df['date_UTC']==today, ['IOOS Core Variables']] = 34"
      ]
    },
    {
      "cell_type": "markdown",
      "metadata": {
        "id": "LjDpDI_nEGK0"
      },
      "source": [
        "## Metadata Records\n",
        "\n",
        "previously 8,600\n",
        "\n",
        "https://data.ioos.us/"
      ]
    },
    {
      "cell_type": "code",
      "execution_count": null,
      "metadata": {
        "id": "ACTlA3rcEeEi"
      },
      "outputs": [],
      "source": [
        "try:\n",
        "  import owslib\n",
        "except:\n",
        "  %pip install owslib"
      ]
    },
    {
      "cell_type": "code",
      "execution_count": null,
      "metadata": {
        "colab": {
          "base_uri": "https://localhost:8080/"
        },
        "id": "lhlZanaAEGK0",
        "outputId": "08a52a41-0cbf-4f9a-d271-e77995776482"
      },
      "outputs": [
        {
          "name": "stdout",
          "output_type": "stream",
          "text": [
            "Found 9241 records from https://data.ioos.us/csw.\n"
          ]
        }
      ],
      "source": [
        "from owslib.csw import CatalogueServiceWeb\n",
        "\n",
        "endpoint = \"https://data.ioos.us/csw\"\n",
        "\n",
        "csw = CatalogueServiceWeb(endpoint, timeout=60)\n",
        "\n",
        "csw.getdomain('GetRecords.resultType')\n",
        "\n",
        "csw.results\n",
        "\n",
        "csw.getrecords2()\n",
        "\n",
        "records = csw.results['matches']\n",
        "\n",
        "print(\"Found {} records from {}.\".format(records,endpoint))\n",
        "# for key, value in list(csw.records.items()):\n",
        "#     print(u\"[{}]\\n{}\\n\".format(value.title, key))"
      ]
    },
    {
      "cell_type": "code",
      "execution_count": null,
      "metadata": {
        "colab": {
          "base_uri": "https://localhost:8080/"
        },
        "id": "mA_qshwwEGK0",
        "outputId": "62b36540-55a1-4496-c620-0b53c391086a"
      },
      "outputs": [
        {
          "name": "stdout",
          "output_type": "stream",
          "text": [
            "Found 9455 records from https://data.ioos.us/api/3/action/package_list.\n"
          ]
        }
      ],
      "source": [
        "import pandas as pd\n",
        "\n",
        "url = 'https://data.ioos.us/api/3/action/package_list'\n",
        "\n",
        "mdf = pd.read_json(url)\n",
        "\n",
        "metadata_records = len(mdf.result.unique())\n",
        "\n",
        "print(\"Found {} records from {}.\".format(metadata_records,url))\n",
        "\n",
        "ioos_btn_df.loc[ioos_btn_df['date_UTC']==today, ['Metadata Records']] = metadata_records"
      ]
    },
    {
      "cell_type": "markdown",
      "metadata": {
        "id": "kN5S0DfoEGK1"
      },
      "source": [
        "## IOOS"
      ]
    },
    {
      "cell_type": "code",
      "execution_count": null,
      "metadata": {
        "colab": {
          "base_uri": "https://localhost:8080/"
        },
        "id": "cMZESRfTEGK1",
        "outputId": "f23c0406-54d0-4d36-fc06-60ba8756f451"
      },
      "outputs": [
        {
          "name": "stdout",
          "output_type": "stream",
          "text": [
            "IOOS: 1\n"
          ]
        }
      ],
      "source": [
        "ioos = 1\n",
        "\n",
        "print(\"IOOS:\",ioos)\n",
        "\n",
        "ioos_btn_df.loc[ioos_btn_df['date_UTC']==today, ['IOOS']] = ioos"
      ]
    },
    {
      "cell_type": "markdown",
      "metadata": {
        "id": "PpEovbEJQLBF"
      },
      "source": [
        "# Final IOOS by the Numbers table"
      ]
    },
    {
      "cell_type": "code",
      "execution_count": null,
      "metadata": {
        "id": "ZzLlve4OEGK1"
      },
      "outputs": [],
      "source": [
        "ioos_btn_df['date_UTC']=pd.to_datetime(ioos_btn_df['date_UTC'])"
      ]
    },
    {
      "cell_type": "code",
      "execution_count": null,
      "metadata": {
        "colab": {
          "base_uri": "https://localhost:8080/",
          "height": 240
        },
        "id": "DZETPXSuQFGg",
        "outputId": "519ff2d2-7cd6-4c2a-e4cf-18d2c5dca69f"
      },
      "outputs": [
        {
          "data": {
            "text/html": [
              "<div>\n",
              "<style scoped>\n",
              "    .dataframe tbody tr th:only-of-type {\n",
              "        vertical-align: middle;\n",
              "    }\n",
              "\n",
              "    .dataframe tbody tr th {\n",
              "        vertical-align: top;\n",
              "    }\n",
              "\n",
              "    .dataframe thead th {\n",
              "        text-align: right;\n",
              "    }\n",
              "</style>\n",
              "<table border=\"1\" class=\"dataframe\">\n",
              "  <thead>\n",
              "    <tr style=\"text-align: right;\">\n",
              "      <th></th>\n",
              "      <th>Federal Partners</th>\n",
              "      <th>Regional Associations</th>\n",
              "      <th>HF Radar Stations</th>\n",
              "      <th>NGDAC Glider Days</th>\n",
              "      <th>National Platforms</th>\n",
              "      <th>Regional Platforms</th>\n",
              "      <th>ATN Deployments</th>\n",
              "      <th>MBON Projects</th>\n",
              "      <th>OTT Projects</th>\n",
              "      <th>HAB Pilot Projects</th>\n",
              "      <th>QARTOD Manuals</th>\n",
              "      <th>IOOS Core Variables</th>\n",
              "      <th>Metadata Records</th>\n",
              "      <th>IOOS</th>\n",
              "      <th>COMT Projects</th>\n",
              "    </tr>\n",
              "    <tr>\n",
              "      <th>date_UTC</th>\n",
              "      <th></th>\n",
              "      <th></th>\n",
              "      <th></th>\n",
              "      <th></th>\n",
              "      <th></th>\n",
              "      <th></th>\n",
              "      <th></th>\n",
              "      <th></th>\n",
              "      <th></th>\n",
              "      <th></th>\n",
              "      <th></th>\n",
              "      <th></th>\n",
              "      <th></th>\n",
              "      <th></th>\n",
              "      <th></th>\n",
              "    </tr>\n",
              "  </thead>\n",
              "  <tbody>\n",
              "    <tr>\n",
              "      <th>2018-02-01</th>\n",
              "      <td>17.0</td>\n",
              "      <td>11.0</td>\n",
              "      <td>150.0</td>\n",
              "      <td>52027.0</td>\n",
              "      <td>737.0</td>\n",
              "      <td>335.0</td>\n",
              "      <td>NaN</td>\n",
              "      <td>NaN</td>\n",
              "      <td>NaN</td>\n",
              "      <td>NaN</td>\n",
              "      <td>13.0</td>\n",
              "      <td>34.0</td>\n",
              "      <td>8600.0</td>\n",
              "      <td>1.0</td>\n",
              "      <td>NaN</td>\n",
              "    </tr>\n",
              "    <tr>\n",
              "      <th>2022-04-08</th>\n",
              "      <td>17.0</td>\n",
              "      <td>11.0</td>\n",
              "      <td>181.0</td>\n",
              "      <td>77318.0</td>\n",
              "      <td>762.0</td>\n",
              "      <td>517.0</td>\n",
              "      <td>4444.0</td>\n",
              "      <td>6.0</td>\n",
              "      <td>8.0</td>\n",
              "      <td>8.0</td>\n",
              "      <td>14.0</td>\n",
              "      <td>34.0</td>\n",
              "      <td>9455.0</td>\n",
              "      <td>1.0</td>\n",
              "      <td>5.0</td>\n",
              "    </tr>\n",
              "  </tbody>\n",
              "</table>\n",
              "</div>"
            ],
            "text/plain": [
              "            Federal Partners  Regional Associations  HF Radar Stations  \\\n",
              "date_UTC                                                                 \n",
              "2018-02-01              17.0                   11.0              150.0   \n",
              "2022-04-08              17.0                   11.0              181.0   \n",
              "\n",
              "            NGDAC Glider Days  National Platforms  Regional Platforms  \\\n",
              "date_UTC                                                                \n",
              "2018-02-01            52027.0               737.0               335.0   \n",
              "2022-04-08            77318.0               762.0               517.0   \n",
              "\n",
              "            ATN Deployments  MBON Projects  OTT Projects  HAB Pilot Projects  \\\n",
              "date_UTC                                                                       \n",
              "2018-02-01              NaN            NaN           NaN                 NaN   \n",
              "2022-04-08           4444.0            6.0           8.0                 8.0   \n",
              "\n",
              "            QARTOD Manuals  IOOS Core Variables  Metadata Records  IOOS  \\\n",
              "date_UTC                                                                  \n",
              "2018-02-01            13.0                 34.0            8600.0   1.0   \n",
              "2022-04-08            14.0                 34.0            9455.0   1.0   \n",
              "\n",
              "            COMT Projects  \n",
              "date_UTC                   \n",
              "2018-02-01            NaN  \n",
              "2022-04-08            5.0  "
            ]
          },
          "execution_count": 29,
          "metadata": {},
          "output_type": "execute_result"
        }
      ],
      "source": [
        "ioos_btn_df.set_index('date_UTC')"
      ]
    },
    {
      "cell_type": "markdown",
      "metadata": {
        "id": "ytCvqJAaftqL"
      },
      "source": [
        "Overwrite existing csv with previous and new data."
      ]
    },
    {
      "cell_type": "code",
      "execution_count": null,
      "metadata": {
        "id": "Kkip7muU2R2u"
      },
      "outputs": [],
      "source": [
        "ioos_btn_df.to_csv('ioos_btn_metrics.csv', index=False)"
      ]
    },
    {
      "cell_type": "code",
      "execution_count": null,
      "metadata": {
        "id": "W1IIUkii5LoH"
      },
      "outputs": [],
      "source": [
        ""
      ]
    },
    {
      "cell_type": "code",
      "execution_count": null,
      "metadata": {
        "colab": {
          "base_uri": "https://localhost:8080/",
          "height": 334
        },
        "id": "FmUaiMUl2pJ2",
        "outputId": "de19c2c6-35e6-4366-df72-d41ddc97fcbd"
      },
      "outputs": [
        {
          "data": {
            "image/png": "[encoded data removed]",
            "text/plain": [
              "<Figure size 432x288 with 1 Axes>"
            ]
          },
          "metadata": {
            "needs_background": "light"
          },
          "output_type": "display_data"
        }
      ],
      "source": [
        "import matplotlib.pyplot as plt\n",
        "import numpy as np\n",
        "\n",
        "\n",
        "labels = ioos_btn_df.drop(columns=['date_UTC']).columns.tolist()\n",
        "\n",
        "x = np.arange(len(labels))  # the label locations\n",
        "width = 0.35  # the width of the bars\n",
        "\n",
        "fig, ax = plt.subplots()\n",
        "\n",
        "for index, row in ioos_btn_df.iterrows():\n",
        "  men_means = row.drop(index=['date_UTC']).values\n",
        "  rects = ax.bar(x - width/2, men_means, width, label=row['date_UTC'].strftime('%Y-%m-%d'))\n",
        "  width = width*-1\n",
        "\n",
        "# Add some text for labels, title and custom x-axis tick labels, etc.\n",
        "ax.set_ylabel('Count')\n",
        "ax.set_title('Metric by year and type')\n",
        "ax.set_xticks(x, labels)\n",
        "ax.legend()\n",
        "\n",
        "ax.xaxis.set_ticklabels(labels, rotation=90)\n",
        "\n",
        "fig.tight_layout()\n",
        "\n",
        "plt.show()"
      ]
    },
    {
      "cell_type": "code",
      "execution_count": null,
      "metadata": {
        "id": "5FkUAY3tMrs3"
      },
      "outputs": [],
      "source": [
        ""
      ]
    }
  ],
  "metadata": {
    "colab": {
      "collapsed_sections": [],
      "name": "IOOS_BTN.ipynb",
      "provenance": [],
      "include_colab_link": true
    },
    "kernelspec": {
      "display_name": "Python 3 (ipykernel)",
      "language": "python",
      "name": "python3"
    },
    "language_info": {
      "codemirror_mode": {
        "name": "ipython",
        "version": 3
      },
      "file_extension": ".py",
      "mimetype": "text/x-python",
      "name": "python",
      "nbconvert_exporter": "python",
      "pygments_lexer": "ipython3",
      "version": "3.9.7"
    }
  },
  "nbformat": 4,
  "nbformat_minor": 0
}