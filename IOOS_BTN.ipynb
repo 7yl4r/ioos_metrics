{
 "cells": [
  {
   "cell_type": "markdown",
   "metadata": {
    "colab_type": "text",
    "id": "view-in-github"
   },
   "source": [
    "<a href=\"https://colab.research.google.com/github/MathewBiddle/ioos_by_the_numbers/blob/main/IOOS_BTN.ipynb\" target=\"_parent\"><img src=\"https://colab.research.google.com/assets/colab-badge.svg\" alt=\"Open In Colab\"/></a>"
   ]
  },
  {
   "cell_type": "markdown",
   "metadata": {
    "id": "98GUIWOu35mJ"
   },
   "source": [
    "# Creating the IOOS By The Numbers\n",
    "\n",
    "[Website](https://ioos.noaa.gov/about/ioos-by-the-numbers/)\n",
    "\n",
    "[Spreadsheet](https://docs.google.com/spreadsheets/d/1AUfXmc3OwxpVdeMNjZyTGWjyR4ku3kRD5eexNrMORnI/edit#gid=516871794)"
   ]
  },
  {
   "cell_type": "code",
   "execution_count": 1,
   "metadata": {
    "id": "-afzN9SfS5tk"
   },
   "outputs": [],
   "source": [
    "import pandas as pd"
   ]
  },
  {
   "cell_type": "markdown",
   "metadata": {},
   "source": [
    "## Federal Partners\n",
    "\n",
    "ICOOS Act/COORA"
   ]
  },
  {
   "cell_type": "markdown",
   "metadata": {},
   "source": [
    "## Regional Associations"
   ]
  },
  {
   "cell_type": "markdown",
   "metadata": {},
   "source": []
  },
  {
   "cell_type": "markdown",
   "metadata": {},
   "source": [
    "## Coastal & Ocean Modeling Testbed\n",
    "Number of Projects"
   ]
  },
  {
   "cell_type": "code",
   "execution_count": null,
   "metadata": {},
   "outputs": [],
   "source": []
  },
  {
   "cell_type": "markdown",
   "metadata": {
    "id": "08BPt9_HqPzx"
   },
   "source": [
    "## HF Radar Installations\n",
    "\n",
    "From http://hfrnet.ucsd.edu/sitediag/stationList.php"
   ]
  },
  {
   "cell_type": "code",
   "execution_count": 2,
   "metadata": {
    "id": "Jh0A94gGTCy_"
   },
   "outputs": [
    {
     "name": "stdout",
     "output_type": "stream",
     "text": [
      "HF Radar Installations: 179\n"
     ]
    }
   ],
   "source": [
    "url = 'http://hfrnet.ucsd.edu/sitediag/stationList.php?output=CSV'\n",
    "\n",
    "df_hfr = pd.read_csv(url)\n",
    "\n",
    "hfr_installations = df_hfr['Station'].unique().size\n",
    "\n",
    "print('HF Radar Installations:',hfr_installations)"
   ]
  },
  {
   "cell_type": "markdown",
   "metadata": {
    "id": "V-s6dYEZqvlt"
   },
   "source": [
    "## NGDAC Glider Days\n",
    "\n",
    "From https://gliders.ioos.us/erddap/info/index.html?page=1&itemsPerPage=1000\n",
    "\n",
    "Cumulative from 2008 - present\n",
    "\n"
   ]
  },
  {
   "cell_type": "code",
   "execution_count": 20,
   "metadata": {
    "id": "4YBCBGGKTGG3"
   },
   "outputs": [
    {
     "name": "stdout",
     "output_type": "stream",
     "text": [
      "Cumulative glider days: 62704\n"
     ]
    }
   ],
   "source": [
    "df_glider = pd.read_csv('https://gliders.ioos.us/erddap/tabledap/allDatasets.csvp?minTime%2CmaxTime')\n",
    "df_glider.dropna(\n",
    "    axis=0, \n",
    "    inplace=True,\n",
    "    )\n",
    "\n",
    "df_glider[['minTime (UTC)','maxTime (UTC)']] = df_glider[\n",
    "                                                         ['minTime (UTC)','maxTime (UTC)']\n",
    "                                                         ].apply(pd.to_datetime)\n",
    "\n",
    "df_glider['glider_days'] = (df_glider['maxTime (UTC)'] - df_glider['minTime (UTC)']).dt.days\n",
    "\n",
    "glider_days = df_glider['glider_days'].sum()\n",
    "\n",
    "print('Cumulative glider days:', glider_days)"
   ]
  },
  {
   "cell_type": "code",
   "execution_count": 21,
   "metadata": {},
   "outputs": [
    {
     "name": "stdout",
     "output_type": "stream",
     "text": [
      "Glider days between 2021-10-01 and 2021-12-31: 3308\n"
     ]
    }
   ],
   "source": [
    "start_date = '2021-10-01'\n",
    "end_date = '2021-12-31'\n",
    "\n",
    "# find glider deployments between 10/01 and 12/31\n",
    "glider_day_within = df_glider.loc[\n",
    "    (df_glider['minTime (UTC)'] > pd.to_datetime(start_date,utc=True)) &\n",
    "    (df_glider['maxTime (UTC)'] < pd.to_datetime(end_date,utc=True))\n",
    "]\n",
    "\n",
    "# gliders that start before 10/01 and end after 12/31\n",
    "glider_day_outside = df_glider.loc[\n",
    "    (df_glider['minTime (UTC)'] < pd.to_datetime(start_date,utc=True)) &\n",
    "    (df_glider['maxTime (UTC)'] > pd.to_datetime(end_date,utc=True))\n",
    "]\n",
    "\n",
    "glider_day_outside.loc[:, 'maxTime (UTC)'] = pd.to_datetime(end_date, utc=True)\n",
    "glider_day_outside.loc[:, 'minTime (UTC)'] = pd.to_datetime(start_date, utc=True)\n",
    "\n",
    "# drop the ones from above as they will be duplicates in the next round of filtering\n",
    "df_glider.drop(axis=0, index=glider_day_outside.index, inplace=True)\n",
    "\n",
    "# Find gliders that start before 10/01 and end after 10/01\n",
    "glider_day_lower = df_glider.loc[\n",
    "    (df_glider['minTime (UTC)'] < pd.to_datetime(start_date,utc=True)) &\n",
    "    (df_glider['maxTime (UTC)'] > pd.to_datetime(start_date,utc=True))\n",
    "]\n",
    "\n",
    "glider_day_lower.loc[:,'minTime (UTC)'] = pd.to_datetime(start_date, utc=True)\n",
    "\n",
    "# Find gliders that start before 12/31 and end after 12/31.\n",
    "glider_day_upper = df_glider.loc[\n",
    "    (df_glider['minTime (UTC)']<pd.to_datetime(end_date,utc=True)) &\n",
    "    (df_glider['maxTime (UTC)']>pd.to_datetime(end_date,utc=True))\n",
    "]\n",
    "\n",
    "glider_day_upper.loc[:,'maxTime (UTC)'] = pd.to_datetime(end_date, utc=True)\n",
    "\n",
    "# Combine it all together into one DF.\n",
    "glider_subset = pd.concat([glider_day_lower, \n",
    "                           glider_day_within, \n",
    "                           glider_day_upper, \n",
    "                           glider_day_outside], \n",
    "                          verify_integrity=True)\n",
    "\n",
    "# Calculate the days between min time and max time.\n",
    "glider_subset['glider_days'] = (glider_subset['maxTime (UTC)'] - glider_subset['minTime (UTC)']).dt.days\n",
    "\n",
    "# Calculate total glider days.\n",
    "glider_subset['glider_days'].sum()\n",
    "\n",
    "print(\"Glider days between %s and %s: %s\" % (start_date,end_date,glider_subset['glider_days'].sum()))"
   ]
  },
  {
   "cell_type": "markdown",
   "metadata": {
    "id": "iYk1km3P861f"
   },
   "source": [
    "## National Platforms"
   ]
  },
  {
   "cell_type": "markdown",
   "metadata": {
    "id": "xGHalY-14iGB"
   },
   "source": [
    "### CO-OPS\n",
    "* https://opendap.co-ops.nos.noaa.gov/stations/index.jsp\n",
    "  * as xml: https://opendap.co-ops.nos.noaa.gov/stations/stationsXML.jsp\n",
    "* https://tidesandcurrents.noaa.gov/cdata/StationList?type=Current+Data&filter=active"
   ]
  },
  {
   "cell_type": "code",
   "execution_count": 22,
   "metadata": {
    "colab": {
     "base_uri": "https://localhost:8080/"
    },
    "id": "wZKANnz8sC5D",
    "outputId": "558487f5-64bf-4202-f871-32a80814be61"
   },
   "outputs": [
    {
     "name": "stdout",
     "output_type": "stream",
     "text": [
      "All stations: 379\n",
      "Ports: 66\n"
     ]
    }
   ],
   "source": [
    "#from lxml import etree\n",
    "import requests\n",
    "\n",
    "xml = requests.get('https://opendap.co-ops.nos.noaa.gov/stations/stationsXML.jsp').text\n",
    "import re\n",
    "count = sum(1 for _ in re.finditer(r'\\b%s\\b' % re.escape(\"station name\"), xml))\n",
    "print(\"All stations:\",count)\n",
    "\n",
    "url = 'https://tidesandcurrents.noaa.gov/cdata/StationListFormat?type=Current+Data&filter=active&format=csv'\n",
    "\n",
    "df_coops = pd.read_csv(url)\n",
    "#print(df_coops[' Project'].unique())\n",
    "ports = df_coops[df_coops[' Project'].astype(str).str.contains('PORTS')].shape[0]\n",
    "print(\"Ports:\", ports)"
   ]
  },
  {
   "cell_type": "markdown",
   "metadata": {
    "id": "TmDAxLm24q7g"
   },
   "source": [
    "### NDBC\n",
    "https://www.ndbc.noaa.gov/wstat.shtml\tBuoys: 106 (103 base-funded); CMAN: 45"
   ]
  },
  {
   "cell_type": "code",
   "execution_count": 23,
   "metadata": {
    "colab": {
     "base_uri": "https://localhost:8080/"
    },
    "id": "OWcvMhvR4xWt",
    "outputId": "104d3ddd-70bb-48c2-ceec-0a0a52b6ffac"
   },
   "outputs": [
    {
     "name": "stdout",
     "output_type": "stream",
     "text": [
      "{'Total Base Funded Buoys:': '103',\n",
      " 'Total Base Funded Stations:': '45',\n",
      " 'Total Moored Buoys:': '106',\n",
      " 'Total Other Buoys:': '3',\n",
      " 'Total Stations:': '45'}\n"
     ]
    }
   ],
   "source": [
    "import requests\n",
    "from bs4 import BeautifulSoup\n",
    "import re\n",
    "import pprint\n",
    "\n",
    "url = 'https://www.ndbc.noaa.gov/wstat.shtml'\n",
    "\n",
    "html = requests.get(url).text\n",
    "\n",
    "soup = BeautifulSoup(html, 'html.parser')\n",
    "\n",
    "string_to_find = ['Total Base Funded Buoys:','Total Other Buoys:',\n",
    "                  'Total Moored Buoys:','Total Base Funded Stations:',\n",
    "                  'Total Stations:']\n",
    "\n",
    "ndbc = dict()\n",
    "for string in string_to_find:\n",
    "    for tag in soup.find_all(\"td\", string=string):\n",
    "        ndbc[string] = tag.next_sibling.string\n",
    "\n",
    "pprint.pprint(ndbc)"
   ]
  },
  {
   "cell_type": "markdown",
   "metadata": {
    "id": "PvdJyWvN40Wk"
   },
   "source": [
    "### NERRS\n",
    "https://nosc.noaa.gov/OSC/OSN/index.php\tNERRS SWMP; Across 29 NERRS; Source = internal access only - NOAA Observing System Council.\n",
    "\n",
    "http://cdmo.baruch.sc.edu/webservices.cfm <- need IP address approval\n",
    "\n",
    "Need number of stations (120 last time)"
   ]
  },
  {
   "cell_type": "code",
   "execution_count": 24,
   "metadata": {
    "colab": {
     "base_uri": "https://localhost:8080/"
    },
    "id": "vB1MEtDb_Map",
    "outputId": "dc500eec-280a-4ca2-b1f9-1f3e4de3046d"
   },
   "outputs": [
    {
     "name": "stdout",
     "output_type": "stream",
     "text": [
      "NERRS reserves: 29\n"
     ]
    }
   ],
   "source": [
    "\n",
    "import requests\n",
    "from bs4 import BeautifulSoup\n",
    "import re\n",
    "\n",
    "url = 'https://coast.noaa.gov/nerrs/about/'\n",
    "\n",
    "html = requests.get(url).text\n",
    "\n",
    "soup = BeautifulSoup(html, 'html.parser')\n",
    "\n",
    "string_to_find = ['The National Estuarine Research Reserve System is a network of ']\n",
    "\n",
    "nerrs = dict()\n",
    "for string in string_to_find:\n",
    "  for tag in soup.find_all(\"meta\", attrs={'content': re.compile(string)}, limit=1):\n",
    "    res = [int(i) for i in tag['content'].split() if i.isdigit()] # extract number\n",
    "    #print(tag['content'])\n",
    "    nerrs = res[0]\n",
    "    #print('%s = %s' % (string, tag.next_sibling.string))\n",
    "\n",
    "print(\"NERRS reserves:\",nerrs)\n"
   ]
  },
  {
   "cell_type": "markdown",
   "metadata": {
    "id": "_uH7fBzJ43vL"
   },
   "source": [
    "### CBIBS\n",
    "https://buoybay.noaa.gov/locations\n",
    "\n",
    "[API docs](https://buoybay.noaa.gov/node/174)\n",
    "\n",
    "Base URL: https://mw.buoybay.noaa.gov/api/v1\n",
    "\n",
    "Testing Key: f159959c117f473477edbdf3245cc2a4831ac61f\n",
    "\n",
    "Latest measurements:\n",
    "https://mw.buoybay.noaa.gov/api/v1/json/station?key=f159959c117f473477edbdf3245cc2a4831ac61f"
   ]
  },
  {
   "cell_type": "code",
   "execution_count": 25,
   "metadata": {
    "colab": {
     "base_uri": "https://localhost:8080/"
    },
    "id": "nIIbzvJO49Vb",
    "outputId": "d8661cab-cdd3-480b-8e6e-f81128a2674d"
   },
   "outputs": [
    {
     "name": "stdout",
     "output_type": "stream",
     "text": [
      "CBIBS Stations: 10\n"
     ]
    }
   ],
   "source": [
    "import json\n",
    "\n",
    "base_url = 'https://mw.buoybay.noaa.gov/api/v1'\n",
    "apikey = 'f159959c117f473477edbdf3245cc2a4831ac61f'\n",
    "start = '2021-12-08T01:00:00z'\n",
    "end = '2021-12-09T23:59:59z'\n",
    "var = 'Position'\n",
    "\n",
    "query_url = '{}/json/query?key={}&sd={}&ed={}&var={}'.format(base_url,apikey,start,end,var)\n",
    "#query_url = '{}/json/station?key={}'.format(base_url, apikey)\n",
    "\n",
    "json = json.loads(requests.get(query_url).text)\n",
    "\n",
    "cbibs = len(json['stations'])\n",
    "\n",
    "print(\"CBIBS Stations:\",cbibs)"
   ]
  },
  {
   "cell_type": "markdown",
   "metadata": {
    "id": "z66nOWtO5KKE"
   },
   "source": [
    "### OAP\n",
    "https://cdip.ucsd.edu/m/stn_table/\tIncludes overlap with the RAs and other programs\n",
    "\n",
    "19\n",
    "\n",
    "See buoys and moorings at https://oceanacidification.noaa.gov/WhatWeDo/Data.aspx\n",
    "\n",
    "pull kml from pmel"
   ]
  },
  {
   "cell_type": "code",
   "execution_count": 26,
   "metadata": {
    "colab": {
     "base_uri": "https://localhost:8080/"
    },
    "id": "lJnDfvb05PzD",
    "outputId": "5d2fd184-3e3e-4d82-8c59-23974fb55f26"
   },
   "outputs": [],
   "source": [
    "# import geopandas as gpd\n",
    "# import fiona\n",
    "\n",
    "# gpd.io.file.fiona.drvsupport.supported_drivers['KML'] = 'rw'\n",
    "\n",
    "# kml = 'https://www.pmel.noaa.gov/co2/files/basekml.kml'\n",
    "\n",
    "# df = gpd.read_file(kml, driver='KML')\n",
    "\n",
    "# df['Name'].unique().size"
   ]
  },
  {
   "cell_type": "code",
   "execution_count": 27,
   "metadata": {},
   "outputs": [
    {
     "name": "stdout",
     "output_type": "stream",
     "text": [
      "OAP Stations: 19\n"
     ]
    }
   ],
   "source": [
    "import requests\n",
    "from bs4 import BeautifulSoup\n",
    "import re\n",
    "\n",
    "url = 'https://oceanacidification.noaa.gov/WhatWeDo/Data.aspx'\n",
    "\n",
    "#url = 'https://www.arcgis.com/apps/Embed/index.html?webmap=9512aae84cae409786339479e31b6c8a&amp;extent=-152.4023,-57.7072,146.7773,74.4006&amp;zoom=true&amp;scale=true&amp;disable_scroll=true&amp;theme=light'\n",
    "\n",
    "html = requests.get(url).text\n",
    "\n",
    "soup = BeautifulSoup(html, 'html.parser')\n",
    "\n",
    "#string_to_find = ['The National Etuarine Research Reserve System is a network of ']\n",
    "#soup.find_all(atts={'id':'mapDiv_gc'})\n",
    "text = soup.find_all(attrs={'id':\"dnn_ctr14711_ContentPane\"})[0].find_all(attrs={'class':'lead'})[0].text #id=\"mapDiv\")\n",
    "\n",
    "res = [int(i) for i in text.split() if i.isdigit()] # extract number\n",
    "    #print(tag['content'])\n",
    "OAP = res[0]\n",
    "\n",
    "print(\"OAP Stations:\",OAP)\n",
    "\n",
    "    #res = [int(i) for i in tag['content'].split() if i.isdigit()] # extract number\n",
    "    #print(tag['content'])\n",
    "    #nerrs = res[0]\n",
    "    #print('%s = %s' % (string, tag.next_sibling.string))\n",
    "\n",
    "#print(\"NERRS reserves:\",nerrs)"
   ]
  },
  {
   "cell_type": "markdown",
   "metadata": {
    "id": "wt9iwonW5Now"
   },
   "source": [
    "### CDIP\n",
    "https://cdip.ucsd.edu/m/stn_table/\tIncludes overlap with the RAs\n",
    "\n",
    "67\n",
    "\n",
    "https://cdip.ucsd.edu/themes/?d2=p1:m:mobile&regions=all&units=standard&zoom=auto&pub_set=public&tz=UTC&ll_fmt=dm&numcolorbands=10&palette=cdip_classic&high=6.096"
   ]
  },
  {
   "cell_type": "code",
   "execution_count": 28,
   "metadata": {
    "id": "r7qEAAlV5NWj"
   },
   "outputs": [
    {
     "name": "stdout",
     "output_type": "stream",
     "text": [
      "CDIP Stations: 66\n"
     ]
    }
   ],
   "source": [
    "import lxml\n",
    "import pandas as pd\n",
    "\n",
    "url = 'https://cdip.ucsd.edu/themes/?d2=p1:m:mobile&regions=all&units=standard&zoom=auto&pub_set=public&tz=UTC&ll_fmt=dm&numcolorbands=10&palette=cdip_classic&high=6.096'\n",
    "table_list = pd.read_html(url, match='Stn')\n",
    "\n",
    "df = table_list[0]\n",
    "\n",
    "print(\"CDIP Stations:\",df['Stn'].unique().size)"
   ]
  },
  {
   "cell_type": "markdown",
   "metadata": {
    "id": "_vmKPAdZ9SBU"
   },
   "source": [
    "## Regional Platforms\n",
    "\n",
    "https://github.com/ioos/ioos-asset-inventory/tree/main/2020\n",
    "\n",
    "http://erddap.ioos.us/erddap/tabledap/2020_asset_inventory.html <- raw data, need processed data"
   ]
  },
  {
   "cell_type": "code",
   "execution_count": 29,
   "metadata": {
    "id": "WTQ0WgP09Vxc"
   },
   "outputs": [
    {
     "name": "stdout",
     "output_type": "stream",
     "text": [
      "Regional platforms: 517\n"
     ]
    }
   ],
   "source": [
    "url = 'https://github.com/ioos/ioos-asset-inventory/raw/main/2020/processed_inventory.csv'\n",
    "df_regional_platforms = pd.read_csv(url)\n",
    "\n",
    "regional_platforms = df_regional_platforms['station_long_name'].unique().size\n",
    "\n",
    "print('Regional platforms:',regional_platforms)"
   ]
  },
  {
   "cell_type": "markdown",
   "metadata": {
    "id": "X5BeiqhIXme-"
   },
   "source": [
    "## ATN Deployments\n",
    "\n",
    "See Deployments at https://portal.atn.ioos.us/#\n",
    "Not sure if there is a way to scrape that page or get those values from somewhere\n",
    "\n",
    "4242"
   ]
  },
  {
   "cell_type": "code",
   "execution_count": 30,
   "metadata": {
    "id": "bQxKAuUXXwRW"
   },
   "outputs": [
    {
     "name": "stdout",
     "output_type": "stream",
     "text": [
      "ATN Deployments: 4242\n"
     ]
    }
   ],
   "source": [
    "# from bs4 import BeautifulSoup\n",
    "# import requests\n",
    "\n",
    "# headers = {'Accept-Encoding': 'identity'}\n",
    "\n",
    "# soup = BeautifulSoup(requests.get('https://portal.atn.ioos.us', headers=headers).text, 'html.parser')\n",
    "\n",
    "# print(soup.prettify())\n",
    "\n",
    "atn_deployments = 4242\n",
    "\n",
    "print(\"ATN Deployments:\",atn_deployments)"
   ]
  },
  {
   "cell_type": "markdown",
   "metadata": {
    "id": "IaoMWowM3cw6"
   },
   "source": [
    "## MBON Projects\n",
    "https://marinebon.org/\n",
    "\n",
    "https://github.com/marinebon/www_marinebon2/tree/master/content/project\n",
    "\n",
    "currently funded projects\n",
    "6"
   ]
  },
  {
   "cell_type": "code",
   "execution_count": 31,
   "metadata": {
    "id": "AZrPHc0T3k2i"
   },
   "outputs": [
    {
     "name": "stdout",
     "output_type": "stream",
     "text": [
      "MBON Projects: 6\n"
     ]
    }
   ],
   "source": [
    "mbon_projects = 6\n",
    "\n",
    "print(\"MBON Projects:\",mbon_projects)"
   ]
  },
  {
   "cell_type": "markdown",
   "metadata": {},
   "source": [
    "## OTT Projects\n",
    "\n",
    "https://ioos.noaa.gov/project/ocean-technology-transition/ 8 live"
   ]
  },
  {
   "cell_type": "code",
   "execution_count": null,
   "metadata": {},
   "outputs": [],
   "source": []
  },
  {
   "cell_type": "markdown",
   "metadata": {},
   "source": [
    "## HAB Pilot Projects\n",
    "\n",
    "https://cdn.ioos.noaa.gov/media/2021/10/NHABON-Funding-Awards-FY21_v2.pdf\n",
    "8 total"
   ]
  },
  {
   "cell_type": "code",
   "execution_count": null,
   "metadata": {},
   "outputs": [],
   "source": []
  },
  {
   "cell_type": "markdown",
   "metadata": {},
   "source": [
    "## QARTOD Manuals\n",
    "\n",
    "https://ioos.noaa.gov/project/qartod/ 14?"
   ]
  },
  {
   "cell_type": "code",
   "execution_count": null,
   "metadata": {},
   "outputs": [],
   "source": []
  },
  {
   "cell_type": "markdown",
   "metadata": {},
   "source": [
    "## IOOS Core Variables\n",
    "\n",
    "https://www.iooc.us/task-teams/core-ioos-variables/\n",
    "\n",
    "34"
   ]
  },
  {
   "cell_type": "code",
   "execution_count": null,
   "metadata": {},
   "outputs": [],
   "source": []
  },
  {
   "cell_type": "markdown",
   "metadata": {},
   "source": [
    "## Metadata Records\n",
    "\n",
    "previously 13,907\n",
    "\n",
    "https://data.ioos.us/"
   ]
  },
  {
   "cell_type": "code",
   "execution_count": 4,
   "metadata": {},
   "outputs": [
    {
     "name": "stdout",
     "output_type": "stream",
     "text": [
      "Found 8457 records.\n",
      "\n"
     ]
    }
   ],
   "source": [
    "from owslib.csw import CatalogueServiceWeb\n",
    "\n",
    "endpoint = \"https://data.ioos.us/csw\"\n",
    "\n",
    "csw = CatalogueServiceWeb(endpoint, timeout=60)\n",
    "\n",
    "def get_csw_records(csw, pagesize=10, maxrecords=10):\n",
    "    \"\"\"Iterate `maxrecords`/`pagesize` times until the requested value in\n",
    "    `maxrecords` is reached.\n",
    "    \"\"\"\n",
    "    from owslib.fes import SortBy, SortProperty\n",
    "\n",
    "    # Iterate over sorted results.\n",
    "    sortby = SortBy([SortProperty(\"dc:title\", \"ASC\")])\n",
    "    csw_records = {}\n",
    "    startposition = 0\n",
    "    nextrecord = getattr(csw, \"results\", 1)\n",
    "    while nextrecord != 0:\n",
    "        csw.getrecords2(\n",
    "#            constraints=filter_list,\n",
    "            startposition=startposition,\n",
    "            maxrecords=pagesize,\n",
    "            sortby=sortby,\n",
    "        )\n",
    "        csw_records.update(csw.records)\n",
    "        if csw.results[\"nextrecord\"] == 0:\n",
    "            break\n",
    "        startposition += pagesize + 1  # Last one is included.\n",
    "        if startposition >= maxrecords:\n",
    "            break\n",
    "    csw.records.update(csw_records)\n",
    "    \n",
    "    \n",
    "get_csw_records(csw, pagesize=10, maxrecords=1000000)\n",
    "\n",
    "records = \"\\n\".join(csw.records.keys())\n",
    "print(\"Found {} records.\\n\".format(len(csw.records.keys())))\n",
    "# for key, value in list(csw.records.items()):\n",
    "#     print(u\"[{}]\\n{}\\n\".format(value.title, key))"
   ]
  },
  {
   "cell_type": "markdown",
   "metadata": {},
   "source": [
    "## IOOS"
   ]
  },
  {
   "cell_type": "code",
   "execution_count": 15,
   "metadata": {},
   "outputs": [
    {
     "name": "stdout",
     "output_type": "stream",
     "text": [
      "IOOS: 1\n"
     ]
    }
   ],
   "source": [
    "ioos = 1\n",
    "\n",
    "print(\"IOOS:\",ioos)"
   ]
  },
  {
   "cell_type": "code",
   "execution_count": null,
   "metadata": {},
   "outputs": [],
   "source": []
  }
 ],
 "metadata": {
  "colab": {
   "authorship_tag": "ABX9TyP0ajFh2PpwpOacrscv2c0J",
   "collapsed_sections": [],
   "include_colab_link": true,
   "name": "IOOS_BTN.ipynb",
   "provenance": []
  },
  "kernelspec": {
   "display_name": "Python 3 (ipykernel)",
   "language": "python",
   "name": "python3"
  },
  "language_info": {
   "codemirror_mode": {
    "name": "ipython",
    "version": 3
   },
   "file_extension": ".py",
   "mimetype": "text/x-python",
   "name": "python",
   "nbconvert_exporter": "python",
   "pygments_lexer": "ipython3",
   "version": "3.9.7"
  }
 },
 "nbformat": 4,
 "nbformat_minor": 1
}
