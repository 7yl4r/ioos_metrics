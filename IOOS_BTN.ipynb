{
  "cells": [
    {
      "cell_type": "markdown",
      "metadata": {
        "id": "view-in-github",
        "colab_type": "text"
      },
      "source": [
        "<a href=\"https://colab.research.google.com/github/MathewBiddle/ioos_by_the_numbers/blob/main/IOOS_BTN.ipynb\" target=\"_parent\"><img src=\"https://colab.research.google.com/assets/colab-badge.svg\" alt=\"Open In Colab\"/></a>"
      ]
    },
    {
      "cell_type": "markdown",
      "metadata": {
        "id": "98GUIWOu35mJ"
      },
      "source": [
        "# Creating the IOOS By The Numbers\n",
        "\n",
        "[Website](https://ioos.noaa.gov/about/ioos-by-the-numbers/)\n",
        "\n",
        "[Spreadsheet](https://docs.google.com/spreadsheets/d/1AUfXmc3OwxpVdeMNjZyTGWjyR4ku3kRD5eexNrMORnI/edit#gid=516871794)"
      ]
    },
    {
      "cell_type": "code",
      "source": [
        "from numpy import NaN\n",
        "import pandas as pd\n",
        "\n",
        "\n",
        "feb_2018 = {\n",
        "    'date_UTC': [pd.Timestamp.strftime(pd.Timestamp('2018-02-01',tz='UTC'), '%Y-%m-%d')],\n",
        "    'Federal Partners': [17],\n",
        "    'Regional Associations': [11],\n",
        "    'HF Radar Stations': [150],\n",
        "    'NGDAC Glider Days': [52027],\n",
        "    'National Platforms': [737],\n",
        "    'Regional Platforms': [335],\n",
        "    'ATN Deployments': [NaN],\n",
        "    'MBON Projects': [NaN],\n",
        "    'OTT Projects': [NaN],\n",
        "    'HAB Pilot Projects': [NaN],\n",
        "    'QARTOD Manuals': [13],\n",
        "    'IOOS Core Variables': [34],\n",
        "    'Metadata Records': [8600],\n",
        "    'IOOS': [1],\n",
        "}\n",
        "\n",
        "\n",
        "ioos_btn_df = pd.DataFrame(feb_2018)#columns=['category','value','date'])\n",
        "\n",
        "#ioos_btn_df['date_UTC'] = [pd.Timestamp.isoformat(pd.Timestamp('2018-02-01',tz='UTC'))]\n",
        "\n",
        "#ioos_btn_df\n",
        "\n",
        "ioos_btn_df"
      ],
      "metadata": {
        "colab": {
          "base_uri": "https://localhost:8080/",
          "height": 159
        },
        "id": "LdpKgY6ZsVy4",
        "outputId": "eb3909ac-b22c-44a1-ab87-c36b72bb4efd"
      },
      "execution_count": 1,
      "outputs": [
        {
          "output_type": "execute_result",
          "data": {
            "text/plain": [
              "     date_UTC  Federal Partners  Regional Associations  HF Radar Stations  \\\n",
              "0  2018-02-01                17                     11                150   \n",
              "\n",
              "   NGDAC Glider Days  National Platforms  Regional Platforms  ATN Deployments  \\\n",
              "0              52027                 737                 335              NaN   \n",
              "\n",
              "   MBON Projects  OTT Projects  HAB Pilot Projects  QARTOD Manuals  \\\n",
              "0            NaN           NaN                 NaN              13   \n",
              "\n",
              "   IOOS Core Variables  Metadata Records  IOOS  \n",
              "0                   34              8600     1  "
            ],
            "text/html": [
              "\n",
              "  <div id=\"df-6b995f27-5835-4b5f-a3f5-ac6fd0f31567\">\n",
              "    <div class=\"colab-df-container\">\n",
              "      <div>\n",
              "<style scoped>\n",
              "    .dataframe tbody tr th:only-of-type {\n",
              "        vertical-align: middle;\n",
              "    }\n",
              "\n",
              "    .dataframe tbody tr th {\n",
              "        vertical-align: top;\n",
              "    }\n",
              "\n",
              "    .dataframe thead th {\n",
              "        text-align: right;\n",
              "    }\n",
              "</style>\n",
              "<table border=\"1\" class=\"dataframe\">\n",
              "  <thead>\n",
              "    <tr style=\"text-align: right;\">\n",
              "      <th></th>\n",
              "      <th>date_UTC</th>\n",
              "      <th>Federal Partners</th>\n",
              "      <th>Regional Associations</th>\n",
              "      <th>HF Radar Stations</th>\n",
              "      <th>NGDAC Glider Days</th>\n",
              "      <th>National Platforms</th>\n",
              "      <th>Regional Platforms</th>\n",
              "      <th>ATN Deployments</th>\n",
              "      <th>MBON Projects</th>\n",
              "      <th>OTT Projects</th>\n",
              "      <th>HAB Pilot Projects</th>\n",
              "      <th>QARTOD Manuals</th>\n",
              "      <th>IOOS Core Variables</th>\n",
              "      <th>Metadata Records</th>\n",
              "      <th>IOOS</th>\n",
              "    </tr>\n",
              "  </thead>\n",
              "  <tbody>\n",
              "    <tr>\n",
              "      <th>0</th>\n",
              "      <td>2018-02-01</td>\n",
              "      <td>17</td>\n",
              "      <td>11</td>\n",
              "      <td>150</td>\n",
              "      <td>52027</td>\n",
              "      <td>737</td>\n",
              "      <td>335</td>\n",
              "      <td>NaN</td>\n",
              "      <td>NaN</td>\n",
              "      <td>NaN</td>\n",
              "      <td>NaN</td>\n",
              "      <td>13</td>\n",
              "      <td>34</td>\n",
              "      <td>8600</td>\n",
              "      <td>1</td>\n",
              "    </tr>\n",
              "  </tbody>\n",
              "</table>\n",
              "</div>\n",
              "      <button class=\"colab-df-convert\" onclick=\"convertToInteractive('df-6b995f27-5835-4b5f-a3f5-ac6fd0f31567')\"\n",
              "              title=\"Convert this dataframe to an interactive table.\"\n",
              "              style=\"display:none;\">\n",
              "        \n",
              "  <svg xmlns=\"http://www.w3.org/2000/svg\" height=\"24px\"viewBox=\"0 0 24 24\"\n",
              "       width=\"24px\">\n",
              "    <path d=\"M0 0h24v24H0V0z\" fill=\"none\"/>\n",
              "    <path d=\"M18.56 5.44l.94 2.06.94-2.06 2.06-.94-2.06-.94-.94-2.06-.94 2.06-2.06.94zm-11 1L8.5 8.5l.94-2.06 2.06-.94-2.06-.94L8.5 2.5l-.94 2.06-2.06.94zm10 10l.94 2.06.94-2.06 2.06-.94-2.06-.94-.94-2.06-.94 2.06-2.06.94z\"/><path d=\"M17.41 7.96l-1.37-1.37c-.4-.4-.92-.59-1.43-.59-.52 0-1.04.2-1.43.59L10.3 9.45l-7.72 7.72c-.78.78-.78 2.05 0 2.83L4 21.41c.39.39.9.59 1.41.59.51 0 1.02-.2 1.41-.59l7.78-7.78 2.81-2.81c.8-.78.8-2.07 0-2.86zM5.41 20L4 18.59l7.72-7.72 1.47 1.35L5.41 20z\"/>\n",
              "  </svg>\n",
              "      </button>\n",
              "      \n",
              "  <style>\n",
              "    .colab-df-container {\n",
              "      display:flex;\n",
              "      flex-wrap:wrap;\n",
              "      gap: 12px;\n",
              "    }\n",
              "\n",
              "    .colab-df-convert {\n",
              "      background-color: #E8F0FE;\n",
              "      border: none;\n",
              "      border-radius: 50%;\n",
              "      cursor: pointer;\n",
              "      display: none;\n",
              "      fill: #1967D2;\n",
              "      height: 32px;\n",
              "      padding: 0 0 0 0;\n",
              "      width: 32px;\n",
              "    }\n",
              "\n",
              "    .colab-df-convert:hover {\n",
              "      background-color: #E2EBFA;\n",
              "      box-shadow: 0px 1px 2px rgba(60, 64, 67, 0.3), 0px 1px 3px 1px rgba(60, 64, 67, 0.15);\n",
              "      fill: #174EA6;\n",
              "    }\n",
              "\n",
              "    [theme=dark] .colab-df-convert {\n",
              "      background-color: #3B4455;\n",
              "      fill: #D2E3FC;\n",
              "    }\n",
              "\n",
              "    [theme=dark] .colab-df-convert:hover {\n",
              "      background-color: #434B5C;\n",
              "      box-shadow: 0px 1px 3px 1px rgba(0, 0, 0, 0.15);\n",
              "      filter: drop-shadow(0px 1px 2px rgba(0, 0, 0, 0.3));\n",
              "      fill: #FFFFFF;\n",
              "    }\n",
              "  </style>\n",
              "\n",
              "      <script>\n",
              "        const buttonEl =\n",
              "          document.querySelector('#df-6b995f27-5835-4b5f-a3f5-ac6fd0f31567 button.colab-df-convert');\n",
              "        buttonEl.style.display =\n",
              "          google.colab.kernel.accessAllowed ? 'block' : 'none';\n",
              "\n",
              "        async function convertToInteractive(key) {\n",
              "          const element = document.querySelector('#df-6b995f27-5835-4b5f-a3f5-ac6fd0f31567');\n",
              "          const dataTable =\n",
              "            await google.colab.kernel.invokeFunction('convertToInteractive',\n",
              "                                                     [key], {});\n",
              "          if (!dataTable) return;\n",
              "\n",
              "          const docLinkHtml = 'Like what you see? Visit the ' +\n",
              "            '<a target=\"_blank\" href=https://colab.research.google.com/notebooks/data_table.ipynb>data table notebook</a>'\n",
              "            + ' to learn more about interactive tables.';\n",
              "          element.innerHTML = '';\n",
              "          dataTable['output_type'] = 'display_data';\n",
              "          await google.colab.output.renderOutput(dataTable, element);\n",
              "          const docLink = document.createElement('div');\n",
              "          docLink.innerHTML = docLinkHtml;\n",
              "          element.appendChild(docLink);\n",
              "        }\n",
              "      </script>\n",
              "    </div>\n",
              "  </div>\n",
              "  "
            ]
          },
          "metadata": {},
          "execution_count": 1
        }
      ]
    },
    {
      "cell_type": "code",
      "execution_count": 2,
      "metadata": {
        "id": "-afzN9SfS5tk",
        "outputId": "b604c3c4-7f57-480c-f501-1fde2699e9f1",
        "colab": {
          "base_uri": "https://localhost:8080/",
          "height": 208
        }
      },
      "outputs": [
        {
          "output_type": "execute_result",
          "data": {
            "text/plain": [
              "     date_UTC  Federal Partners  Regional Associations  HF Radar Stations  \\\n",
              "0  2018-02-01              17.0                   11.0              150.0   \n",
              "1  2022-03-28               NaN                    NaN                NaN   \n",
              "\n",
              "   NGDAC Glider Days  National Platforms  Regional Platforms  ATN Deployments  \\\n",
              "0            52027.0               737.0               335.0              NaN   \n",
              "1                NaN                 NaN                 NaN              NaN   \n",
              "\n",
              "   MBON Projects  OTT Projects  HAB Pilot Projects  QARTOD Manuals  \\\n",
              "0            NaN           NaN                 NaN            13.0   \n",
              "1            NaN           NaN                 NaN             NaN   \n",
              "\n",
              "   IOOS Core Variables  Metadata Records  IOOS  \n",
              "0                 34.0            8600.0   1.0  \n",
              "1                  NaN               NaN   NaN  "
            ],
            "text/html": [
              "\n",
              "  <div id=\"df-972e5d14-0d82-4acc-9286-aa19b5155e4d\">\n",
              "    <div class=\"colab-df-container\">\n",
              "      <div>\n",
              "<style scoped>\n",
              "    .dataframe tbody tr th:only-of-type {\n",
              "        vertical-align: middle;\n",
              "    }\n",
              "\n",
              "    .dataframe tbody tr th {\n",
              "        vertical-align: top;\n",
              "    }\n",
              "\n",
              "    .dataframe thead th {\n",
              "        text-align: right;\n",
              "    }\n",
              "</style>\n",
              "<table border=\"1\" class=\"dataframe\">\n",
              "  <thead>\n",
              "    <tr style=\"text-align: right;\">\n",
              "      <th></th>\n",
              "      <th>date_UTC</th>\n",
              "      <th>Federal Partners</th>\n",
              "      <th>Regional Associations</th>\n",
              "      <th>HF Radar Stations</th>\n",
              "      <th>NGDAC Glider Days</th>\n",
              "      <th>National Platforms</th>\n",
              "      <th>Regional Platforms</th>\n",
              "      <th>ATN Deployments</th>\n",
              "      <th>MBON Projects</th>\n",
              "      <th>OTT Projects</th>\n",
              "      <th>HAB Pilot Projects</th>\n",
              "      <th>QARTOD Manuals</th>\n",
              "      <th>IOOS Core Variables</th>\n",
              "      <th>Metadata Records</th>\n",
              "      <th>IOOS</th>\n",
              "    </tr>\n",
              "  </thead>\n",
              "  <tbody>\n",
              "    <tr>\n",
              "      <th>0</th>\n",
              "      <td>2018-02-01</td>\n",
              "      <td>17.0</td>\n",
              "      <td>11.0</td>\n",
              "      <td>150.0</td>\n",
              "      <td>52027.0</td>\n",
              "      <td>737.0</td>\n",
              "      <td>335.0</td>\n",
              "      <td>NaN</td>\n",
              "      <td>NaN</td>\n",
              "      <td>NaN</td>\n",
              "      <td>NaN</td>\n",
              "      <td>13.0</td>\n",
              "      <td>34.0</td>\n",
              "      <td>8600.0</td>\n",
              "      <td>1.0</td>\n",
              "    </tr>\n",
              "    <tr>\n",
              "      <th>1</th>\n",
              "      <td>2022-03-28</td>\n",
              "      <td>NaN</td>\n",
              "      <td>NaN</td>\n",
              "      <td>NaN</td>\n",
              "      <td>NaN</td>\n",
              "      <td>NaN</td>\n",
              "      <td>NaN</td>\n",
              "      <td>NaN</td>\n",
              "      <td>NaN</td>\n",
              "      <td>NaN</td>\n",
              "      <td>NaN</td>\n",
              "      <td>NaN</td>\n",
              "      <td>NaN</td>\n",
              "      <td>NaN</td>\n",
              "      <td>NaN</td>\n",
              "    </tr>\n",
              "  </tbody>\n",
              "</table>\n",
              "</div>\n",
              "      <button class=\"colab-df-convert\" onclick=\"convertToInteractive('df-972e5d14-0d82-4acc-9286-aa19b5155e4d')\"\n",
              "              title=\"Convert this dataframe to an interactive table.\"\n",
              "              style=\"display:none;\">\n",
              "        \n",
              "  <svg xmlns=\"http://www.w3.org/2000/svg\" height=\"24px\"viewBox=\"0 0 24 24\"\n",
              "       width=\"24px\">\n",
              "    <path d=\"M0 0h24v24H0V0z\" fill=\"none\"/>\n",
              "    <path d=\"M18.56 5.44l.94 2.06.94-2.06 2.06-.94-2.06-.94-.94-2.06-.94 2.06-2.06.94zm-11 1L8.5 8.5l.94-2.06 2.06-.94-2.06-.94L8.5 2.5l-.94 2.06-2.06.94zm10 10l.94 2.06.94-2.06 2.06-.94-2.06-.94-.94-2.06-.94 2.06-2.06.94z\"/><path d=\"M17.41 7.96l-1.37-1.37c-.4-.4-.92-.59-1.43-.59-.52 0-1.04.2-1.43.59L10.3 9.45l-7.72 7.72c-.78.78-.78 2.05 0 2.83L4 21.41c.39.39.9.59 1.41.59.51 0 1.02-.2 1.41-.59l7.78-7.78 2.81-2.81c.8-.78.8-2.07 0-2.86zM5.41 20L4 18.59l7.72-7.72 1.47 1.35L5.41 20z\"/>\n",
              "  </svg>\n",
              "      </button>\n",
              "      \n",
              "  <style>\n",
              "    .colab-df-container {\n",
              "      display:flex;\n",
              "      flex-wrap:wrap;\n",
              "      gap: 12px;\n",
              "    }\n",
              "\n",
              "    .colab-df-convert {\n",
              "      background-color: #E8F0FE;\n",
              "      border: none;\n",
              "      border-radius: 50%;\n",
              "      cursor: pointer;\n",
              "      display: none;\n",
              "      fill: #1967D2;\n",
              "      height: 32px;\n",
              "      padding: 0 0 0 0;\n",
              "      width: 32px;\n",
              "    }\n",
              "\n",
              "    .colab-df-convert:hover {\n",
              "      background-color: #E2EBFA;\n",
              "      box-shadow: 0px 1px 2px rgba(60, 64, 67, 0.3), 0px 1px 3px 1px rgba(60, 64, 67, 0.15);\n",
              "      fill: #174EA6;\n",
              "    }\n",
              "\n",
              "    [theme=dark] .colab-df-convert {\n",
              "      background-color: #3B4455;\n",
              "      fill: #D2E3FC;\n",
              "    }\n",
              "\n",
              "    [theme=dark] .colab-df-convert:hover {\n",
              "      background-color: #434B5C;\n",
              "      box-shadow: 0px 1px 3px 1px rgba(0, 0, 0, 0.15);\n",
              "      filter: drop-shadow(0px 1px 2px rgba(0, 0, 0, 0.3));\n",
              "      fill: #FFFFFF;\n",
              "    }\n",
              "  </style>\n",
              "\n",
              "      <script>\n",
              "        const buttonEl =\n",
              "          document.querySelector('#df-972e5d14-0d82-4acc-9286-aa19b5155e4d button.colab-df-convert');\n",
              "        buttonEl.style.display =\n",
              "          google.colab.kernel.accessAllowed ? 'block' : 'none';\n",
              "\n",
              "        async function convertToInteractive(key) {\n",
              "          const element = document.querySelector('#df-972e5d14-0d82-4acc-9286-aa19b5155e4d');\n",
              "          const dataTable =\n",
              "            await google.colab.kernel.invokeFunction('convertToInteractive',\n",
              "                                                     [key], {});\n",
              "          if (!dataTable) return;\n",
              "\n",
              "          const docLinkHtml = 'Like what you see? Visit the ' +\n",
              "            '<a target=\"_blank\" href=https://colab.research.google.com/notebooks/data_table.ipynb>data table notebook</a>'\n",
              "            + ' to learn more about interactive tables.';\n",
              "          element.innerHTML = '';\n",
              "          dataTable['output_type'] = 'display_data';\n",
              "          await google.colab.output.renderOutput(dataTable, element);\n",
              "          const docLink = document.createElement('div');\n",
              "          docLink.innerHTML = docLinkHtml;\n",
              "          element.appendChild(docLink);\n",
              "        }\n",
              "      </script>\n",
              "    </div>\n",
              "  </div>\n",
              "  "
            ]
          },
          "metadata": {},
          "execution_count": 2
        }
      ],
      "source": [
        "import pandas as pd\n",
        "#today = pd.to_datetime\n",
        "#ioos_btn_df = pd.DataFrame()#columns=['category','value','date'])\n",
        "\n",
        "today = pd.Timestamp.strftime(pd.Timestamp.today(tz='UTC'), '%Y-%m-%d')\n",
        "\n",
        "ioos_btn_df = ioos_btn_df.append({'date_UTC': today}, ignore_index=True)\n",
        "\n",
        "ioos_btn_df"
      ]
    },
    {
      "cell_type": "markdown",
      "metadata": {
        "id": "rMkHuVRJEGKq"
      },
      "source": [
        "## Federal Partners\n",
        "\n",
        "ICOOS Act/COORA"
      ]
    },
    {
      "cell_type": "code",
      "source": [
        "fed_partners = 17\n",
        "\n",
        "# d = {'category':['Federal Partners'],'value':[fed_partners],'date':[today]}\n",
        "\n",
        "# df_fed_part = pd.DataFrame(d)\n",
        "\n",
        "ioos_btn_df.loc[ioos_btn_df['date_UTC']==today, ['Federal Partners']] = [fed_partners]\n",
        "\n",
        "ioos_btn_df"
      ],
      "metadata": {
        "id": "jXMhi3tRQvMd",
        "outputId": "c5b31ce2-929f-4b14-82a2-75f5e9a7f7fe",
        "colab": {
          "base_uri": "https://localhost:8080/",
          "height": 208
        }
      },
      "execution_count": 3,
      "outputs": [
        {
          "output_type": "execute_result",
          "data": {
            "text/plain": [
              "     date_UTC  Federal Partners  Regional Associations  HF Radar Stations  \\\n",
              "0  2018-02-01              17.0                   11.0              150.0   \n",
              "1  2022-03-28              17.0                    NaN                NaN   \n",
              "\n",
              "   NGDAC Glider Days  National Platforms  Regional Platforms  ATN Deployments  \\\n",
              "0            52027.0               737.0               335.0              NaN   \n",
              "1                NaN                 NaN                 NaN              NaN   \n",
              "\n",
              "   MBON Projects  OTT Projects  HAB Pilot Projects  QARTOD Manuals  \\\n",
              "0            NaN           NaN                 NaN            13.0   \n",
              "1            NaN           NaN                 NaN             NaN   \n",
              "\n",
              "   IOOS Core Variables  Metadata Records  IOOS  \n",
              "0                 34.0            8600.0   1.0  \n",
              "1                  NaN               NaN   NaN  "
            ],
            "text/html": [
              "\n",
              "  <div id=\"df-b4523519-4348-45a1-ae03-2aa0d7a1887b\">\n",
              "    <div class=\"colab-df-container\">\n",
              "      <div>\n",
              "<style scoped>\n",
              "    .dataframe tbody tr th:only-of-type {\n",
              "        vertical-align: middle;\n",
              "    }\n",
              "\n",
              "    .dataframe tbody tr th {\n",
              "        vertical-align: top;\n",
              "    }\n",
              "\n",
              "    .dataframe thead th {\n",
              "        text-align: right;\n",
              "    }\n",
              "</style>\n",
              "<table border=\"1\" class=\"dataframe\">\n",
              "  <thead>\n",
              "    <tr style=\"text-align: right;\">\n",
              "      <th></th>\n",
              "      <th>date_UTC</th>\n",
              "      <th>Federal Partners</th>\n",
              "      <th>Regional Associations</th>\n",
              "      <th>HF Radar Stations</th>\n",
              "      <th>NGDAC Glider Days</th>\n",
              "      <th>National Platforms</th>\n",
              "      <th>Regional Platforms</th>\n",
              "      <th>ATN Deployments</th>\n",
              "      <th>MBON Projects</th>\n",
              "      <th>OTT Projects</th>\n",
              "      <th>HAB Pilot Projects</th>\n",
              "      <th>QARTOD Manuals</th>\n",
              "      <th>IOOS Core Variables</th>\n",
              "      <th>Metadata Records</th>\n",
              "      <th>IOOS</th>\n",
              "    </tr>\n",
              "  </thead>\n",
              "  <tbody>\n",
              "    <tr>\n",
              "      <th>0</th>\n",
              "      <td>2018-02-01</td>\n",
              "      <td>17.0</td>\n",
              "      <td>11.0</td>\n",
              "      <td>150.0</td>\n",
              "      <td>52027.0</td>\n",
              "      <td>737.0</td>\n",
              "      <td>335.0</td>\n",
              "      <td>NaN</td>\n",
              "      <td>NaN</td>\n",
              "      <td>NaN</td>\n",
              "      <td>NaN</td>\n",
              "      <td>13.0</td>\n",
              "      <td>34.0</td>\n",
              "      <td>8600.0</td>\n",
              "      <td>1.0</td>\n",
              "    </tr>\n",
              "    <tr>\n",
              "      <th>1</th>\n",
              "      <td>2022-03-28</td>\n",
              "      <td>17.0</td>\n",
              "      <td>NaN</td>\n",
              "      <td>NaN</td>\n",
              "      <td>NaN</td>\n",
              "      <td>NaN</td>\n",
              "      <td>NaN</td>\n",
              "      <td>NaN</td>\n",
              "      <td>NaN</td>\n",
              "      <td>NaN</td>\n",
              "      <td>NaN</td>\n",
              "      <td>NaN</td>\n",
              "      <td>NaN</td>\n",
              "      <td>NaN</td>\n",
              "      <td>NaN</td>\n",
              "    </tr>\n",
              "  </tbody>\n",
              "</table>\n",
              "</div>\n",
              "      <button class=\"colab-df-convert\" onclick=\"convertToInteractive('df-b4523519-4348-45a1-ae03-2aa0d7a1887b')\"\n",
              "              title=\"Convert this dataframe to an interactive table.\"\n",
              "              style=\"display:none;\">\n",
              "        \n",
              "  <svg xmlns=\"http://www.w3.org/2000/svg\" height=\"24px\"viewBox=\"0 0 24 24\"\n",
              "       width=\"24px\">\n",
              "    <path d=\"M0 0h24v24H0V0z\" fill=\"none\"/>\n",
              "    <path d=\"M18.56 5.44l.94 2.06.94-2.06 2.06-.94-2.06-.94-.94-2.06-.94 2.06-2.06.94zm-11 1L8.5 8.5l.94-2.06 2.06-.94-2.06-.94L8.5 2.5l-.94 2.06-2.06.94zm10 10l.94 2.06.94-2.06 2.06-.94-2.06-.94-.94-2.06-.94 2.06-2.06.94z\"/><path d=\"M17.41 7.96l-1.37-1.37c-.4-.4-.92-.59-1.43-.59-.52 0-1.04.2-1.43.59L10.3 9.45l-7.72 7.72c-.78.78-.78 2.05 0 2.83L4 21.41c.39.39.9.59 1.41.59.51 0 1.02-.2 1.41-.59l7.78-7.78 2.81-2.81c.8-.78.8-2.07 0-2.86zM5.41 20L4 18.59l7.72-7.72 1.47 1.35L5.41 20z\"/>\n",
              "  </svg>\n",
              "      </button>\n",
              "      \n",
              "  <style>\n",
              "    .colab-df-container {\n",
              "      display:flex;\n",
              "      flex-wrap:wrap;\n",
              "      gap: 12px;\n",
              "    }\n",
              "\n",
              "    .colab-df-convert {\n",
              "      background-color: #E8F0FE;\n",
              "      border: none;\n",
              "      border-radius: 50%;\n",
              "      cursor: pointer;\n",
              "      display: none;\n",
              "      fill: #1967D2;\n",
              "      height: 32px;\n",
              "      padding: 0 0 0 0;\n",
              "      width: 32px;\n",
              "    }\n",
              "\n",
              "    .colab-df-convert:hover {\n",
              "      background-color: #E2EBFA;\n",
              "      box-shadow: 0px 1px 2px rgba(60, 64, 67, 0.3), 0px 1px 3px 1px rgba(60, 64, 67, 0.15);\n",
              "      fill: #174EA6;\n",
              "    }\n",
              "\n",
              "    [theme=dark] .colab-df-convert {\n",
              "      background-color: #3B4455;\n",
              "      fill: #D2E3FC;\n",
              "    }\n",
              "\n",
              "    [theme=dark] .colab-df-convert:hover {\n",
              "      background-color: #434B5C;\n",
              "      box-shadow: 0px 1px 3px 1px rgba(0, 0, 0, 0.15);\n",
              "      filter: drop-shadow(0px 1px 2px rgba(0, 0, 0, 0.3));\n",
              "      fill: #FFFFFF;\n",
              "    }\n",
              "  </style>\n",
              "\n",
              "      <script>\n",
              "        const buttonEl =\n",
              "          document.querySelector('#df-b4523519-4348-45a1-ae03-2aa0d7a1887b button.colab-df-convert');\n",
              "        buttonEl.style.display =\n",
              "          google.colab.kernel.accessAllowed ? 'block' : 'none';\n",
              "\n",
              "        async function convertToInteractive(key) {\n",
              "          const element = document.querySelector('#df-b4523519-4348-45a1-ae03-2aa0d7a1887b');\n",
              "          const dataTable =\n",
              "            await google.colab.kernel.invokeFunction('convertToInteractive',\n",
              "                                                     [key], {});\n",
              "          if (!dataTable) return;\n",
              "\n",
              "          const docLinkHtml = 'Like what you see? Visit the ' +\n",
              "            '<a target=\"_blank\" href=https://colab.research.google.com/notebooks/data_table.ipynb>data table notebook</a>'\n",
              "            + ' to learn more about interactive tables.';\n",
              "          element.innerHTML = '';\n",
              "          dataTable['output_type'] = 'display_data';\n",
              "          await google.colab.output.renderOutput(dataTable, element);\n",
              "          const docLink = document.createElement('div');\n",
              "          docLink.innerHTML = docLinkHtml;\n",
              "          element.appendChild(docLink);\n",
              "        }\n",
              "      </script>\n",
              "    </div>\n",
              "  </div>\n",
              "  "
            ]
          },
          "metadata": {},
          "execution_count": 3
        }
      ]
    },
    {
      "cell_type": "markdown",
      "metadata": {
        "id": "elYWAAZSEGKq"
      },
      "source": [
        "## Regional Associations"
      ]
    },
    {
      "cell_type": "code",
      "source": [
        "regional_associations = 11\n",
        "\n",
        "ioos_btn_df.loc[ioos_btn_df['date_UTC']==today, ['Regional Associations']] = [regional_associations]\n",
        "\n",
        "ioos_btn_df"
      ],
      "metadata": {
        "id": "YwOg7gB8QY6J",
        "outputId": "85f23a79-301a-48c7-e26d-cdb279a923ff",
        "colab": {
          "base_uri": "https://localhost:8080/",
          "height": 208
        }
      },
      "execution_count": 4,
      "outputs": [
        {
          "output_type": "execute_result",
          "data": {
            "text/plain": [
              "     date_UTC  Federal Partners  Regional Associations  HF Radar Stations  \\\n",
              "0  2018-02-01              17.0                   11.0              150.0   \n",
              "1  2022-03-28              17.0                   11.0                NaN   \n",
              "\n",
              "   NGDAC Glider Days  National Platforms  Regional Platforms  ATN Deployments  \\\n",
              "0            52027.0               737.0               335.0              NaN   \n",
              "1                NaN                 NaN                 NaN              NaN   \n",
              "\n",
              "   MBON Projects  OTT Projects  HAB Pilot Projects  QARTOD Manuals  \\\n",
              "0            NaN           NaN                 NaN            13.0   \n",
              "1            NaN           NaN                 NaN             NaN   \n",
              "\n",
              "   IOOS Core Variables  Metadata Records  IOOS  \n",
              "0                 34.0            8600.0   1.0  \n",
              "1                  NaN               NaN   NaN  "
            ],
            "text/html": [
              "\n",
              "  <div id=\"df-97638127-355d-491e-9291-a265ff9634dd\">\n",
              "    <div class=\"colab-df-container\">\n",
              "      <div>\n",
              "<style scoped>\n",
              "    .dataframe tbody tr th:only-of-type {\n",
              "        vertical-align: middle;\n",
              "    }\n",
              "\n",
              "    .dataframe tbody tr th {\n",
              "        vertical-align: top;\n",
              "    }\n",
              "\n",
              "    .dataframe thead th {\n",
              "        text-align: right;\n",
              "    }\n",
              "</style>\n",
              "<table border=\"1\" class=\"dataframe\">\n",
              "  <thead>\n",
              "    <tr style=\"text-align: right;\">\n",
              "      <th></th>\n",
              "      <th>date_UTC</th>\n",
              "      <th>Federal Partners</th>\n",
              "      <th>Regional Associations</th>\n",
              "      <th>HF Radar Stations</th>\n",
              "      <th>NGDAC Glider Days</th>\n",
              "      <th>National Platforms</th>\n",
              "      <th>Regional Platforms</th>\n",
              "      <th>ATN Deployments</th>\n",
              "      <th>MBON Projects</th>\n",
              "      <th>OTT Projects</th>\n",
              "      <th>HAB Pilot Projects</th>\n",
              "      <th>QARTOD Manuals</th>\n",
              "      <th>IOOS Core Variables</th>\n",
              "      <th>Metadata Records</th>\n",
              "      <th>IOOS</th>\n",
              "    </tr>\n",
              "  </thead>\n",
              "  <tbody>\n",
              "    <tr>\n",
              "      <th>0</th>\n",
              "      <td>2018-02-01</td>\n",
              "      <td>17.0</td>\n",
              "      <td>11.0</td>\n",
              "      <td>150.0</td>\n",
              "      <td>52027.0</td>\n",
              "      <td>737.0</td>\n",
              "      <td>335.0</td>\n",
              "      <td>NaN</td>\n",
              "      <td>NaN</td>\n",
              "      <td>NaN</td>\n",
              "      <td>NaN</td>\n",
              "      <td>13.0</td>\n",
              "      <td>34.0</td>\n",
              "      <td>8600.0</td>\n",
              "      <td>1.0</td>\n",
              "    </tr>\n",
              "    <tr>\n",
              "      <th>1</th>\n",
              "      <td>2022-03-28</td>\n",
              "      <td>17.0</td>\n",
              "      <td>11.0</td>\n",
              "      <td>NaN</td>\n",
              "      <td>NaN</td>\n",
              "      <td>NaN</td>\n",
              "      <td>NaN</td>\n",
              "      <td>NaN</td>\n",
              "      <td>NaN</td>\n",
              "      <td>NaN</td>\n",
              "      <td>NaN</td>\n",
              "      <td>NaN</td>\n",
              "      <td>NaN</td>\n",
              "      <td>NaN</td>\n",
              "      <td>NaN</td>\n",
              "    </tr>\n",
              "  </tbody>\n",
              "</table>\n",
              "</div>\n",
              "      <button class=\"colab-df-convert\" onclick=\"convertToInteractive('df-97638127-355d-491e-9291-a265ff9634dd')\"\n",
              "              title=\"Convert this dataframe to an interactive table.\"\n",
              "              style=\"display:none;\">\n",
              "        \n",
              "  <svg xmlns=\"http://www.w3.org/2000/svg\" height=\"24px\"viewBox=\"0 0 24 24\"\n",
              "       width=\"24px\">\n",
              "    <path d=\"M0 0h24v24H0V0z\" fill=\"none\"/>\n",
              "    <path d=\"M18.56 5.44l.94 2.06.94-2.06 2.06-.94-2.06-.94-.94-2.06-.94 2.06-2.06.94zm-11 1L8.5 8.5l.94-2.06 2.06-.94-2.06-.94L8.5 2.5l-.94 2.06-2.06.94zm10 10l.94 2.06.94-2.06 2.06-.94-2.06-.94-.94-2.06-.94 2.06-2.06.94z\"/><path d=\"M17.41 7.96l-1.37-1.37c-.4-.4-.92-.59-1.43-.59-.52 0-1.04.2-1.43.59L10.3 9.45l-7.72 7.72c-.78.78-.78 2.05 0 2.83L4 21.41c.39.39.9.59 1.41.59.51 0 1.02-.2 1.41-.59l7.78-7.78 2.81-2.81c.8-.78.8-2.07 0-2.86zM5.41 20L4 18.59l7.72-7.72 1.47 1.35L5.41 20z\"/>\n",
              "  </svg>\n",
              "      </button>\n",
              "      \n",
              "  <style>\n",
              "    .colab-df-container {\n",
              "      display:flex;\n",
              "      flex-wrap:wrap;\n",
              "      gap: 12px;\n",
              "    }\n",
              "\n",
              "    .colab-df-convert {\n",
              "      background-color: #E8F0FE;\n",
              "      border: none;\n",
              "      border-radius: 50%;\n",
              "      cursor: pointer;\n",
              "      display: none;\n",
              "      fill: #1967D2;\n",
              "      height: 32px;\n",
              "      padding: 0 0 0 0;\n",
              "      width: 32px;\n",
              "    }\n",
              "\n",
              "    .colab-df-convert:hover {\n",
              "      background-color: #E2EBFA;\n",
              "      box-shadow: 0px 1px 2px rgba(60, 64, 67, 0.3), 0px 1px 3px 1px rgba(60, 64, 67, 0.15);\n",
              "      fill: #174EA6;\n",
              "    }\n",
              "\n",
              "    [theme=dark] .colab-df-convert {\n",
              "      background-color: #3B4455;\n",
              "      fill: #D2E3FC;\n",
              "    }\n",
              "\n",
              "    [theme=dark] .colab-df-convert:hover {\n",
              "      background-color: #434B5C;\n",
              "      box-shadow: 0px 1px 3px 1px rgba(0, 0, 0, 0.15);\n",
              "      filter: drop-shadow(0px 1px 2px rgba(0, 0, 0, 0.3));\n",
              "      fill: #FFFFFF;\n",
              "    }\n",
              "  </style>\n",
              "\n",
              "      <script>\n",
              "        const buttonEl =\n",
              "          document.querySelector('#df-97638127-355d-491e-9291-a265ff9634dd button.colab-df-convert');\n",
              "        buttonEl.style.display =\n",
              "          google.colab.kernel.accessAllowed ? 'block' : 'none';\n",
              "\n",
              "        async function convertToInteractive(key) {\n",
              "          const element = document.querySelector('#df-97638127-355d-491e-9291-a265ff9634dd');\n",
              "          const dataTable =\n",
              "            await google.colab.kernel.invokeFunction('convertToInteractive',\n",
              "                                                     [key], {});\n",
              "          if (!dataTable) return;\n",
              "\n",
              "          const docLinkHtml = 'Like what you see? Visit the ' +\n",
              "            '<a target=\"_blank\" href=https://colab.research.google.com/notebooks/data_table.ipynb>data table notebook</a>'\n",
              "            + ' to learn more about interactive tables.';\n",
              "          element.innerHTML = '';\n",
              "          dataTable['output_type'] = 'display_data';\n",
              "          await google.colab.output.renderOutput(dataTable, element);\n",
              "          const docLink = document.createElement('div');\n",
              "          docLink.innerHTML = docLinkHtml;\n",
              "          element.appendChild(docLink);\n",
              "        }\n",
              "      </script>\n",
              "    </div>\n",
              "  </div>\n",
              "  "
            ]
          },
          "metadata": {},
          "execution_count": 4
        }
      ]
    },
    {
      "cell_type": "markdown",
      "metadata": {
        "id": "HsPUEyNJEGKq"
      },
      "source": [
        "## Coastal & Ocean Modeling Testbed\n",
        "Number of Active Projects"
      ]
    },
    {
      "cell_type": "code",
      "execution_count": 5,
      "metadata": {
        "id": "QufQXib2EGKr"
      },
      "outputs": [],
      "source": [
        "comt = 5\n",
        "\n",
        "ioos_btn_df.loc[ioos_btn_df['date_UTC']==today, ['COMT Projects']] = comt"
      ]
    },
    {
      "cell_type": "markdown",
      "metadata": {
        "id": "08BPt9_HqPzx"
      },
      "source": [
        "## HF Radar Installations\n",
        "\n",
        "From http://hfrnet.ucsd.edu/sitediag/stationList.php"
      ]
    },
    {
      "cell_type": "code",
      "execution_count": 6,
      "metadata": {
        "id": "Jh0A94gGTCy_",
        "outputId": "2dff2c67-9c15-48ea-e477-7ba50de2fe4d",
        "colab": {
          "base_uri": "https://localhost:8080/"
        }
      },
      "outputs": [
        {
          "output_type": "stream",
          "name": "stdout",
          "text": [
            "HF Radar Installations: 181\n"
          ]
        }
      ],
      "source": [
        "url = 'http://hfrnet.ucsd.edu/sitediag/stationList.php?output=CSV'\n",
        "\n",
        "df_hfr = pd.read_csv(url)\n",
        "\n",
        "hfr_installations = df_hfr['Station'].unique().size\n",
        "\n",
        "print('HF Radar Installations:',hfr_installations)\n",
        "\n",
        "ioos_btn_df.loc[ioos_btn_df['date_UTC']==today, ['HF Radar Stations']] = hfr_installations"
      ]
    },
    {
      "cell_type": "markdown",
      "metadata": {
        "id": "V-s6dYEZqvlt"
      },
      "source": [
        "## NGDAC Glider Days\n",
        "\n",
        "From https://gliders.ioos.us/erddap/info/index.html?page=1&itemsPerPage=1000\n",
        "\n",
        "Cumulative from 2008 - present\n",
        "\n"
      ]
    },
    {
      "cell_type": "code",
      "execution_count": 7,
      "metadata": {
        "id": "4YBCBGGKTGG3",
        "outputId": "a6b5e6b9-7433-4e60-aeec-84ac0f767e78",
        "colab": {
          "base_uri": "https://localhost:8080/"
        }
      },
      "outputs": [
        {
          "output_type": "stream",
          "name": "stdout",
          "text": [
            "Cumulative glider days: 77053\n"
          ]
        }
      ],
      "source": [
        "df_glider = pd.read_csv('https://gliders.ioos.us/erddap/tabledap/allDatasets.csvp?minTime%2CmaxTime')\n",
        "df_glider.dropna(\n",
        "    axis=0, \n",
        "    inplace=True,\n",
        "    )\n",
        "\n",
        "df_glider[['minTime (UTC)','maxTime (UTC)']] = df_glider[\n",
        "                                                         ['minTime (UTC)','maxTime (UTC)']\n",
        "                                                         ].apply(pd.to_datetime)\n",
        "\n",
        "df_glider['glider_days'] = (df_glider['maxTime (UTC)'] - df_glider['minTime (UTC)']).dt.days\n",
        "\n",
        "glider_days = df_glider['glider_days'].sum()\n",
        "\n",
        "print('Cumulative glider days:', glider_days)\n",
        "\n",
        "ioos_btn_df.loc[ioos_btn_df['date_UTC']==today, ['NGDAC Glider Days']] = glider_days"
      ]
    },
    {
      "cell_type": "code",
      "execution_count": 8,
      "metadata": {
        "id": "fC0q963WEGKu"
      },
      "outputs": [],
      "source": [
        "# start_date = '2021-10-01'\n",
        "# end_date = '2021-12-31'\n",
        "\n",
        "# # find glider deployments between 10/01 and 12/31\n",
        "# glider_day_within = df_glider.loc[\n",
        "#     (df_glider['minTime (UTC)'] > pd.to_datetime(start_date,utc=True)) &\n",
        "#     (df_glider['maxTime (UTC)'] < pd.to_datetime(end_date,utc=True))\n",
        "# ]\n",
        "\n",
        "# # gliders that start before 10/01 and end after 12/31\n",
        "# glider_day_outside = df_glider.loc[\n",
        "#     (df_glider['minTime (UTC)'] < pd.to_datetime(start_date,utc=True)) &\n",
        "#     (df_glider['maxTime (UTC)'] > pd.to_datetime(end_date,utc=True))\n",
        "# ]\n",
        "\n",
        "# glider_day_outside.loc[:, 'maxTime (UTC)'] = pd.to_datetime(end_date, utc=True)\n",
        "# glider_day_outside.loc[:, 'minTime (UTC)'] = pd.to_datetime(start_date, utc=True)\n",
        "\n",
        "# # drop the ones from above as they will be duplicates in the next round of filtering\n",
        "# df_glider.drop(axis=0, index=glider_day_outside.index, inplace=True)\n",
        "\n",
        "# # Find gliders that start before 10/01 and end after 10/01\n",
        "# glider_day_lower = df_glider.loc[\n",
        "#     (df_glider['minTime (UTC)'] < pd.to_datetime(start_date,utc=True)) &\n",
        "#     (df_glider['maxTime (UTC)'] > pd.to_datetime(start_date,utc=True))\n",
        "# ]\n",
        "\n",
        "# glider_day_lower.loc[:,'minTime (UTC)'] = pd.to_datetime(start_date, utc=True)\n",
        "\n",
        "# # Find gliders that start before 12/31 and end after 12/31.\n",
        "# glider_day_upper = df_glider.loc[\n",
        "#     (df_glider['minTime (UTC)']<pd.to_datetime(end_date,utc=True)) &\n",
        "#     (df_glider['maxTime (UTC)']>pd.to_datetime(end_date,utc=True))\n",
        "# ]\n",
        "\n",
        "# glider_day_upper.loc[:,'maxTime (UTC)'] = pd.to_datetime(end_date, utc=True)\n",
        "\n",
        "# # Combine it all together into one DF.\n",
        "# glider_subset = pd.concat([glider_day_lower, \n",
        "#                            glider_day_within, \n",
        "#                            glider_day_upper, \n",
        "#                            glider_day_outside], \n",
        "#                           verify_integrity=True)\n",
        "\n",
        "# # Calculate the days between min time and max time.\n",
        "# glider_subset['glider_days'] = (glider_subset['maxTime (UTC)'] - glider_subset['minTime (UTC)']).dt.days\n",
        "\n",
        "# # Calculate total glider days.\n",
        "# glider_subset['glider_days'].sum()\n",
        "\n",
        "# print(\"Glider days between %s and %s: %s\" % (start_date,end_date,glider_subset['glider_days'].sum()))"
      ]
    },
    {
      "cell_type": "markdown",
      "metadata": {
        "id": "iYk1km3P861f"
      },
      "source": [
        "# National Platforms"
      ]
    },
    {
      "cell_type": "markdown",
      "metadata": {
        "id": "xGHalY-14iGB"
      },
      "source": [
        "### CO-OPS\n",
        "* https://opendap.co-ops.nos.noaa.gov/stations/index.jsp\n",
        "  * as xml: https://opendap.co-ops.nos.noaa.gov/stations/stationsXML.jsp\n",
        "* https://tidesandcurrents.noaa.gov/cdata/StationList?type=Current+Data&filter=active"
      ]
    },
    {
      "cell_type": "code",
      "execution_count": 9,
      "metadata": {
        "colab": {
          "base_uri": "https://localhost:8080/"
        },
        "id": "wZKANnz8sC5D",
        "outputId": "fa09a67c-24a2-46a8-c175-7a049d46a82d"
      },
      "outputs": [
        {
          "output_type": "stream",
          "name": "stdout",
          "text": [
            "All stations: 380\n",
            "Ports: 66\n"
          ]
        }
      ],
      "source": [
        "#from lxml import etree\n",
        "import requests\n",
        "\n",
        "xml = requests.get('https://opendap.co-ops.nos.noaa.gov/stations/stationsXML.jsp').text\n",
        "import re\n",
        "COOPS = sum(1 for _ in re.finditer(r'\\b%s\\b' % re.escape(\"station name\"), xml))\n",
        "print(\"All stations:\",COOPS)\n",
        "\n",
        "url = 'https://tidesandcurrents.noaa.gov/cdata/StationListFormat?type=Current+Data&filter=active&format=csv'\n",
        "\n",
        "df_coops = pd.read_csv(url)\n",
        "#print(df_coops[' Project'].unique())\n",
        "ports = df_coops[df_coops[' Project'].astype(str).str.contains('PORTS')].shape[0]\n",
        "print(\"Ports:\", ports)"
      ]
    },
    {
      "cell_type": "markdown",
      "metadata": {
        "id": "TmDAxLm24q7g"
      },
      "source": [
        "### NDBC\n",
        "https://www.ndbc.noaa.gov/wstat.shtml\tBuoys: 106 (103 base-funded); CMAN: 45"
      ]
    },
    {
      "cell_type": "code",
      "execution_count": 10,
      "metadata": {
        "colab": {
          "base_uri": "https://localhost:8080/"
        },
        "id": "OWcvMhvR4xWt",
        "outputId": "35d3c9b4-7a16-46b8-ba64-380649af8080"
      },
      "outputs": [
        {
          "output_type": "stream",
          "name": "stdout",
          "text": [
            "NDBC: 149\n"
          ]
        }
      ],
      "source": [
        "import requests\n",
        "from bs4 import BeautifulSoup\n",
        "import re\n",
        "import pprint\n",
        "\n",
        "url = 'https://www.ndbc.noaa.gov/wstat.shtml'\n",
        "\n",
        "html = requests.get(url).text\n",
        "\n",
        "soup = BeautifulSoup(html, 'html.parser')\n",
        "\n",
        "string_to_find = ['Total Base Funded Buoys:','Total Other Buoys:',\n",
        "                  'Total Moored Buoys:','Total Base Funded Stations:',\n",
        "                  'Total Stations:']\n",
        "\n",
        "ndbc = dict()\n",
        "for string in string_to_find:\n",
        "    for tag in soup.find_all(\"td\", string=string):\n",
        "        ndbc[string] = int(tag.next_sibling.string)\n",
        "\n",
        "#pprint.pprint(ndbc)\n",
        "\n",
        "NDBC = ndbc['Total Moored Buoys:'] + ndbc['Total Base Funded Stations:']\n",
        "print('NDBC:',NDBC)"
      ]
    },
    {
      "cell_type": "markdown",
      "metadata": {
        "id": "PvdJyWvN40Wk"
      },
      "source": [
        "### NERRS\n",
        "https://nosc.noaa.gov/OSC/OSN/index.php\tNERRS SWMP; Across 29 NERRS; Source = internal access only - NOAA Observing System Council.\n",
        "\n",
        "http://cdmo.baruch.sc.edu/webservices.cfm <- need IP address approval\n",
        "\n",
        "Need number of stations (120 last time)"
      ]
    },
    {
      "cell_type": "code",
      "execution_count": 11,
      "metadata": {
        "colab": {
          "base_uri": "https://localhost:8080/"
        },
        "id": "vB1MEtDb_Map",
        "outputId": "0fef77e9-bd3b-49a1-dbac-de032fe6fdd1"
      },
      "outputs": [
        {
          "output_type": "stream",
          "name": "stdout",
          "text": [
            "NERRS reserves: 140\n"
          ]
        }
      ],
      "source": [
        "\n",
        "import requests\n",
        "from bs4 import BeautifulSoup\n",
        "import re\n",
        "\n",
        "url = 'https://coast.noaa.gov/nerrs/about/'\n",
        "\n",
        "html = requests.get(url).text\n",
        "\n",
        "soup = BeautifulSoup(html, 'html.parser')\n",
        "\n",
        "string_to_find = ['The National Estuarine Research Reserve System is a network of ']\n",
        "\n",
        "nerrs = dict()\n",
        "for string in string_to_find:\n",
        "  for tag in soup.find_all(\"meta\", attrs={'content': re.compile(string)}, limit=1):\n",
        "    res = [int(i) for i in tag['content'].split() if i.isdigit()] # extract number\n",
        "    #print(tag['content'])\n",
        "    NERRS = int(res[0])\n",
        "    #print('%s = %s' % (string, tag.next_sibling.string))\n",
        "\n",
        "NERRS = 140\n",
        "\n",
        "print(\"NERRS reserves:\",NERRS)\n"
      ]
    },
    {
      "cell_type": "markdown",
      "metadata": {
        "id": "_uH7fBzJ43vL"
      },
      "source": [
        "### CBIBS\n",
        "https://buoybay.noaa.gov/locations\n",
        "\n",
        "[API docs](https://buoybay.noaa.gov/node/174)\n",
        "\n",
        "Base URL: https://mw.buoybay.noaa.gov/api/v1\n",
        "\n",
        "Testing Key: f159959c117f473477edbdf3245cc2a4831ac61f\n",
        "\n",
        "Latest measurements:\n",
        "https://mw.buoybay.noaa.gov/api/v1/json/station?key=f159959c117f473477edbdf3245cc2a4831ac61f"
      ]
    },
    {
      "cell_type": "code",
      "execution_count": 12,
      "metadata": {
        "colab": {
          "base_uri": "https://localhost:8080/"
        },
        "id": "nIIbzvJO49Vb",
        "outputId": "a625a481-eab1-40b9-da74-cad0e3659e1f"
      },
      "outputs": [
        {
          "output_type": "stream",
          "name": "stdout",
          "text": [
            "CBIBS Stations: 10\n"
          ]
        }
      ],
      "source": [
        "import json\n",
        "\n",
        "base_url = 'https://mw.buoybay.noaa.gov/api/v1'\n",
        "apikey = 'f159959c117f473477edbdf3245cc2a4831ac61f'\n",
        "start = '2021-12-08T01:00:00z'\n",
        "end = '2021-12-09T23:59:59z'\n",
        "var = 'Position'\n",
        "\n",
        "query_url = '{}/json/query?key={}&sd={}&ed={}&var={}'.format(base_url,apikey,start,end,var)\n",
        "#query_url = '{}/json/station?key={}'.format(base_url, apikey)\n",
        "\n",
        "json = json.loads(requests.get(query_url).text)\n",
        "\n",
        "CBIBS = len(json['stations'])\n",
        "\n",
        "print(\"CBIBS Stations:\",CBIBS)"
      ]
    },
    {
      "cell_type": "markdown",
      "metadata": {
        "id": "z66nOWtO5KKE"
      },
      "source": [
        "### OAP\n",
        "https://cdip.ucsd.edu/m/stn_table/\tIncludes overlap with the RAs and other programs\n",
        "\n",
        "19\n",
        "\n",
        "See buoys and moorings at https://oceanacidification.noaa.gov/WhatWeDo/Data.aspx\n",
        "\n",
        "pull kml from pmel"
      ]
    },
    {
      "cell_type": "code",
      "execution_count": 13,
      "metadata": {
        "id": "lJnDfvb05PzD"
      },
      "outputs": [],
      "source": [
        "# import geopandas as gpd\n",
        "# import fiona\n",
        "\n",
        "# gpd.io.file.fiona.drvsupport.supported_drivers['KML'] = 'rw'\n",
        "\n",
        "# kml = 'https://www.pmel.noaa.gov/co2/files/basekml.kml'\n",
        "\n",
        "# df = gpd.read_file(kml, driver='KML')\n",
        "\n",
        "# df['Name'].unique().size"
      ]
    },
    {
      "cell_type": "code",
      "execution_count": 14,
      "metadata": {
        "id": "rxgwEEzbEGKx",
        "outputId": "f1c1b2d4-547c-48c2-d74d-8ccf88be8b2c",
        "colab": {
          "base_uri": "https://localhost:8080/"
        }
      },
      "outputs": [
        {
          "output_type": "stream",
          "name": "stdout",
          "text": [
            "OAP Stations: 19\n"
          ]
        }
      ],
      "source": [
        "import requests\n",
        "from bs4 import BeautifulSoup\n",
        "import re\n",
        "\n",
        "url = 'https://oceanacidification.noaa.gov/WhatWeDo/Data.aspx'\n",
        "\n",
        "#url = 'https://www.arcgis.com/apps/Embed/index.html?webmap=9512aae84cae409786339479e31b6c8a&amp;extent=-152.4023,-57.7072,146.7773,74.4006&amp;zoom=true&amp;scale=true&amp;disable_scroll=true&amp;theme=light'\n",
        "\n",
        "html = requests.get(url).text\n",
        "\n",
        "soup = BeautifulSoup(html, 'html.parser')\n",
        "\n",
        "#string_to_find = ['The National Etuarine Research Reserve System is a network of ']\n",
        "#soup.find_all(atts={'id':'mapDiv_gc'})\n",
        "text = soup.find_all(attrs={'id':\"dnn_ctr14711_ContentPane\"})[0].find_all(attrs={'class':'lead'})[0].text #id=\"mapDiv\")\n",
        "\n",
        "res = [int(i) for i in text.split() if i.isdigit()] # extract number\n",
        "    #print(tag['content'])\n",
        "OAP = int(res[0])\n",
        "\n",
        "print(\"OAP Stations:\",OAP)\n",
        "\n",
        "    #res = [int(i) for i in tag['content'].split() if i.isdigit()] # extract number\n",
        "    #print(tag['content'])\n",
        "    #nerrs = res[0]\n",
        "    #print('%s = %s' % (string, tag.next_sibling.string))\n",
        "\n",
        "#print(\"NERRS reserves:\",nerrs)"
      ]
    },
    {
      "cell_type": "markdown",
      "metadata": {
        "id": "wt9iwonW5Now"
      },
      "source": [
        "### CDIP\n",
        "https://cdip.ucsd.edu/m/stn_table/\tIncludes overlap with the RAs\n",
        "\n",
        "67\n",
        "\n",
        "https://cdip.ucsd.edu/themes/?d2=p1:m:mobile&regions=all&units=standard&zoom=auto&pub_set=public&tz=UTC&ll_fmt=dm&numcolorbands=10&palette=cdip_classic&high=6.096"
      ]
    },
    {
      "cell_type": "code",
      "execution_count": 15,
      "metadata": {
        "id": "r7qEAAlV5NWj",
        "outputId": "582e2bed-6170-4e32-f6a1-090c454bc393",
        "colab": {
          "base_uri": "https://localhost:8080/"
        }
      },
      "outputs": [
        {
          "output_type": "stream",
          "name": "stdout",
          "text": [
            "CDIP Stations: 66\n"
          ]
        }
      ],
      "source": [
        "import lxml\n",
        "import pandas as pd\n",
        "\n",
        "url = 'https://cdip.ucsd.edu/themes/?d2=p1:m:mobile&regions=all&units=standard&zoom=auto&pub_set=public&tz=UTC&ll_fmt=dm&numcolorbands=10&palette=cdip_classic&high=6.096'\n",
        "#url = 'https://cdip.ucsd.edu/m/stn_table/'\n",
        "table_list = pd.read_html(url, match='Stn')\n",
        "\n",
        "df = table_list[0]\n",
        "\n",
        "CDIP = df['Stn'].unique().size\n",
        "\n",
        "print(\"CDIP Stations:\",CDIP)"
      ]
    },
    {
      "cell_type": "markdown",
      "source": [
        "## Calculating National Platforms\n",
        "\n",
        "CO-OPS + NDBC + NERRS + CBIBS + OAP + CDIP = 747"
      ],
      "metadata": {
        "id": "ScmxkStTNdf2"
      }
    },
    {
      "cell_type": "code",
      "source": [
        "national_platforms = COOPS + NDBC + NERRS + CBIBS + OAP + CDIP\n",
        "print(\"National Platforms:\",national_platforms)\n",
        "\n",
        "ioos_btn_df.loc[ioos_btn_df['date_UTC']==today, ['National Platforms']] = national_platforms"
      ],
      "metadata": {
        "id": "IpX8NZl9Njwi",
        "outputId": "b63d1728-9189-49f9-97c7-eabf6184136c",
        "colab": {
          "base_uri": "https://localhost:8080/"
        }
      },
      "execution_count": 16,
      "outputs": [
        {
          "output_type": "stream",
          "name": "stdout",
          "text": [
            "National Platforms: 764\n"
          ]
        }
      ]
    },
    {
      "cell_type": "markdown",
      "metadata": {
        "id": "_vmKPAdZ9SBU"
      },
      "source": [
        "# Regional Platforms\n",
        "\n",
        "https://github.com/ioos/ioos-asset-inventory/tree/main/2020\n",
        "\n",
        "http://erddap.ioos.us/erddap/tabledap/processed_asset_inventory.html"
      ]
    },
    {
      "cell_type": "code",
      "execution_count": 17,
      "metadata": {
        "id": "WTQ0WgP09Vxc",
        "outputId": "ba967ba1-1ced-42c9-8d11-cd30fc3b7682",
        "colab": {
          "base_uri": "https://localhost:8080/"
        }
      },
      "outputs": [
        {
          "output_type": "stream",
          "name": "stdout",
          "text": [
            "Regional platforms: 517\n"
          ]
        }
      ],
      "source": [
        "url = 'http://erddap.ioos.us/erddap/tabledap/processed_asset_inventory.csvp'\n",
        "\n",
        "df_regional_platforms = pd.read_csv(url)\n",
        "\n",
        "regional_platforms = df_regional_platforms['station_long_name'].unique().size\n",
        "\n",
        "print('Regional platforms:',regional_platforms)\n",
        "\n",
        "ioos_btn_df.loc[ioos_btn_df['date_UTC']==today, ['Regional Platforms']] = regional_platforms"
      ]
    },
    {
      "cell_type": "markdown",
      "metadata": {
        "id": "X5BeiqhIXme-"
      },
      "source": [
        "## ATN Deployments\n",
        "\n",
        "See Deployments at https://portal.atn.ioos.us/#\n",
        "Not sure if there is a way to scrape that page or get those values from somewhere\n",
        "\n",
        "4242"
      ]
    },
    {
      "cell_type": "code",
      "execution_count": 18,
      "metadata": {
        "id": "bQxKAuUXXwRW",
        "outputId": "8b07cf32-8cf8-4660-b509-32855a6e630f",
        "colab": {
          "base_uri": "https://localhost:8080/"
        }
      },
      "outputs": [
        {
          "output_type": "stream",
          "name": "stdout",
          "text": [
            "ATN Deployments: 4242\n"
          ]
        }
      ],
      "source": [
        "# from bs4 import BeautifulSoup\n",
        "# import requests\n",
        "\n",
        "# headers = {'Accept-Encoding': 'identity'}\n",
        "\n",
        "# soup = BeautifulSoup(requests.get('https://portal.atn.ioos.us', headers=headers).text, 'html.parser')\n",
        "\n",
        "# print(soup.prettify())\n",
        "\n",
        "atn_deployments = 4242\n",
        "\n",
        "print(\"ATN Deployments:\",atn_deployments)\n",
        "\n",
        "ioos_btn_df.loc[ioos_btn_df['date_UTC']==today, ['ATN Deployments']] = atn_deployments"
      ]
    },
    {
      "cell_type": "markdown",
      "metadata": {
        "id": "IaoMWowM3cw6"
      },
      "source": [
        "## MBON Projects\n",
        "https://marinebon.org/\n",
        "\n",
        "https://github.com/marinebon/www_marinebon2/tree/master/content/project\n",
        "\n",
        "currently funded projects\n",
        "6"
      ]
    },
    {
      "cell_type": "code",
      "execution_count": 19,
      "metadata": {
        "id": "AZrPHc0T3k2i",
        "outputId": "6ebb0e40-15dc-4ab2-b304-57954722341a",
        "colab": {
          "base_uri": "https://localhost:8080/"
        }
      },
      "outputs": [
        {
          "output_type": "stream",
          "name": "stdout",
          "text": [
            "MBON Projects: 6\n"
          ]
        }
      ],
      "source": [
        "mbon_projects = 6\n",
        "\n",
        "print(\"MBON Projects:\",mbon_projects)\n",
        "\n",
        "ioos_btn_df.loc[ioos_btn_df['date_UTC']==today, ['MBON Projects']] = mbon_projects"
      ]
    },
    {
      "cell_type": "markdown",
      "metadata": {
        "id": "DxsnHFRJEGKz"
      },
      "source": [
        "## OTT Projects\n",
        "\n",
        "https://ioos.noaa.gov/project/ocean-technology-transition/ 8 live"
      ]
    },
    {
      "cell_type": "code",
      "execution_count": 20,
      "metadata": {
        "id": "FqxRZ0ZnEGKz"
      },
      "outputs": [],
      "source": [
        "ioos_btn_df.loc[ioos_btn_df['date_UTC']==today, ['OTT Projects']] = 8"
      ]
    },
    {
      "cell_type": "markdown",
      "metadata": {
        "id": "wwXNR2m2EGKz"
      },
      "source": [
        "## HAB Pilot Projects\n",
        "\n",
        "https://cdn.ioos.noaa.gov/media/2021/10/NHABON-Funding-Awards-FY21_v2.pdf\n",
        "8 total"
      ]
    },
    {
      "cell_type": "code",
      "execution_count": 21,
      "metadata": {
        "id": "0QvdLybSEGKz"
      },
      "outputs": [],
      "source": [
        "ioos_btn_df.loc[ioos_btn_df['date_UTC']==today, ['HAB Pilot Projects']] = 8"
      ]
    },
    {
      "cell_type": "markdown",
      "metadata": {
        "id": "915oRsuKEGK0"
      },
      "source": [
        "## QARTOD Manuals\n",
        "\n",
        "https://ioos.noaa.gov/project/qartod/ 14?"
      ]
    },
    {
      "cell_type": "code",
      "execution_count": 22,
      "metadata": {
        "id": "7NabPJxcEGK0"
      },
      "outputs": [],
      "source": [
        "ioos_btn_df.loc[ioos_btn_df['date_UTC']==today, ['QARTOD Manuals']] = 14"
      ]
    },
    {
      "cell_type": "markdown",
      "metadata": {
        "id": "vZ2zMhziEGK0"
      },
      "source": [
        "## IOOS Core Variables\n",
        "\n",
        "https://www.iooc.us/task-teams/core-ioos-variables/\n",
        "\n",
        "34"
      ]
    },
    {
      "cell_type": "code",
      "execution_count": 23,
      "metadata": {
        "id": "Tt21PcyhEGK0"
      },
      "outputs": [],
      "source": [
        "ioos_btn_df.loc[ioos_btn_df['date_UTC']==today, ['IOOS Core Variables']] = 34"
      ]
    },
    {
      "cell_type": "markdown",
      "metadata": {
        "id": "LjDpDI_nEGK0"
      },
      "source": [
        "## Metadata Records\n",
        "\n",
        "previously 8,600\n",
        "\n",
        "https://data.ioos.us/"
      ]
    },
    {
      "cell_type": "code",
      "source": [
        "try:\n",
        "  import owslib\n",
        "except:\n",
        "  %pip install owslib"
      ],
      "metadata": {
        "id": "ACTlA3rcEeEi",
        "outputId": "9f72a33e-9abe-45d8-b971-95c857d7ce03",
        "colab": {
          "base_uri": "https://localhost:8080/"
        }
      },
      "execution_count": 24,
      "outputs": [
        {
          "output_type": "stream",
          "name": "stdout",
          "text": [
            "Collecting owslib\n",
            "  Downloading OWSLib-0.25.0-py2.py3-none-any.whl (216 kB)\n",
            "\u001b[K     |████████████████████████████████| 216 kB 13.3 MB/s \n",
            "\u001b[?25hCollecting pyproj>=2\n",
            "  Downloading pyproj-3.2.1-cp37-cp37m-manylinux2010_x86_64.whl (6.3 MB)\n",
            "\u001b[K     |████████████████████████████████| 6.3 MB 55.1 MB/s \n",
            "\u001b[?25hRequirement already satisfied: requests>=1.0 in /usr/local/lib/python3.7/dist-packages (from owslib) (2.23.0)\n",
            "Requirement already satisfied: python-dateutil>=1.5 in /usr/local/lib/python3.7/dist-packages (from owslib) (2.8.2)\n",
            "Requirement already satisfied: pyyaml in /usr/local/lib/python3.7/dist-packages (from owslib) (3.13)\n",
            "Requirement already satisfied: pytz in /usr/local/lib/python3.7/dist-packages (from owslib) (2018.9)\n",
            "Requirement already satisfied: certifi in /usr/local/lib/python3.7/dist-packages (from pyproj>=2->owslib) (2021.10.8)\n",
            "Requirement already satisfied: six>=1.5 in /usr/local/lib/python3.7/dist-packages (from python-dateutil>=1.5->owslib) (1.15.0)\n",
            "Requirement already satisfied: urllib3!=1.25.0,!=1.25.1,<1.26,>=1.21.1 in /usr/local/lib/python3.7/dist-packages (from requests>=1.0->owslib) (1.24.3)\n",
            "Requirement already satisfied: idna<3,>=2.5 in /usr/local/lib/python3.7/dist-packages (from requests>=1.0->owslib) (2.10)\n",
            "Requirement already satisfied: chardet<4,>=3.0.2 in /usr/local/lib/python3.7/dist-packages (from requests>=1.0->owslib) (3.0.4)\n",
            "Installing collected packages: pyproj, owslib\n",
            "Successfully installed owslib-0.25.0 pyproj-3.2.1\n"
          ]
        }
      ]
    },
    {
      "cell_type": "code",
      "execution_count": 25,
      "metadata": {
        "id": "lhlZanaAEGK0",
        "outputId": "f4415000-4ee4-423e-e101-21048456ad2b",
        "colab": {
          "base_uri": "https://localhost:8080/"
        }
      },
      "outputs": [
        {
          "output_type": "stream",
          "name": "stdout",
          "text": [
            "Found 8926 records from https://data.ioos.us/csw.\n"
          ]
        }
      ],
      "source": [
        "from owslib.csw import CatalogueServiceWeb\n",
        "\n",
        "endpoint = \"https://data.ioos.us/csw\"\n",
        "\n",
        "csw = CatalogueServiceWeb(endpoint, timeout=60)\n",
        "\n",
        "csw.getdomain('GetRecords.resultType')\n",
        "\n",
        "csw.results\n",
        "\n",
        "csw.getrecords2()\n",
        "\n",
        "records = csw.results['matches']\n",
        "\n",
        "print(\"Found {} records from {}.\".format(records,endpoint))\n",
        "# for key, value in list(csw.records.items()):\n",
        "#     print(u\"[{}]\\n{}\\n\".format(value.title, key))"
      ]
    },
    {
      "cell_type": "code",
      "execution_count": 26,
      "metadata": {
        "id": "mA_qshwwEGK0",
        "outputId": "9f029c87-d257-477a-e982-b59987c8529a",
        "colab": {
          "base_uri": "https://localhost:8080/"
        }
      },
      "outputs": [
        {
          "output_type": "stream",
          "name": "stdout",
          "text": [
            "Found 9023 records from https://data.ioos.us/api/3/action/package_list.\n"
          ]
        }
      ],
      "source": [
        "import pandas as pd\n",
        "\n",
        "url = 'https://data.ioos.us/api/3/action/package_list'\n",
        "\n",
        "mdf = pd.read_json(url)\n",
        "\n",
        "metadata_records = len(mdf.result.unique())\n",
        "\n",
        "print(\"Found {} records from {}.\".format(metadata_records,url))\n",
        "\n",
        "ioos_btn_df.loc[ioos_btn_df['date_UTC']==today, ['Metadata Records']] = metadata_records"
      ]
    },
    {
      "cell_type": "markdown",
      "metadata": {
        "id": "kN5S0DfoEGK1"
      },
      "source": [
        "## IOOS"
      ]
    },
    {
      "cell_type": "code",
      "execution_count": 27,
      "metadata": {
        "id": "cMZESRfTEGK1",
        "outputId": "58f7ccdb-12f9-4b91-995e-2476b579076e",
        "colab": {
          "base_uri": "https://localhost:8080/"
        }
      },
      "outputs": [
        {
          "output_type": "stream",
          "name": "stdout",
          "text": [
            "IOOS: 1\n"
          ]
        }
      ],
      "source": [
        "ioos = 1\n",
        "\n",
        "print(\"IOOS:\",ioos)\n",
        "\n",
        "ioos_btn_df.loc[ioos_btn_df['date_UTC']==today, ['IOOS']] = ioos"
      ]
    },
    {
      "cell_type": "markdown",
      "source": [
        "# Final IOOS by the Numbers table"
      ],
      "metadata": {
        "id": "PpEovbEJQLBF"
      }
    },
    {
      "cell_type": "code",
      "execution_count": 28,
      "metadata": {
        "id": "ZzLlve4OEGK1"
      },
      "outputs": [],
      "source": [
        "ioos_btn_df['date_UTC']=pd.to_datetime(ioos_btn_df['date_UTC'])"
      ]
    },
    {
      "cell_type": "code",
      "source": [
        "ioos_btn_df.set_index('date_UTC')"
      ],
      "metadata": {
        "id": "DZETPXSuQFGg",
        "colab": {
          "base_uri": "https://localhost:8080/",
          "height": 240
        },
        "outputId": "928c21bb-699d-4fba-9a06-182292f88f24"
      },
      "execution_count": 29,
      "outputs": [
        {
          "output_type": "execute_result",
          "data": {
            "text/plain": [
              "            Federal Partners  Regional Associations  HF Radar Stations  \\\n",
              "date_UTC                                                                 \n",
              "2018-02-01              17.0                   11.0              150.0   \n",
              "2022-03-28              17.0                   11.0              181.0   \n",
              "\n",
              "            NGDAC Glider Days  National Platforms  Regional Platforms  \\\n",
              "date_UTC                                                                \n",
              "2018-02-01            52027.0               737.0               335.0   \n",
              "2022-03-28            77053.0               764.0               517.0   \n",
              "\n",
              "            ATN Deployments  MBON Projects  OTT Projects  HAB Pilot Projects  \\\n",
              "date_UTC                                                                       \n",
              "2018-02-01              NaN            NaN           NaN                 NaN   \n",
              "2022-03-28           4242.0            6.0           8.0                 8.0   \n",
              "\n",
              "            QARTOD Manuals  IOOS Core Variables  Metadata Records  IOOS  \\\n",
              "date_UTC                                                                  \n",
              "2018-02-01            13.0                 34.0            8600.0   1.0   \n",
              "2022-03-28            14.0                 34.0            9023.0   1.0   \n",
              "\n",
              "            COMT Projects  \n",
              "date_UTC                   \n",
              "2018-02-01            NaN  \n",
              "2022-03-28            5.0  "
            ],
            "text/html": [
              "\n",
              "  <div id=\"df-6cb6e116-8628-4c08-97d9-88e0c7878a0f\">\n",
              "    <div class=\"colab-df-container\">\n",
              "      <div>\n",
              "<style scoped>\n",
              "    .dataframe tbody tr th:only-of-type {\n",
              "        vertical-align: middle;\n",
              "    }\n",
              "\n",
              "    .dataframe tbody tr th {\n",
              "        vertical-align: top;\n",
              "    }\n",
              "\n",
              "    .dataframe thead th {\n",
              "        text-align: right;\n",
              "    }\n",
              "</style>\n",
              "<table border=\"1\" class=\"dataframe\">\n",
              "  <thead>\n",
              "    <tr style=\"text-align: right;\">\n",
              "      <th></th>\n",
              "      <th>Federal Partners</th>\n",
              "      <th>Regional Associations</th>\n",
              "      <th>HF Radar Stations</th>\n",
              "      <th>NGDAC Glider Days</th>\n",
              "      <th>National Platforms</th>\n",
              "      <th>Regional Platforms</th>\n",
              "      <th>ATN Deployments</th>\n",
              "      <th>MBON Projects</th>\n",
              "      <th>OTT Projects</th>\n",
              "      <th>HAB Pilot Projects</th>\n",
              "      <th>QARTOD Manuals</th>\n",
              "      <th>IOOS Core Variables</th>\n",
              "      <th>Metadata Records</th>\n",
              "      <th>IOOS</th>\n",
              "      <th>COMT Projects</th>\n",
              "    </tr>\n",
              "    <tr>\n",
              "      <th>date_UTC</th>\n",
              "      <th></th>\n",
              "      <th></th>\n",
              "      <th></th>\n",
              "      <th></th>\n",
              "      <th></th>\n",
              "      <th></th>\n",
              "      <th></th>\n",
              "      <th></th>\n",
              "      <th></th>\n",
              "      <th></th>\n",
              "      <th></th>\n",
              "      <th></th>\n",
              "      <th></th>\n",
              "      <th></th>\n",
              "      <th></th>\n",
              "    </tr>\n",
              "  </thead>\n",
              "  <tbody>\n",
              "    <tr>\n",
              "      <th>2018-02-01</th>\n",
              "      <td>17.0</td>\n",
              "      <td>11.0</td>\n",
              "      <td>150.0</td>\n",
              "      <td>52027.0</td>\n",
              "      <td>737.0</td>\n",
              "      <td>335.0</td>\n",
              "      <td>NaN</td>\n",
              "      <td>NaN</td>\n",
              "      <td>NaN</td>\n",
              "      <td>NaN</td>\n",
              "      <td>13.0</td>\n",
              "      <td>34.0</td>\n",
              "      <td>8600.0</td>\n",
              "      <td>1.0</td>\n",
              "      <td>NaN</td>\n",
              "    </tr>\n",
              "    <tr>\n",
              "      <th>2022-03-28</th>\n",
              "      <td>17.0</td>\n",
              "      <td>11.0</td>\n",
              "      <td>181.0</td>\n",
              "      <td>77053.0</td>\n",
              "      <td>764.0</td>\n",
              "      <td>517.0</td>\n",
              "      <td>4242.0</td>\n",
              "      <td>6.0</td>\n",
              "      <td>8.0</td>\n",
              "      <td>8.0</td>\n",
              "      <td>14.0</td>\n",
              "      <td>34.0</td>\n",
              "      <td>9023.0</td>\n",
              "      <td>1.0</td>\n",
              "      <td>5.0</td>\n",
              "    </tr>\n",
              "  </tbody>\n",
              "</table>\n",
              "</div>\n",
              "      <button class=\"colab-df-convert\" onclick=\"convertToInteractive('df-6cb6e116-8628-4c08-97d9-88e0c7878a0f')\"\n",
              "              title=\"Convert this dataframe to an interactive table.\"\n",
              "              style=\"display:none;\">\n",
              "        \n",
              "  <svg xmlns=\"http://www.w3.org/2000/svg\" height=\"24px\"viewBox=\"0 0 24 24\"\n",
              "       width=\"24px\">\n",
              "    <path d=\"M0 0h24v24H0V0z\" fill=\"none\"/>\n",
              "    <path d=\"M18.56 5.44l.94 2.06.94-2.06 2.06-.94-2.06-.94-.94-2.06-.94 2.06-2.06.94zm-11 1L8.5 8.5l.94-2.06 2.06-.94-2.06-.94L8.5 2.5l-.94 2.06-2.06.94zm10 10l.94 2.06.94-2.06 2.06-.94-2.06-.94-.94-2.06-.94 2.06-2.06.94z\"/><path d=\"M17.41 7.96l-1.37-1.37c-.4-.4-.92-.59-1.43-.59-.52 0-1.04.2-1.43.59L10.3 9.45l-7.72 7.72c-.78.78-.78 2.05 0 2.83L4 21.41c.39.39.9.59 1.41.59.51 0 1.02-.2 1.41-.59l7.78-7.78 2.81-2.81c.8-.78.8-2.07 0-2.86zM5.41 20L4 18.59l7.72-7.72 1.47 1.35L5.41 20z\"/>\n",
              "  </svg>\n",
              "      </button>\n",
              "      \n",
              "  <style>\n",
              "    .colab-df-container {\n",
              "      display:flex;\n",
              "      flex-wrap:wrap;\n",
              "      gap: 12px;\n",
              "    }\n",
              "\n",
              "    .colab-df-convert {\n",
              "      background-color: #E8F0FE;\n",
              "      border: none;\n",
              "      border-radius: 50%;\n",
              "      cursor: pointer;\n",
              "      display: none;\n",
              "      fill: #1967D2;\n",
              "      height: 32px;\n",
              "      padding: 0 0 0 0;\n",
              "      width: 32px;\n",
              "    }\n",
              "\n",
              "    .colab-df-convert:hover {\n",
              "      background-color: #E2EBFA;\n",
              "      box-shadow: 0px 1px 2px rgba(60, 64, 67, 0.3), 0px 1px 3px 1px rgba(60, 64, 67, 0.15);\n",
              "      fill: #174EA6;\n",
              "    }\n",
              "\n",
              "    [theme=dark] .colab-df-convert {\n",
              "      background-color: #3B4455;\n",
              "      fill: #D2E3FC;\n",
              "    }\n",
              "\n",
              "    [theme=dark] .colab-df-convert:hover {\n",
              "      background-color: #434B5C;\n",
              "      box-shadow: 0px 1px 3px 1px rgba(0, 0, 0, 0.15);\n",
              "      filter: drop-shadow(0px 1px 2px rgba(0, 0, 0, 0.3));\n",
              "      fill: #FFFFFF;\n",
              "    }\n",
              "  </style>\n",
              "\n",
              "      <script>\n",
              "        const buttonEl =\n",
              "          document.querySelector('#df-6cb6e116-8628-4c08-97d9-88e0c7878a0f button.colab-df-convert');\n",
              "        buttonEl.style.display =\n",
              "          google.colab.kernel.accessAllowed ? 'block' : 'none';\n",
              "\n",
              "        async function convertToInteractive(key) {\n",
              "          const element = document.querySelector('#df-6cb6e116-8628-4c08-97d9-88e0c7878a0f');\n",
              "          const dataTable =\n",
              "            await google.colab.kernel.invokeFunction('convertToInteractive',\n",
              "                                                     [key], {});\n",
              "          if (!dataTable) return;\n",
              "\n",
              "          const docLinkHtml = 'Like what you see? Visit the ' +\n",
              "            '<a target=\"_blank\" href=https://colab.research.google.com/notebooks/data_table.ipynb>data table notebook</a>'\n",
              "            + ' to learn more about interactive tables.';\n",
              "          element.innerHTML = '';\n",
              "          dataTable['output_type'] = 'display_data';\n",
              "          await google.colab.output.renderOutput(dataTable, element);\n",
              "          const docLink = document.createElement('div');\n",
              "          docLink.innerHTML = docLinkHtml;\n",
              "          element.appendChild(docLink);\n",
              "        }\n",
              "      </script>\n",
              "    </div>\n",
              "  </div>\n",
              "  "
            ]
          },
          "metadata": {},
          "execution_count": 29
        }
      ]
    },
    {
      "cell_type": "code",
      "source": [
        ""
      ],
      "metadata": {
        "id": "Kkip7muU2R2u"
      },
      "execution_count": 29,
      "outputs": []
    },
    {
      "cell_type": "code",
      "source": [
        "ioos_btn_df.iterrows"
      ],
      "metadata": {
        "id": "W1IIUkii5LoH",
        "outputId": "0d38051b-0d32-49b8-b0ad-5f8527baff7e",
        "colab": {
          "base_uri": "https://localhost:8080/"
        }
      },
      "execution_count": 30,
      "outputs": [
        {
          "output_type": "execute_result",
          "data": {
            "text/plain": [
              "<bound method DataFrame.iterrows of     date_UTC  Federal Partners  Regional Associations  HF Radar Stations  \\\n",
              "0 2018-02-01              17.0                   11.0              150.0   \n",
              "1 2022-03-28              17.0                   11.0              181.0   \n",
              "\n",
              "   NGDAC Glider Days  National Platforms  Regional Platforms  ATN Deployments  \\\n",
              "0            52027.0               737.0               335.0              NaN   \n",
              "1            77053.0               764.0               517.0           4242.0   \n",
              "\n",
              "   MBON Projects  OTT Projects  HAB Pilot Projects  QARTOD Manuals  \\\n",
              "0            NaN           NaN                 NaN            13.0   \n",
              "1            6.0           8.0                 8.0            14.0   \n",
              "\n",
              "   IOOS Core Variables  Metadata Records  IOOS  COMT Projects  \n",
              "0                 34.0            8600.0   1.0            NaN  \n",
              "1                 34.0            9023.0   1.0            5.0  >"
            ]
          },
          "metadata": {},
          "execution_count": 30
        }
      ]
    },
    {
      "cell_type": "code",
      "source": [
        "import matplotlib.pyplot as plt\n",
        "import numpy as np\n",
        "\n",
        "\n",
        "labels = ioos_btn_df.drop(columns=['date_UTC']).columns.tolist()\n",
        "\n",
        "x = np.arange(len(labels))  # the label locations\n",
        "width = 0.35  # the width of the bars\n",
        "\n",
        "fig, ax = plt.subplots()\n",
        "\n",
        "for index, row in ioos_btn_df.iterrows():\n",
        "  men_means = row.drop(index=['date_UTC']).values\n",
        "  rects = ax.bar(x - width/2, men_means, width, label=row['date_UTC'].strftime('%Y-%m-%d'))\n",
        "  width = width*-1\n",
        "\n",
        "# Add some text for labels, title and custom x-axis tick labels, etc.\n",
        "ax.set_ylabel('Count')\n",
        "ax.set_title('Metric by year and type')\n",
        "ax.set_xticks(x, labels)\n",
        "ax.legend()\n",
        "\n",
        "ax.xaxis.set_ticklabels(labels, rotation=90)\n",
        "\n",
        "fig.tight_layout()\n",
        "\n",
        "plt.show()"
      ],
      "metadata": {
        "id": "FmUaiMUl2pJ2",
        "outputId": "59859d85-b8a9-4575-d0a3-a466d06e41e6",
        "colab": {
          "base_uri": "https://localhost:8080/",
          "height": 334
        }
      },
      "execution_count": 31,
      "outputs": [
        {
          "output_type": "stream",
          "name": "stderr",
          "text": [
            "/usr/local/lib/python3.7/dist-packages/ipykernel_launcher.py:20: MatplotlibDeprecationWarning: Passing the minor parameter of set_xticks() positionally is deprecated since Matplotlib 3.2; the parameter will become keyword-only two minor releases later.\n"
          ]
        },
        {
          "output_type": "display_data",
          "data": {
            "text/plain": [
              "<Figure size 432x288 with 1 Axes>"
            ],
            "image/png": "[encoded data removed]"
          },
          "metadata": {
            "needs_background": "light"
          }
        }
      ]
    },
    {
      "cell_type": "code",
      "source": [
        ""
      ],
      "metadata": {
        "id": "5FkUAY3tMrs3"
      },
      "execution_count": 31,
      "outputs": []
    }
  ],
  "metadata": {
    "colab": {
      "collapsed_sections": [],
      "name": "IOOS_BTN.ipynb",
      "provenance": [],
      "include_colab_link": true
    },
    "kernelspec": {
      "display_name": "Python 3 (ipykernel)",
      "language": "python",
      "name": "python3"
    },
    "language_info": {
      "codemirror_mode": {
        "name": "ipython",
        "version": 3
      },
      "file_extension": ".py",
      "mimetype": "text/x-python",
      "name": "python",
      "nbconvert_exporter": "python",
      "pygments_lexer": "ipython3",
      "version": "3.9.7"
    }
  },
  "nbformat": 4,
  "nbformat_minor": 0
}