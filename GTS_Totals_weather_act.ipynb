{
  "cells": [
    {
      "cell_type": "markdown",
      "metadata": {
        "id": "view-in-github",
        "colab_type": "text"
      },
      "source": [
        "<a href=\"https://colab.research.google.com/github/MathewBiddle/ioos_by_the_numbers/blob/main/GTS_Totals_weather_act.ipynb\" target=\"_parent\"><img src=\"https://colab.research.google.com/assets/colab-badge.svg\" alt=\"Open In Colab\"/></a>"
      ]
    },
    {
      "cell_type": "markdown",
      "metadata": {
        "id": "Po0C-dJCrtWM"
      },
      "source": [
        "# IOOS GTS Statistics\n",
        "\n",
        "Created: 2020-10-10\n",
        "\n",
        "Updated: 2022-07-26\n",
        "\n",
        "The Global Telecommunication System (GTS) is a coordinated effort for rapid distribution of observations.\n",
        "The GTS monthly reports show the number of messages released to GTS for each station.\n",
        "The reports contain the following fields:\n",
        "\n",
        "- location ID: Identifier that station messages are released under to the GTS;\n",
        "- region: Designated IOOS Regional Association (only for IOOS regional report);\n",
        "- sponsor: Organization that owns and maintains the station;\n",
        "- Met: Total number of met messages released to the GTS\n",
        "- Wave: Total number of wave messages released to the GTS\n",
        "\n",
        "In this notebook we will explore the statistics of the messages IOOS is releasing to GTS.\n",
        "\n",
        "## Using this notebook\n",
        "\n",
        "1. Pick the appropriate date range of interest.\n",
        "1. Edit the variables `start_date` and `end_date` in the cell below to reflect your time period of interest (use `YYYY-MM-DD` format).\n",
        "1. Run all the cells in the notebook.\n",
        "\n",
        "The first step is to pick the appropriate date range of interest."
      ]
    },
    {
      "cell_type": "code",
      "execution_count": 189,
      "metadata": {
        "id": "em-Mxt5MrtWS"
      },
      "outputs": [],
      "source": [
        "start_date = \"2018-01-01\"\n",
        "end_date = \"2018-12-31\""
      ]
    },
    {
      "cell_type": "markdown",
      "metadata": {
        "id": "wgtBvHNmrtWU"
      },
      "source": [
        "Now we download the data. We will use the NDBC ioosstats server that [hosts the CSV files](https://www.ndbc.noaa.gov/ioosstats/) with the ingest data."
      ]
    },
    {
      "cell_type": "code",
      "execution_count": 190,
      "metadata": {
        "id": "kJjt1UkZrtWV",
        "outputId": "bcec72a8-859f-407d-bc42-d1c32870eb28",
        "colab": {
          "base_uri": "https://localhost:8080/"
        }
      },
      "outputs": [
        {
          "output_type": "stream",
          "name": "stdout",
          "text": [
            "                met         wave\n",
            "count   2019.000000  2019.000000\n",
            "mean    5076.863794   785.858346\n",
            "std     5784.340214  1781.674655\n",
            "min        0.000000     0.000000\n",
            "25%        0.000000     0.000000\n",
            "50%     2492.000000     0.000000\n",
            "75%     8725.000000    72.000000\n",
            "max    72852.000000  8866.000000\n",
            "               met         wave\n",
            "count  1769.000000  1769.000000\n",
            "mean   3150.257773   838.563030\n",
            "std    3198.312190   729.387125\n",
            "min       0.000000     0.000000\n",
            "25%    1424.000000     0.000000\n",
            "50%    1480.000000  1330.000000\n",
            "75%    5748.000000  1470.000000\n",
            "max    8928.000000  2974.000000\n",
            "               met         wave\n",
            "count  1769.000000  1769.000000\n",
            "mean   3150.257773   838.563030\n",
            "std    3198.312190   729.387125\n",
            "min       0.000000     0.000000\n",
            "25%    1424.000000     0.000000\n",
            "50%    1480.000000  1330.000000\n",
            "75%    5748.000000  1470.000000\n",
            "max    8928.000000  2974.000000\n",
            "                met        wave\n",
            "count   9900.000000  9900.00000\n",
            "mean    6653.271313   540.41899\n",
            "std     6118.236060  1266.33819\n",
            "min        0.000000     0.00000\n",
            "25%        0.000000     0.00000\n",
            "50%     5928.000000     0.00000\n",
            "75%    13986.000000     0.00000\n",
            "max    72852.000000  8866.00000\n"
          ]
        }
      ],
      "source": [
        "import datetime as dt\n",
        "\n",
        "import pandas as pd\n",
        "\n",
        "# example https://www.ndbc.noaa.gov/ioosstats/rpts/2021_03_ioos_regional.csv\n",
        "\n",
        "start = dt.datetime.strptime(start_date, \"%Y-%m-%d\")\n",
        "end = dt.datetime.strptime(end_date, \"%Y-%m-%d\")\n",
        "\n",
        "# build an array for days between dates\n",
        "date_array = (start + dt.timedelta(days=x) for x in range(0, (end - start).days))\n",
        "\n",
        "# get a unique list of year-months for url build\n",
        "months = []\n",
        "for date_object in date_array:\n",
        "    months.append(date_object.strftime(\"%Y-%m\"))\n",
        "months = sorted(set(months))\n",
        "\n",
        "df_ioos = pd.DataFrame(columns=[\"locationID\", \"region\", \"sponsor\", \"met\", \"wave\"])\n",
        "df_ndbc = pd.DataFrame(columns=[\"locationID\", \"sponsor\", \"met\", \"wave\"])\n",
        "df_nonndbc = pd.DataFrame(columns=[\"locationID\", \"sponsor\", \"met\", \"wave\"])\n",
        "df_out = pd.DataFrame(columns=[\"locationID\", \"region\", \"sponsor\", \"met\", \"wave\"])\n",
        "\n",
        "\n",
        "for month in months:\n",
        "    url_ioos = (\n",
        "        \"https://www.ndbc.noaa.gov/ioosstats/rpts/%s_ioos_regional.csv\"\n",
        "        % month.replace(\"-\", \"_\")\n",
        "    )\n",
        "    df1 = pd.read_csv(url_ioos, dtype={\"met\": float, \"wave\": float})\n",
        "    df1[\"time (UTC)\"] = pd.to_datetime(month)\n",
        "    df1['source'] = 'IOOS'\n",
        "    df_ioos = pd.concat([df_ioos, df1])\n",
        "\n",
        "    url_ndbc = (\"https://www.ndbc.noaa.gov/ioosstats/rpts/%s_ndbc.csv\" \n",
        "               % month.replace(\"-\", \"_\")\n",
        "               )\n",
        "    df2 = pd.read_csv(url_ndbc, dtype={\"met\": float, \"wave\": float})\n",
        "    df2[\"time (UTC)\"] = pd.to_datetime(month)\n",
        "    df2['source'] = 'NDBC'\n",
        "    df_ndbc = pd.concat([df_ndbc, df2])\n",
        "\n",
        "    url_nonndbc = (\"https://www.ndbc.noaa.gov/ioosstats/rpts/%s_non_ndbc.csv\" \n",
        "               % month.replace(\"-\", \"_\")\n",
        "               )\n",
        "    df3 = pd.read_csv(url_nonndbc, dtype={\"met\": float, \"wave\": float})\n",
        "    df3[\"time (UTC)\"] = pd.to_datetime(month)\n",
        "    df3['source'] = 'non-NDBC'\n",
        "    df_nonndbc = pd.concat([df_nonndbc, df2])\n",
        "\n",
        "    df_out = pd.concat([df_out, df1, df2, df3])\n",
        "\n",
        "print(df_ioos.describe())\n",
        "\n",
        "print(df_ndbc.describe())\n",
        "\n",
        "print(df_nonndbc.describe())\n",
        "\n",
        "print(df_out.describe())"
      ]
    },
    {
      "cell_type": "markdown",
      "metadata": {
        "id": "5oP7aFrErtWX"
      },
      "source": [
        "Let us check the monthly sum of data released both for individual met and wave and the totals."
      ]
    },
    {
      "cell_type": "code",
      "execution_count": 191,
      "metadata": {
        "id": "keIBv28trtWX"
      },
      "outputs": [],
      "source": [
        "import pandas as pd\n",
        "\n",
        "df_out[\"time (UTC)\"] = pd.to_datetime(df_out[\"time (UTC)\"])\n",
        "\n",
        "# Remove time-zone info for easier plotting, it is all UTC.\n",
        "df_out[\"time (UTC)\"] = df_out[\"time (UTC)\"].dt.tz_localize(None)\n",
        "\n",
        "groups = df_out.groupby(pd.Grouper(key=\"time (UTC)\", freq=\"M\"))"
      ]
    },
    {
      "cell_type": "code",
      "source": [
        "groups.sum().plot(kind='bar')"
      ],
      "metadata": {
        "id": "Vj1RG1XsvrwL",
        "outputId": "ff72d178-7f31-41d6-938b-1dc07d23b1ab",
        "colab": {
          "base_uri": "https://localhost:8080/",
          "height": 672
        }
      },
      "execution_count": 192,
      "outputs": [
        {
          "output_type": "stream",
          "name": "stderr",
          "text": [
            "<ipython-input-192-e64b63e8754f>:1: FutureWarning: The default value of numeric_only in DataFrameGroupBy.sum is deprecated. In a future version, numeric_only will default to False. Either specify numeric_only or select only columns which should be valid for the function.\n",
            "  groups.sum().plot(kind='bar')\n"
          ]
        },
        {
          "output_type": "execute_result",
          "data": {
            "text/plain": [
              "<Axes: xlabel='time (UTC)'>"
            ]
          },
          "metadata": {},
          "execution_count": 192
        },
        {
          "output_type": "display_data",
          "data": {
            "text/plain": [
              "<Figure size 640x480 with 1 Axes>"
            ],
            "image/png": "[encoded data removed]"
          },
          "metadata": {}
        }
      ]
    },
    {
      "cell_type": "markdown",
      "metadata": {
        "id": "9_iEHmiTrtWY"
      },
      "source": [
        "We can create a table of observations per month,"
      ]
    },
    {
      "cell_type": "code",
      "execution_count": 193,
      "metadata": {
        "id": "JxcIjc05rtWY",
        "outputId": "e8eb6233-8c69-40b3-a23c-93e1d88dc62c",
        "colab": {
          "base_uri": "https://localhost:8080/"
        }
      },
      "outputs": [
        {
          "output_type": "stream",
          "name": "stdout",
          "text": [
            "Monthly totals:\n",
            "                  met      wave      total\n",
            "time (UTC)                                \n",
            "2018-01     5416106.0  368948.0  5785054.0\n",
            "2018-02     4906308.0  337780.0  5244088.0\n",
            "2018-03     5454492.0  382206.0  5836698.0\n",
            "2018-04     5388108.0  379066.0  5767174.0\n",
            "2018-05     5696122.0  490110.0  6186232.0\n",
            "2018-06     5585102.0  530452.0  6115554.0\n",
            "2018-07     5821320.0  563128.0  6384448.0\n",
            "2018-08     5797116.0  558352.0  6355468.0\n",
            "2018-09     5636020.0  544408.0  6180428.0\n",
            "2018-10     5872930.0  498252.0  6371182.0\n",
            "2018-11     5580144.0  387384.0  5967528.0\n",
            "2018-12     4713618.0  310062.0  5023680.0\n",
            "\n",
            "Sum for time period 2018-01 to 2018-12: 71217534.0\n"
          ]
        }
      ],
      "source": [
        "s = groups[\n",
        "    [ \"met\", \"wave\"]\n",
        "].sum()  # reducing the columns so the summary is digestable\n",
        "totals = s.assign(total=s[\"met\"] + s[\"wave\"])\n",
        "totals.index = totals.index.to_period(\"M\")\n",
        "\n",
        "print(f\"Monthly totals:\\n{totals}\\n\")\n",
        "\n",
        "print(\n",
        "    f\"Sum for time period {totals.index.min()} to {totals.index.max()}: {totals['total'].sum()}\"\n",
        ")"
      ]
    },
    {
      "cell_type": "markdown",
      "metadata": {
        "id": "mkEpqlRLrtWZ"
      },
      "source": [
        "and visualize it in a bar plot."
      ]
    },
    {
      "cell_type": "code",
      "execution_count": 194,
      "metadata": {
        "id": "WEz1GN6zrtWZ",
        "outputId": "f941229e-0c31-4287-b86f-773a77eb66e6",
        "colab": {
          "base_uri": "https://localhost:8080/",
          "height": 424
        }
      },
      "outputs": [
        {
          "output_type": "display_data",
          "data": {
            "text/plain": [
              "<Figure size 1100x375 with 1 Axes>"
            ],
            "image/png": "[encoded data removed]"
          },
          "metadata": {}
        }
      ],
      "source": [
        "import matplotlib.pyplot as plt\n",
        "\n",
        "fig, ax = plt.subplots(figsize=(11, 3.75))\n",
        "\n",
        "totals['total'].plot(ax=ax, kind=\"bar\",stacked=True)\n",
        "ax.set_xticklabels(\n",
        "    labels=s.index.to_series().dt.strftime(\"%Y-%b\"),\n",
        "    rotation=70,\n",
        "    rotation_mode=\"anchor\",\n",
        "    ha=\"right\",\n",
        ")\n",
        "ax.yaxis.get_major_formatter().set_scientific(False)\n",
        "ax.set_ylabel(\"# observations\")\n",
        "ax.grid(axis='y')"
      ]
    },
    {
      "cell_type": "markdown",
      "source": [
        "Group by source, then by month"
      ],
      "metadata": {
        "id": "kdp3jyaFxcbL"
      }
    },
    {
      "cell_type": "code",
      "source": [
        "group = df_out.groupby(by=['source', pd.Grouper(key=\"time (UTC)\", freq=\"M\")])\n",
        "\n",
        "\n",
        "s = group[\n",
        "    [\"met\", \"wave\"]\n",
        "].sum()  # reducing the columns so the summary is digestable\n",
        "\n",
        "totals = s.assign(total=s[\"met\"] + s[\"wave\"])\n",
        "\n",
        "totals.reset_index(['source'], inplace=True)\n",
        "\n",
        "totals.index = totals.index.to_period(\"M\").strftime('%Y-%b')\n",
        "\n",
        "totals\n",
        "# bar_data = totals.reset_index()\n",
        "\n",
        "# bar_data.loc[bar_data['sponsor']=='NATIONAL ESTUARINE RESEARCH RESERVE SYSTEM']"
      ],
      "metadata": {
        "id": "3YcdQVCtxSv4",
        "outputId": "7c07a412-8665-4647-ec9d-9d88d482b6f2",
        "colab": {
          "base_uri": "https://localhost:8080/",
          "height": 1000
        }
      },
      "execution_count": 195,
      "outputs": [
        {
          "output_type": "execute_result",
          "data": {
            "text/plain": [
              "              source        met      wave      total\n",
              "time (UTC)                                          \n",
              "2018-Jan        IOOS   701780.0   63624.0   765404.0\n",
              "2018-Feb        IOOS   676688.0   61886.0   738574.0\n",
              "2018-Mar        IOOS   759916.0   69014.0   828930.0\n",
              "2018-Apr        IOOS   773482.0   75758.0   849240.0\n",
              "2018-May        IOOS   890444.0  155768.0  1046212.0\n",
              "2018-Jun        IOOS   936078.0  199180.0  1135258.0\n",
              "2018-Jul        IOOS   968256.0  219828.0  1188084.0\n",
              "2018-Aug        IOOS  1005594.0  219026.0  1224620.0\n",
              "2018-Sep        IOOS   982458.0  209388.0  1191846.0\n",
              "2018-Oct        IOOS   943064.0  163854.0  1106918.0\n",
              "2018-Nov        IOOS   839958.0   85022.0   924980.0\n",
              "2018-Dec        IOOS   772470.0   64300.0   836770.0\n",
              "2018-Jan        NDBC   411384.0  119406.0   530790.0\n",
              "2018-Feb        NDBC   370334.0  106596.0   476930.0\n",
              "2018-Mar        NDBC   461226.0  123534.0   584760.0\n",
              "2018-Apr        NDBC   461870.0  122252.0   584122.0\n",
              "2018-May        NDBC   506686.0  131240.0   637926.0\n",
              "2018-Jun        NDBC   480946.0  126072.0   607018.0\n",
              "2018-Jul        NDBC   486638.0  128870.0   615508.0\n",
              "2018-Aug        NDBC   503048.0  135858.0   638906.0\n",
              "2018-Sep        NDBC   488906.0  131110.0   620016.0\n",
              "2018-Oct        NDBC   513202.0  134184.0   647386.0\n",
              "2018-Nov        NDBC   490862.0  125246.0   616108.0\n",
              "2018-Dec        NDBC   397704.0   99050.0   496754.0\n",
              "2018-Jan    non-NDBC  4302942.0  185918.0  4488860.0\n",
              "2018-Feb    non-NDBC  3859286.0  169298.0  4028584.0\n",
              "2018-Mar    non-NDBC  4233350.0  189658.0  4423008.0\n",
              "2018-Apr    non-NDBC  4152756.0  181056.0  4333812.0\n",
              "2018-May    non-NDBC  4298992.0  203102.0  4502094.0\n",
              "2018-Jun    non-NDBC  4168078.0  205200.0  4373278.0\n",
              "2018-Jul    non-NDBC  4366426.0  214430.0  4580856.0\n",
              "2018-Aug    non-NDBC  4288474.0  203468.0  4491942.0\n",
              "2018-Sep    non-NDBC  4164656.0  203910.0  4368566.0\n",
              "2018-Oct    non-NDBC  4416664.0  200214.0  4616878.0\n",
              "2018-Nov    non-NDBC  4249324.0  177116.0  4426440.0\n",
              "2018-Dec    non-NDBC  3543444.0  146712.0  3690156.0"
            ],
            "text/html": [
              "\n",
              "  <div id=\"df-716d3a54-24a3-4229-b547-06541612eabe\">\n",
              "    <div class=\"colab-df-container\">\n",
              "      <div>\n",
              "<style scoped>\n",
              "    .dataframe tbody tr th:only-of-type {\n",
              "        vertical-align: middle;\n",
              "    }\n",
              "\n",
              "    .dataframe tbody tr th {\n",
              "        vertical-align: top;\n",
              "    }\n",
              "\n",
              "    .dataframe thead th {\n",
              "        text-align: right;\n",
              "    }\n",
              "</style>\n",
              "<table border=\"1\" class=\"dataframe\">\n",
              "  <thead>\n",
              "    <tr style=\"text-align: right;\">\n",
              "      <th></th>\n",
              "      <th>source</th>\n",
              "      <th>met</th>\n",
              "      <th>wave</th>\n",
              "      <th>total</th>\n",
              "    </tr>\n",
              "    <tr>\n",
              "      <th>time (UTC)</th>\n",
              "      <th></th>\n",
              "      <th></th>\n",
              "      <th></th>\n",
              "      <th></th>\n",
              "    </tr>\n",
              "  </thead>\n",
              "  <tbody>\n",
              "    <tr>\n",
              "      <th>2018-Jan</th>\n",
              "      <td>IOOS</td>\n",
              "      <td>701780.0</td>\n",
              "      <td>63624.0</td>\n",
              "      <td>765404.0</td>\n",
              "    </tr>\n",
              "    <tr>\n",
              "      <th>2018-Feb</th>\n",
              "      <td>IOOS</td>\n",
              "      <td>676688.0</td>\n",
              "      <td>61886.0</td>\n",
              "      <td>738574.0</td>\n",
              "    </tr>\n",
              "    <tr>\n",
              "      <th>2018-Mar</th>\n",
              "      <td>IOOS</td>\n",
              "      <td>759916.0</td>\n",
              "      <td>69014.0</td>\n",
              "      <td>828930.0</td>\n",
              "    </tr>\n",
              "    <tr>\n",
              "      <th>2018-Apr</th>\n",
              "      <td>IOOS</td>\n",
              "      <td>773482.0</td>\n",
              "      <td>75758.0</td>\n",
              "      <td>849240.0</td>\n",
              "    </tr>\n",
              "    <tr>\n",
              "      <th>2018-May</th>\n",
              "      <td>IOOS</td>\n",
              "      <td>890444.0</td>\n",
              "      <td>155768.0</td>\n",
              "      <td>1046212.0</td>\n",
              "    </tr>\n",
              "    <tr>\n",
              "      <th>2018-Jun</th>\n",
              "      <td>IOOS</td>\n",
              "      <td>936078.0</td>\n",
              "      <td>199180.0</td>\n",
              "      <td>1135258.0</td>\n",
              "    </tr>\n",
              "    <tr>\n",
              "      <th>2018-Jul</th>\n",
              "      <td>IOOS</td>\n",
              "      <td>968256.0</td>\n",
              "      <td>219828.0</td>\n",
              "      <td>1188084.0</td>\n",
              "    </tr>\n",
              "    <tr>\n",
              "      <th>2018-Aug</th>\n",
              "      <td>IOOS</td>\n",
              "      <td>1005594.0</td>\n",
              "      <td>219026.0</td>\n",
              "      <td>1224620.0</td>\n",
              "    </tr>\n",
              "    <tr>\n",
              "      <th>2018-Sep</th>\n",
              "      <td>IOOS</td>\n",
              "      <td>982458.0</td>\n",
              "      <td>209388.0</td>\n",
              "      <td>1191846.0</td>\n",
              "    </tr>\n",
              "    <tr>\n",
              "      <th>2018-Oct</th>\n",
              "      <td>IOOS</td>\n",
              "      <td>943064.0</td>\n",
              "      <td>163854.0</td>\n",
              "      <td>1106918.0</td>\n",
              "    </tr>\n",
              "    <tr>\n",
              "      <th>2018-Nov</th>\n",
              "      <td>IOOS</td>\n",
              "      <td>839958.0</td>\n",
              "      <td>85022.0</td>\n",
              "      <td>924980.0</td>\n",
              "    </tr>\n",
              "    <tr>\n",
              "      <th>2018-Dec</th>\n",
              "      <td>IOOS</td>\n",
              "      <td>772470.0</td>\n",
              "      <td>64300.0</td>\n",
              "      <td>836770.0</td>\n",
              "    </tr>\n",
              "    <tr>\n",
              "      <th>2018-Jan</th>\n",
              "      <td>NDBC</td>\n",
              "      <td>411384.0</td>\n",
              "      <td>119406.0</td>\n",
              "      <td>530790.0</td>\n",
              "    </tr>\n",
              "    <tr>\n",
              "      <th>2018-Feb</th>\n",
              "      <td>NDBC</td>\n",
              "      <td>370334.0</td>\n",
              "      <td>106596.0</td>\n",
              "      <td>476930.0</td>\n",
              "    </tr>\n",
              "    <tr>\n",
              "      <th>2018-Mar</th>\n",
              "      <td>NDBC</td>\n",
              "      <td>461226.0</td>\n",
              "      <td>123534.0</td>\n",
              "      <td>584760.0</td>\n",
              "    </tr>\n",
              "    <tr>\n",
              "      <th>2018-Apr</th>\n",
              "      <td>NDBC</td>\n",
              "      <td>461870.0</td>\n",
              "      <td>122252.0</td>\n",
              "      <td>584122.0</td>\n",
              "    </tr>\n",
              "    <tr>\n",
              "      <th>2018-May</th>\n",
              "      <td>NDBC</td>\n",
              "      <td>506686.0</td>\n",
              "      <td>131240.0</td>\n",
              "      <td>637926.0</td>\n",
              "    </tr>\n",
              "    <tr>\n",
              "      <th>2018-Jun</th>\n",
              "      <td>NDBC</td>\n",
              "      <td>480946.0</td>\n",
              "      <td>126072.0</td>\n",
              "      <td>607018.0</td>\n",
              "    </tr>\n",
              "    <tr>\n",
              "      <th>2018-Jul</th>\n",
              "      <td>NDBC</td>\n",
              "      <td>486638.0</td>\n",
              "      <td>128870.0</td>\n",
              "      <td>615508.0</td>\n",
              "    </tr>\n",
              "    <tr>\n",
              "      <th>2018-Aug</th>\n",
              "      <td>NDBC</td>\n",
              "      <td>503048.0</td>\n",
              "      <td>135858.0</td>\n",
              "      <td>638906.0</td>\n",
              "    </tr>\n",
              "    <tr>\n",
              "      <th>2018-Sep</th>\n",
              "      <td>NDBC</td>\n",
              "      <td>488906.0</td>\n",
              "      <td>131110.0</td>\n",
              "      <td>620016.0</td>\n",
              "    </tr>\n",
              "    <tr>\n",
              "      <th>2018-Oct</th>\n",
              "      <td>NDBC</td>\n",
              "      <td>513202.0</td>\n",
              "      <td>134184.0</td>\n",
              "      <td>647386.0</td>\n",
              "    </tr>\n",
              "    <tr>\n",
              "      <th>2018-Nov</th>\n",
              "      <td>NDBC</td>\n",
              "      <td>490862.0</td>\n",
              "      <td>125246.0</td>\n",
              "      <td>616108.0</td>\n",
              "    </tr>\n",
              "    <tr>\n",
              "      <th>2018-Dec</th>\n",
              "      <td>NDBC</td>\n",
              "      <td>397704.0</td>\n",
              "      <td>99050.0</td>\n",
              "      <td>496754.0</td>\n",
              "    </tr>\n",
              "    <tr>\n",
              "      <th>2018-Jan</th>\n",
              "      <td>non-NDBC</td>\n",
              "      <td>4302942.0</td>\n",
              "      <td>185918.0</td>\n",
              "      <td>4488860.0</td>\n",
              "    </tr>\n",
              "    <tr>\n",
              "      <th>2018-Feb</th>\n",
              "      <td>non-NDBC</td>\n",
              "      <td>3859286.0</td>\n",
              "      <td>169298.0</td>\n",
              "      <td>4028584.0</td>\n",
              "    </tr>\n",
              "    <tr>\n",
              "      <th>2018-Mar</th>\n",
              "      <td>non-NDBC</td>\n",
              "      <td>4233350.0</td>\n",
              "      <td>189658.0</td>\n",
              "      <td>4423008.0</td>\n",
              "    </tr>\n",
              "    <tr>\n",
              "      <th>2018-Apr</th>\n",
              "      <td>non-NDBC</td>\n",
              "      <td>4152756.0</td>\n",
              "      <td>181056.0</td>\n",
              "      <td>4333812.0</td>\n",
              "    </tr>\n",
              "    <tr>\n",
              "      <th>2018-May</th>\n",
              "      <td>non-NDBC</td>\n",
              "      <td>4298992.0</td>\n",
              "      <td>203102.0</td>\n",
              "      <td>4502094.0</td>\n",
              "    </tr>\n",
              "    <tr>\n",
              "      <th>2018-Jun</th>\n",
              "      <td>non-NDBC</td>\n",
              "      <td>4168078.0</td>\n",
              "      <td>205200.0</td>\n",
              "      <td>4373278.0</td>\n",
              "    </tr>\n",
              "    <tr>\n",
              "      <th>2018-Jul</th>\n",
              "      <td>non-NDBC</td>\n",
              "      <td>4366426.0</td>\n",
              "      <td>214430.0</td>\n",
              "      <td>4580856.0</td>\n",
              "    </tr>\n",
              "    <tr>\n",
              "      <th>2018-Aug</th>\n",
              "      <td>non-NDBC</td>\n",
              "      <td>4288474.0</td>\n",
              "      <td>203468.0</td>\n",
              "      <td>4491942.0</td>\n",
              "    </tr>\n",
              "    <tr>\n",
              "      <th>2018-Sep</th>\n",
              "      <td>non-NDBC</td>\n",
              "      <td>4164656.0</td>\n",
              "      <td>203910.0</td>\n",
              "      <td>4368566.0</td>\n",
              "    </tr>\n",
              "    <tr>\n",
              "      <th>2018-Oct</th>\n",
              "      <td>non-NDBC</td>\n",
              "      <td>4416664.0</td>\n",
              "      <td>200214.0</td>\n",
              "      <td>4616878.0</td>\n",
              "    </tr>\n",
              "    <tr>\n",
              "      <th>2018-Nov</th>\n",
              "      <td>non-NDBC</td>\n",
              "      <td>4249324.0</td>\n",
              "      <td>177116.0</td>\n",
              "      <td>4426440.0</td>\n",
              "    </tr>\n",
              "    <tr>\n",
              "      <th>2018-Dec</th>\n",
              "      <td>non-NDBC</td>\n",
              "      <td>3543444.0</td>\n",
              "      <td>146712.0</td>\n",
              "      <td>3690156.0</td>\n",
              "    </tr>\n",
              "  </tbody>\n",
              "</table>\n",
              "</div>\n",
              "      <button class=\"colab-df-convert\" onclick=\"convertToInteractive('df-716d3a54-24a3-4229-b547-06541612eabe')\"\n",
              "              title=\"Convert this dataframe to an interactive table.\"\n",
              "              style=\"display:none;\">\n",
              "        \n",
              "  <svg xmlns=\"http://www.w3.org/2000/svg\" height=\"24px\"viewBox=\"0 0 24 24\"\n",
              "       width=\"24px\">\n",
              "    <path d=\"M0 0h24v24H0V0z\" fill=\"none\"/>\n",
              "    <path d=\"M18.56 5.44l.94 2.06.94-2.06 2.06-.94-2.06-.94-.94-2.06-.94 2.06-2.06.94zm-11 1L8.5 8.5l.94-2.06 2.06-.94-2.06-.94L8.5 2.5l-.94 2.06-2.06.94zm10 10l.94 2.06.94-2.06 2.06-.94-2.06-.94-.94-2.06-.94 2.06-2.06.94z\"/><path d=\"M17.41 7.96l-1.37-1.37c-.4-.4-.92-.59-1.43-.59-.52 0-1.04.2-1.43.59L10.3 9.45l-7.72 7.72c-.78.78-.78 2.05 0 2.83L4 21.41c.39.39.9.59 1.41.59.51 0 1.02-.2 1.41-.59l7.78-7.78 2.81-2.81c.8-.78.8-2.07 0-2.86zM5.41 20L4 18.59l7.72-7.72 1.47 1.35L5.41 20z\"/>\n",
              "  </svg>\n",
              "      </button>\n",
              "      \n",
              "  <style>\n",
              "    .colab-df-container {\n",
              "      display:flex;\n",
              "      flex-wrap:wrap;\n",
              "      gap: 12px;\n",
              "    }\n",
              "\n",
              "    .colab-df-convert {\n",
              "      background-color: #E8F0FE;\n",
              "      border: none;\n",
              "      border-radius: 50%;\n",
              "      cursor: pointer;\n",
              "      display: none;\n",
              "      fill: #1967D2;\n",
              "      height: 32px;\n",
              "      padding: 0 0 0 0;\n",
              "      width: 32px;\n",
              "    }\n",
              "\n",
              "    .colab-df-convert:hover {\n",
              "      background-color: #E2EBFA;\n",
              "      box-shadow: 0px 1px 2px rgba(60, 64, 67, 0.3), 0px 1px 3px 1px rgba(60, 64, 67, 0.15);\n",
              "      fill: #174EA6;\n",
              "    }\n",
              "\n",
              "    [theme=dark] .colab-df-convert {\n",
              "      background-color: #3B4455;\n",
              "      fill: #D2E3FC;\n",
              "    }\n",
              "\n",
              "    [theme=dark] .colab-df-convert:hover {\n",
              "      background-color: #434B5C;\n",
              "      box-shadow: 0px 1px 3px 1px rgba(0, 0, 0, 0.15);\n",
              "      filter: drop-shadow(0px 1px 2px rgba(0, 0, 0, 0.3));\n",
              "      fill: #FFFFFF;\n",
              "    }\n",
              "  </style>\n",
              "\n",
              "      <script>\n",
              "        const buttonEl =\n",
              "          document.querySelector('#df-716d3a54-24a3-4229-b547-06541612eabe button.colab-df-convert');\n",
              "        buttonEl.style.display =\n",
              "          google.colab.kernel.accessAllowed ? 'block' : 'none';\n",
              "\n",
              "        async function convertToInteractive(key) {\n",
              "          const element = document.querySelector('#df-716d3a54-24a3-4229-b547-06541612eabe');\n",
              "          const dataTable =\n",
              "            await google.colab.kernel.invokeFunction('convertToInteractive',\n",
              "                                                     [key], {});\n",
              "          if (!dataTable) return;\n",
              "\n",
              "          const docLinkHtml = 'Like what you see? Visit the ' +\n",
              "            '<a target=\"_blank\" href=https://colab.research.google.com/notebooks/data_table.ipynb>data table notebook</a>'\n",
              "            + ' to learn more about interactive tables.';\n",
              "          element.innerHTML = '';\n",
              "          dataTable['output_type'] = 'display_data';\n",
              "          await google.colab.output.renderOutput(dataTable, element);\n",
              "          const docLink = document.createElement('div');\n",
              "          docLink.innerHTML = docLinkHtml;\n",
              "          element.appendChild(docLink);\n",
              "        }\n",
              "      </script>\n",
              "    </div>\n",
              "  </div>\n",
              "  "
            ]
          },
          "metadata": {},
          "execution_count": 195
        }
      ]
    },
    {
      "cell_type": "markdown",
      "source": [
        "# Create stacked bar chart"
      ],
      "metadata": {
        "id": "Qp5OoPgLRURB"
      }
    },
    {
      "cell_type": "code",
      "source": [
        "import matplotlib.pyplot as plt\n",
        "from matplotlib.ticker import (MultipleLocator,\n",
        "                               FormatStrFormatter,\n",
        "                               AutoMinorLocator,\n",
        "                               FuncFormatter)\n",
        "\n",
        "fig, axs = plt.subplots(figsize=(10,8))\n",
        "\n",
        "df_final = pd.DataFrame({'IOOS': totals.loc[totals['source']=='IOOS','total'],\n",
        "                         'non-NDBC': totals.loc[totals['source']=='non-NDBC','total'],\n",
        "                         'NDBC': totals.loc[totals['source']=='NDBC','total'],\n",
        "                         },\n",
        "                         index= totals.index.unique())\n",
        "\n",
        "df_final.plot.bar(stacked=True, xlabel='', ax=axs, rot=90)\n",
        "\n",
        "axs.legend(loc='center',bbox_to_anchor=(0.5,-0.16,0,0),ncol=3)\n",
        "\n",
        "axs.grid(axis='y')\n",
        "\n",
        "axs.yaxis.set_major_formatter(FuncFormatter(lambda x, p: format(int(x), ',')))"
      ],
      "metadata": {
        "colab": {
          "base_uri": "https://localhost:8080/",
          "height": 764
        },
        "id": "0iN6qHYtAhgU",
        "outputId": "065fa2dd-ab81-4306-d109-41fc38f05ec5"
      },
      "execution_count": 203,
      "outputs": [
        {
          "output_type": "display_data",
          "data": {
            "text/plain": [
              "<Figure size 1000x800 with 1 Axes>"
            ],
            "image/png": "[encoded data removed]"
          },
          "metadata": {}
        }
      ]
    },
    {
      "cell_type": "code",
      "source": [],
      "metadata": {
        "id": "nQ6vj87mJ-rY"
      },
      "execution_count": null,
      "outputs": []
    }
  ],
  "metadata": {
    "colab": {
      "provenance": [],
      "include_colab_link": true
    },
    "kernelspec": {
      "display_name": "Python 3 (ipykernel)",
      "language": "python",
      "name": "python3"
    },
    "language_info": {
      "codemirror_mode": {
        "name": "ipython",
        "version": 3
      },
      "file_extension": ".py",
      "mimetype": "text/x-python",
      "name": "python",
      "nbconvert_exporter": "python",
      "pygments_lexer": "ipython3",
      "version": "3.11.0"
    }
  },
  "nbformat": 4,
  "nbformat_minor": 0
}